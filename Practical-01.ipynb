{
 "cells": [
  {
   "cell_type": "code",
   "execution_count": 1042,
   "id": "ac2f5ef8",
   "metadata": {},
   "outputs": [],
   "source": [
    "import pandas as pd\n",
    "import numpy as np\n",
    "import math\n",
    "from sklearn.metrics import mean_squared_error\n",
    "from sklearn.impute import KNNImputer\n",
    "import scipy\n",
    "\n",
    "missing_values = ['?', 'NA', 'None', 'N/A']\n",
    "df = pd.read_csv(\"auto-mpg.data\", sep='\\s+', na_values = missing_values)"
   ]
  },
  {
   "cell_type": "code",
   "execution_count": 991,
   "id": "a0cecd1d",
   "metadata": {},
   "outputs": [
    {
     "data": {
      "text/plain": [
       "0      False\n",
       "1      False\n",
       "2      False\n",
       "3      False\n",
       "4      False\n",
       "       ...  \n",
       "395    False\n",
       "396    False\n",
       "397    False\n",
       "398    False\n",
       "399    False\n",
       "Length: 400, dtype: bool"
      ]
     },
     "execution_count": 991,
     "metadata": {},
     "output_type": "execute_result"
    }
   ],
   "source": [
    "df.duplicated()\n",
    "#df.mpg.duplicated()  #Duplicates in specific column\n",
    "#df.drop_duplicates(keep='last')"
   ]
  },
  {
   "cell_type": "code",
   "execution_count": 992,
   "id": "fc9c11bb",
   "metadata": {},
   "outputs": [
    {
     "data": {
      "text/plain": [
       "271"
      ]
     },
     "execution_count": 992,
     "metadata": {},
     "output_type": "execute_result"
    }
   ],
   "source": [
    "df.mpg.duplicated().sum()"
   ]
  },
  {
   "cell_type": "code",
   "execution_count": 993,
   "id": "ec2e068d",
   "metadata": {},
   "outputs": [
    {
     "data": {
      "text/plain": [
       "2"
      ]
     },
     "execution_count": 993,
     "metadata": {},
     "output_type": "execute_result"
    }
   ],
   "source": [
    "df.duplicated().sum()"
   ]
  },
  {
   "cell_type": "code",
   "execution_count": 994,
   "id": "0c9e2cc1",
   "metadata": {},
   "outputs": [
    {
     "data": {
      "text/plain": [
       "398"
      ]
     },
     "execution_count": 994,
     "metadata": {},
     "output_type": "execute_result"
    }
   ],
   "source": [
    "(~df.duplicated()).sum()"
   ]
  },
  {
   "cell_type": "code",
   "execution_count": 995,
   "id": "ff0da007",
   "metadata": {},
   "outputs": [
    {
     "data": {
      "text/html": [
       "<div>\n",
       "<style scoped>\n",
       "    .dataframe tbody tr th:only-of-type {\n",
       "        vertical-align: middle;\n",
       "    }\n",
       "\n",
       "    .dataframe tbody tr th {\n",
       "        vertical-align: top;\n",
       "    }\n",
       "\n",
       "    .dataframe thead th {\n",
       "        text-align: right;\n",
       "    }\n",
       "</style>\n",
       "<table border=\"1\" class=\"dataframe\">\n",
       "  <thead>\n",
       "    <tr style=\"text-align: right;\">\n",
       "      <th></th>\n",
       "      <th>mpg</th>\n",
       "      <th>cylinders</th>\n",
       "      <th>displacement</th>\n",
       "      <th>horsepower</th>\n",
       "      <th>weight</th>\n",
       "      <th>acceleration</th>\n",
       "      <th>model_year</th>\n",
       "      <th>origin</th>\n",
       "      <th>car_name</th>\n",
       "    </tr>\n",
       "  </thead>\n",
       "  <tbody>\n",
       "    <tr>\n",
       "      <th>96</th>\n",
       "      <td>16.0</td>\n",
       "      <td>6</td>\n",
       "      <td>225.0</td>\n",
       "      <td>105.0</td>\n",
       "      <td>3439.0</td>\n",
       "      <td>15.5</td>\n",
       "      <td>71</td>\n",
       "      <td>1</td>\n",
       "      <td>plymouth satellite custom</td>\n",
       "    </tr>\n",
       "    <tr>\n",
       "      <th>158</th>\n",
       "      <td>13.0</td>\n",
       "      <td>8</td>\n",
       "      <td>351.0</td>\n",
       "      <td>158.0</td>\n",
       "      <td>4363.0</td>\n",
       "      <td>13.0</td>\n",
       "      <td>73</td>\n",
       "      <td>1</td>\n",
       "      <td>ford ltd</td>\n",
       "    </tr>\n",
       "  </tbody>\n",
       "</table>\n",
       "</div>"
      ],
      "text/plain": [
       "      mpg  cylinders  displacement  horsepower  weight  acceleration  \\\n",
       "96   16.0          6         225.0       105.0  3439.0          15.5   \n",
       "158  13.0          8         351.0       158.0  4363.0          13.0   \n",
       "\n",
       "     model_year  origin                   car_name  \n",
       "96           71       1  plymouth satellite custom  \n",
       "158          73       1                   ford ltd  "
      ]
     },
     "execution_count": 995,
     "metadata": {},
     "output_type": "execute_result"
    }
   ],
   "source": [
    "df.loc[df.duplicated(), :]"
   ]
  },
  {
   "cell_type": "code",
   "execution_count": 996,
   "id": "05dc97c4",
   "metadata": {},
   "outputs": [
    {
     "data": {
      "text/html": [
       "<div>\n",
       "<style scoped>\n",
       "    .dataframe tbody tr th:only-of-type {\n",
       "        vertical-align: middle;\n",
       "    }\n",
       "\n",
       "    .dataframe tbody tr th {\n",
       "        vertical-align: top;\n",
       "    }\n",
       "\n",
       "    .dataframe thead th {\n",
       "        text-align: right;\n",
       "    }\n",
       "</style>\n",
       "<table border=\"1\" class=\"dataframe\">\n",
       "  <thead>\n",
       "    <tr style=\"text-align: right;\">\n",
       "      <th></th>\n",
       "      <th>mpg</th>\n",
       "      <th>cylinders</th>\n",
       "      <th>displacement</th>\n",
       "      <th>horsepower</th>\n",
       "      <th>weight</th>\n",
       "      <th>acceleration</th>\n",
       "      <th>model_year</th>\n",
       "      <th>origin</th>\n",
       "      <th>car_name</th>\n",
       "    </tr>\n",
       "  </thead>\n",
       "  <tbody>\n",
       "    <tr>\n",
       "      <th>96</th>\n",
       "      <td>16.0</td>\n",
       "      <td>6</td>\n",
       "      <td>225.0</td>\n",
       "      <td>105.0</td>\n",
       "      <td>3439.0</td>\n",
       "      <td>15.5</td>\n",
       "      <td>71</td>\n",
       "      <td>1</td>\n",
       "      <td>plymouth satellite custom</td>\n",
       "    </tr>\n",
       "    <tr>\n",
       "      <th>158</th>\n",
       "      <td>13.0</td>\n",
       "      <td>8</td>\n",
       "      <td>351.0</td>\n",
       "      <td>158.0</td>\n",
       "      <td>4363.0</td>\n",
       "      <td>13.0</td>\n",
       "      <td>73</td>\n",
       "      <td>1</td>\n",
       "      <td>ford ltd</td>\n",
       "    </tr>\n",
       "  </tbody>\n",
       "</table>\n",
       "</div>"
      ],
      "text/plain": [
       "      mpg  cylinders  displacement  horsepower  weight  acceleration  \\\n",
       "96   16.0          6         225.0       105.0  3439.0          15.5   \n",
       "158  13.0          8         351.0       158.0  4363.0          13.0   \n",
       "\n",
       "     model_year  origin                   car_name  \n",
       "96           71       1  plymouth satellite custom  \n",
       "158          73       1                   ford ltd  "
      ]
     },
     "execution_count": 996,
     "metadata": {},
     "output_type": "execute_result"
    }
   ],
   "source": [
    "df.loc[df.duplicated(keep='first'), :]  #keep one duplicated record and delete other record(s)"
   ]
  },
  {
   "cell_type": "code",
   "execution_count": 997,
   "id": "165c2042",
   "metadata": {},
   "outputs": [],
   "source": [
    "x_df = df.drop_duplicates()"
   ]
  },
  {
   "cell_type": "code",
   "execution_count": 998,
   "id": "631ea301",
   "metadata": {},
   "outputs": [],
   "source": [
    "#x_df.head(99)"
   ]
  },
  {
   "cell_type": "code",
   "execution_count": 999,
   "id": "0ad9da52",
   "metadata": {},
   "outputs": [
    {
     "data": {
      "text/plain": [
       "398"
      ]
     },
     "execution_count": 999,
     "metadata": {},
     "output_type": "execute_result"
    }
   ],
   "source": [
    "len(x_df)"
   ]
  },
  {
   "cell_type": "code",
   "execution_count": 1000,
   "id": "cd718edf",
   "metadata": {},
   "outputs": [
    {
     "data": {
      "text/plain": [
       "3582"
      ]
     },
     "execution_count": 1000,
     "metadata": {},
     "output_type": "execute_result"
    }
   ],
   "source": [
    "x_df.size"
   ]
  },
  {
   "cell_type": "code",
   "execution_count": 1001,
   "id": "0a6bf1bc",
   "metadata": {},
   "outputs": [
    {
     "data": {
      "text/plain": [
       "(398, 9)"
      ]
     },
     "execution_count": 1001,
     "metadata": {},
     "output_type": "execute_result"
    }
   ],
   "source": [
    "x_df.shape   # dimension of data frame after removing duplicates"
   ]
  },
  {
   "cell_type": "code",
   "execution_count": 1002,
   "id": "6c4f7fe8",
   "metadata": {},
   "outputs": [
    {
     "data": {
      "text/plain": [
       "0      False\n",
       "1      False\n",
       "2      False\n",
       "3      False\n",
       "4      False\n",
       "       ...  \n",
       "395    False\n",
       "396    False\n",
       "397    False\n",
       "398    False\n",
       "399    False\n",
       "Name: horsepower, Length: 398, dtype: bool"
      ]
     },
     "execution_count": 1002,
     "metadata": {},
     "output_type": "execute_result"
    }
   ],
   "source": [
    "x_df['horsepower'].isna()"
   ]
  },
  {
   "cell_type": "code",
   "execution_count": 1003,
   "id": "2712929a",
   "metadata": {},
   "outputs": [
    {
     "data": {
      "text/plain": [
       "6"
      ]
     },
     "execution_count": 1003,
     "metadata": {},
     "output_type": "execute_result"
    }
   ],
   "source": [
    "x_df['horsepower'].isna().sum()"
   ]
  },
  {
   "cell_type": "code",
   "execution_count": 1004,
   "id": "58304655",
   "metadata": {},
   "outputs": [
    {
     "data": {
      "text/plain": [
       "6"
      ]
     },
     "execution_count": 1004,
     "metadata": {},
     "output_type": "execute_result"
    }
   ],
   "source": [
    "x_df['horsepower'].isnull().sum()"
   ]
  },
  {
   "cell_type": "code",
   "execution_count": 1005,
   "id": "dea80bfb",
   "metadata": {},
   "outputs": [
    {
     "data": {
      "text/plain": [
       "mpg             0\n",
       "cylinders       0\n",
       "displacement    0\n",
       "horsepower      6\n",
       "weight          0\n",
       "acceleration    0\n",
       "model_year      0\n",
       "origin          0\n",
       "car_name        0\n",
       "dtype: int64"
      ]
     },
     "execution_count": 1005,
     "metadata": {},
     "output_type": "execute_result"
    }
   ],
   "source": [
    "x_df.isnull().sum()"
   ]
  },
  {
   "cell_type": "code",
   "execution_count": 1006,
   "id": "5297f995",
   "metadata": {},
   "outputs": [
    {
     "data": {
      "text/plain": [
       "(398, 9)"
      ]
     },
     "execution_count": 1006,
     "metadata": {},
     "output_type": "execute_result"
    }
   ],
   "source": [
    "x_df.shape"
   ]
  },
  {
   "cell_type": "code",
   "execution_count": 1007,
   "id": "4d77b773",
   "metadata": {},
   "outputs": [],
   "source": [
    "x_df_d = x_df.dropna()"
   ]
  },
  {
   "cell_type": "code",
   "execution_count": 1008,
   "id": "e1f77e27",
   "metadata": {},
   "outputs": [
    {
     "data": {
      "text/plain": [
       "(392, 9)"
      ]
     },
     "execution_count": 1008,
     "metadata": {},
     "output_type": "execute_result"
    }
   ],
   "source": [
    "x_df_d.shape"
   ]
  },
  {
   "cell_type": "code",
   "execution_count": 1009,
   "id": "648bdd68",
   "metadata": {},
   "outputs": [
    {
     "data": {
      "text/html": [
       "<div>\n",
       "<style scoped>\n",
       "    .dataframe tbody tr th:only-of-type {\n",
       "        vertical-align: middle;\n",
       "    }\n",
       "\n",
       "    .dataframe tbody tr th {\n",
       "        vertical-align: top;\n",
       "    }\n",
       "\n",
       "    .dataframe thead th {\n",
       "        text-align: right;\n",
       "    }\n",
       "</style>\n",
       "<table border=\"1\" class=\"dataframe\">\n",
       "  <thead>\n",
       "    <tr style=\"text-align: right;\">\n",
       "      <th></th>\n",
       "      <th>mpg</th>\n",
       "      <th>cylinders</th>\n",
       "      <th>displacement</th>\n",
       "      <th>horsepower</th>\n",
       "      <th>weight</th>\n",
       "      <th>acceleration</th>\n",
       "      <th>model_year</th>\n",
       "      <th>origin</th>\n",
       "      <th>car_name</th>\n",
       "    </tr>\n",
       "  </thead>\n",
       "  <tbody>\n",
       "    <tr>\n",
       "      <th>73</th>\n",
       "      <td>13.0</td>\n",
       "      <td>8</td>\n",
       "      <td>307.0</td>\n",
       "      <td>130.0</td>\n",
       "      <td>4098.0</td>\n",
       "      <td>14.0</td>\n",
       "      <td>72</td>\n",
       "      <td>1</td>\n",
       "      <td>chevrolet chevelle concours (sw)</td>\n",
       "    </tr>\n",
       "    <tr>\n",
       "      <th>148</th>\n",
       "      <td>24.0</td>\n",
       "      <td>4</td>\n",
       "      <td>90.0</td>\n",
       "      <td>75.0</td>\n",
       "      <td>2108.0</td>\n",
       "      <td>15.5</td>\n",
       "      <td>74</td>\n",
       "      <td>2</td>\n",
       "      <td>fiat 128</td>\n",
       "    </tr>\n",
       "    <tr>\n",
       "      <th>377</th>\n",
       "      <td>36.0</td>\n",
       "      <td>4</td>\n",
       "      <td>105.0</td>\n",
       "      <td>74.0</td>\n",
       "      <td>1980.0</td>\n",
       "      <td>15.3</td>\n",
       "      <td>82</td>\n",
       "      <td>2</td>\n",
       "      <td>volkswagen rabbit l</td>\n",
       "    </tr>\n",
       "    <tr>\n",
       "      <th>144</th>\n",
       "      <td>26.0</td>\n",
       "      <td>4</td>\n",
       "      <td>97.0</td>\n",
       "      <td>78.0</td>\n",
       "      <td>2300.0</td>\n",
       "      <td>14.5</td>\n",
       "      <td>74</td>\n",
       "      <td>2</td>\n",
       "      <td>opel manta</td>\n",
       "    </tr>\n",
       "    <tr>\n",
       "      <th>161</th>\n",
       "      <td>14.0</td>\n",
       "      <td>8</td>\n",
       "      <td>351.0</td>\n",
       "      <td>148.0</td>\n",
       "      <td>4657.0</td>\n",
       "      <td>13.5</td>\n",
       "      <td>75</td>\n",
       "      <td>1</td>\n",
       "      <td>ford ltd</td>\n",
       "    </tr>\n",
       "  </tbody>\n",
       "</table>\n",
       "</div>"
      ],
      "text/plain": [
       "      mpg  cylinders  displacement  horsepower  weight  acceleration  \\\n",
       "73   13.0          8         307.0       130.0  4098.0          14.0   \n",
       "148  24.0          4          90.0        75.0  2108.0          15.5   \n",
       "377  36.0          4         105.0        74.0  1980.0          15.3   \n",
       "144  26.0          4          97.0        78.0  2300.0          14.5   \n",
       "161  14.0          8         351.0       148.0  4657.0          13.5   \n",
       "\n",
       "     model_year  origin                          car_name  \n",
       "73           72       1  chevrolet chevelle concours (sw)  \n",
       "148          74       2                          fiat 128  \n",
       "377          82       2               volkswagen rabbit l  \n",
       "144          74       2                        opel manta  \n",
       "161          75       1                          ford ltd  "
      ]
     },
     "execution_count": 1009,
     "metadata": {},
     "output_type": "execute_result"
    }
   ],
   "source": [
    "from sklearn.model_selection import train_test_split\n",
    "\n",
    "x = x_df_d.iloc[:, :]\n",
    "y = x_df_d.iloc[:, ]\n",
    "\n",
    "x_train,x_test,y_train,y_test=train_test_split(x,y,random_state=42,test_size=0.1)\n",
    "x_train.head()"
   ]
  },
  {
   "cell_type": "code",
   "execution_count": 1010,
   "id": "f1f5ba63",
   "metadata": {},
   "outputs": [
    {
     "data": {
      "text/plain": [
       "(40, 9)"
      ]
     },
     "execution_count": 1010,
     "metadata": {},
     "output_type": "execute_result"
    }
   ],
   "source": [
    "x_test.shape"
   ]
  },
  {
   "cell_type": "code",
   "execution_count": 1011,
   "id": "443bbf64",
   "metadata": {},
   "outputs": [
    {
     "data": {
      "text/html": [
       "<div>\n",
       "<style scoped>\n",
       "    .dataframe tbody tr th:only-of-type {\n",
       "        vertical-align: middle;\n",
       "    }\n",
       "\n",
       "    .dataframe tbody tr th {\n",
       "        vertical-align: top;\n",
       "    }\n",
       "\n",
       "    .dataframe thead th {\n",
       "        text-align: right;\n",
       "    }\n",
       "</style>\n",
       "<table border=\"1\" class=\"dataframe\">\n",
       "  <thead>\n",
       "    <tr style=\"text-align: right;\">\n",
       "      <th></th>\n",
       "      <th>mpg</th>\n",
       "      <th>cylinders</th>\n",
       "      <th>displacement</th>\n",
       "      <th>horsepower</th>\n",
       "      <th>weight</th>\n",
       "      <th>acceleration</th>\n",
       "      <th>model_year</th>\n",
       "      <th>origin</th>\n",
       "      <th>car_name</th>\n",
       "    </tr>\n",
       "  </thead>\n",
       "  <tbody>\n",
       "    <tr>\n",
       "      <th>79</th>\n",
       "      <td>26.0</td>\n",
       "      <td>4</td>\n",
       "      <td>96.0</td>\n",
       "      <td>69.0</td>\n",
       "      <td>2189.0</td>\n",
       "      <td>18.0</td>\n",
       "      <td>72</td>\n",
       "      <td>2</td>\n",
       "      <td>renault 12 (sw)</td>\n",
       "    </tr>\n",
       "    <tr>\n",
       "      <th>278</th>\n",
       "      <td>21.6</td>\n",
       "      <td>4</td>\n",
       "      <td>121.0</td>\n",
       "      <td>115.0</td>\n",
       "      <td>2795.0</td>\n",
       "      <td>15.7</td>\n",
       "      <td>78</td>\n",
       "      <td>2</td>\n",
       "      <td>saab 99gle</td>\n",
       "    </tr>\n",
       "    <tr>\n",
       "      <th>250</th>\n",
       "      <td>36.1</td>\n",
       "      <td>4</td>\n",
       "      <td>91.0</td>\n",
       "      <td>60.0</td>\n",
       "      <td>1800.0</td>\n",
       "      <td>16.4</td>\n",
       "      <td>78</td>\n",
       "      <td>3</td>\n",
       "      <td>honda civic cvcc</td>\n",
       "    </tr>\n",
       "    <tr>\n",
       "      <th>56</th>\n",
       "      <td>26.0</td>\n",
       "      <td>4</td>\n",
       "      <td>91.0</td>\n",
       "      <td>70.0</td>\n",
       "      <td>1955.0</td>\n",
       "      <td>20.5</td>\n",
       "      <td>71</td>\n",
       "      <td>1</td>\n",
       "      <td>plymouth cricket</td>\n",
       "    </tr>\n",
       "    <tr>\n",
       "      <th>395</th>\n",
       "      <td>27.0</td>\n",
       "      <td>4</td>\n",
       "      <td>140.0</td>\n",
       "      <td>86.0</td>\n",
       "      <td>2790.0</td>\n",
       "      <td>15.6</td>\n",
       "      <td>82</td>\n",
       "      <td>1</td>\n",
       "      <td>ford mustang gl</td>\n",
       "    </tr>\n",
       "  </tbody>\n",
       "</table>\n",
       "</div>"
      ],
      "text/plain": [
       "      mpg  cylinders  displacement  horsepower  weight  acceleration  \\\n",
       "79   26.0          4          96.0        69.0  2189.0          18.0   \n",
       "278  21.6          4         121.0       115.0  2795.0          15.7   \n",
       "250  36.1          4          91.0        60.0  1800.0          16.4   \n",
       "56   26.0          4          91.0        70.0  1955.0          20.5   \n",
       "395  27.0          4         140.0        86.0  2790.0          15.6   \n",
       "\n",
       "     model_year  origin          car_name  \n",
       "79           72       2   renault 12 (sw)  \n",
       "278          78       2        saab 99gle  \n",
       "250          78       3  honda civic cvcc  \n",
       "56           71       1  plymouth cricket  \n",
       "395          82       1   ford mustang gl  "
      ]
     },
     "execution_count": 1011,
     "metadata": {},
     "output_type": "execute_result"
    }
   ],
   "source": [
    "x_test.head()"
   ]
  },
  {
   "cell_type": "markdown",
   "id": "68762bbd",
   "metadata": {},
   "source": [
    "# part 2 (d)"
   ]
  },
  {
   "cell_type": "code",
   "execution_count": 976,
   "id": "4302d03c",
   "metadata": {},
   "outputs": [],
   "source": [
    "x_actaul = x_test['horsepower']"
   ]
  },
  {
   "cell_type": "code",
   "execution_count": 977,
   "id": "cc9173c4",
   "metadata": {},
   "outputs": [],
   "source": [
    "x_test['x_actual'] = x_actual"
   ]
  },
  {
   "cell_type": "code",
   "execution_count": 1014,
   "id": "bb278817",
   "metadata": {},
   "outputs": [],
   "source": [
    "x_test['horsepower'] = None"
   ]
  },
  {
   "cell_type": "code",
   "execution_count": 979,
   "id": "05bebba8",
   "metadata": {},
   "outputs": [],
   "source": [
    "x_predicted = []"
   ]
  },
  {
   "cell_type": "code",
   "execution_count": 982,
   "id": "3ee696dd",
   "metadata": {},
   "outputs": [],
   "source": [
    "x_predicted = x_test['horsepower'].fillna(x_train['horsepower'].mean())"
   ]
  },
  {
   "cell_type": "code",
   "execution_count": 983,
   "id": "6cf604b5",
   "metadata": {},
   "outputs": [],
   "source": [
    "x_test['x_predicted'] = x_predicted #imputed"
   ]
  },
  {
   "cell_type": "code",
   "execution_count": 1015,
   "id": "7b139593",
   "metadata": {},
   "outputs": [],
   "source": [
    "x_test['horsepower'] = x_test['horsepower'].fillna(x_train['horsepower'].mean())"
   ]
  },
  {
   "cell_type": "code",
   "execution_count": 925,
   "id": "5f3121b0",
   "metadata": {},
   "outputs": [],
   "source": [
    "# err = x_test['x_predicted'] - x_test['x_actual']\n",
    "# x_test['err'] = err"
   ]
  },
  {
   "cell_type": "code",
   "execution_count": 926,
   "id": "a29a1dfa",
   "metadata": {},
   "outputs": [],
   "source": [
    "# sq_err = x_test['err'] * x_test['err']\n",
    "# x_test['sq_err'] = sq_err"
   ]
  },
  {
   "cell_type": "code",
   "execution_count": 1040,
   "id": "bda84b85",
   "metadata": {},
   "outputs": [
    {
     "data": {
      "text/plain": [
       "39.0307007964458"
      ]
     },
     "execution_count": 1040,
     "metadata": {},
     "output_type": "execute_result"
    }
   ],
   "source": [
    "MSE = np.square(np.subtract(x_actual,x_predicted)).mean() \n",
    "RMSE = math.sqrt(MSE)\n",
    "RMSE"
   ]
  },
  {
   "cell_type": "markdown",
   "id": "7883f063",
   "metadata": {},
   "source": [
    "# part 2 (e)"
   ]
  },
  {
   "cell_type": "code",
   "execution_count": 1041,
   "id": "bac0341b",
   "metadata": {},
   "outputs": [
    {
     "data": {
      "text/html": [
       "<div>\n",
       "<style scoped>\n",
       "    .dataframe tbody tr th:only-of-type {\n",
       "        vertical-align: middle;\n",
       "    }\n",
       "\n",
       "    .dataframe tbody tr th {\n",
       "        vertical-align: top;\n",
       "    }\n",
       "\n",
       "    .dataframe thead th {\n",
       "        text-align: right;\n",
       "    }\n",
       "</style>\n",
       "<table border=\"1\" class=\"dataframe\">\n",
       "  <thead>\n",
       "    <tr style=\"text-align: right;\">\n",
       "      <th></th>\n",
       "      <th>mpg</th>\n",
       "      <th>cylinders</th>\n",
       "      <th>displacement</th>\n",
       "      <th>horsepower</th>\n",
       "      <th>weight</th>\n",
       "      <th>acceleration</th>\n",
       "      <th>model_year</th>\n",
       "      <th>origin</th>\n",
       "      <th>car_name</th>\n",
       "    </tr>\n",
       "  </thead>\n",
       "  <tbody>\n",
       "    <tr>\n",
       "      <th>79</th>\n",
       "      <td>26.0</td>\n",
       "      <td>4</td>\n",
       "      <td>96.0</td>\n",
       "      <td>104.997159</td>\n",
       "      <td>2189.0</td>\n",
       "      <td>18.0</td>\n",
       "      <td>72</td>\n",
       "      <td>2</td>\n",
       "      <td>renault 12 (sw)</td>\n",
       "    </tr>\n",
       "    <tr>\n",
       "      <th>278</th>\n",
       "      <td>21.6</td>\n",
       "      <td>4</td>\n",
       "      <td>121.0</td>\n",
       "      <td>104.997159</td>\n",
       "      <td>2795.0</td>\n",
       "      <td>15.7</td>\n",
       "      <td>78</td>\n",
       "      <td>2</td>\n",
       "      <td>saab 99gle</td>\n",
       "    </tr>\n",
       "    <tr>\n",
       "      <th>250</th>\n",
       "      <td>36.1</td>\n",
       "      <td>4</td>\n",
       "      <td>91.0</td>\n",
       "      <td>104.997159</td>\n",
       "      <td>1800.0</td>\n",
       "      <td>16.4</td>\n",
       "      <td>78</td>\n",
       "      <td>3</td>\n",
       "      <td>honda civic cvcc</td>\n",
       "    </tr>\n",
       "    <tr>\n",
       "      <th>56</th>\n",
       "      <td>26.0</td>\n",
       "      <td>4</td>\n",
       "      <td>91.0</td>\n",
       "      <td>104.997159</td>\n",
       "      <td>1955.0</td>\n",
       "      <td>20.5</td>\n",
       "      <td>71</td>\n",
       "      <td>1</td>\n",
       "      <td>plymouth cricket</td>\n",
       "    </tr>\n",
       "    <tr>\n",
       "      <th>395</th>\n",
       "      <td>27.0</td>\n",
       "      <td>4</td>\n",
       "      <td>140.0</td>\n",
       "      <td>104.997159</td>\n",
       "      <td>2790.0</td>\n",
       "      <td>15.6</td>\n",
       "      <td>82</td>\n",
       "      <td>1</td>\n",
       "      <td>ford mustang gl</td>\n",
       "    </tr>\n",
       "  </tbody>\n",
       "</table>\n",
       "</div>"
      ],
      "text/plain": [
       "      mpg  cylinders  displacement  horsepower  weight  acceleration  \\\n",
       "79   26.0          4          96.0  104.997159  2189.0          18.0   \n",
       "278  21.6          4         121.0  104.997159  2795.0          15.7   \n",
       "250  36.1          4          91.0  104.997159  1800.0          16.4   \n",
       "56   26.0          4          91.0  104.997159  1955.0          20.5   \n",
       "395  27.0          4         140.0  104.997159  2790.0          15.6   \n",
       "\n",
       "     model_year  origin          car_name  \n",
       "79           72       2   renault 12 (sw)  \n",
       "278          78       2        saab 99gle  \n",
       "250          78       3  honda civic cvcc  \n",
       "56           71       1  plymouth cricket  \n",
       "395          82       1   ford mustang gl  "
      ]
     },
     "execution_count": 1041,
     "metadata": {},
     "output_type": "execute_result"
    }
   ],
   "source": [
    "x_test.head()"
   ]
  },
  {
   "cell_type": "code",
   "execution_count": 1017,
   "id": "3e62a978",
   "metadata": {},
   "outputs": [],
   "source": [
    "#df_weight = pd.DataFrame(x_test['weight'])"
   ]
  },
  {
   "cell_type": "code",
   "execution_count": 1018,
   "id": "a80a558a",
   "metadata": {},
   "outputs": [],
   "source": [
    "X = [x_test['weight']]"
   ]
  },
  {
   "cell_type": "code",
   "execution_count": 1019,
   "id": "054dd25f",
   "metadata": {},
   "outputs": [],
   "source": [
    "imputer = KNNImputer(n_neighbors=1)\n",
    "X_predicted = imputer.fit_transform(X)"
   ]
  },
  {
   "cell_type": "code",
   "execution_count": 1020,
   "id": "6e411d6e",
   "metadata": {},
   "outputs": [],
   "source": [
    "imputer = KNNImputer(n_neighbors=3)\n",
    "X_predicted = imputer.fit_transform(X)"
   ]
  },
  {
   "cell_type": "code",
   "execution_count": 1021,
   "id": "1ec75282",
   "metadata": {},
   "outputs": [],
   "source": [
    "imputer = KNNImputer(n_neighbors=5)\n",
    "X_predicted = imputer.fit_transform(X)"
   ]
  },
  {
   "cell_type": "code",
   "execution_count": 1022,
   "id": "8080f5cb",
   "metadata": {},
   "outputs": [],
   "source": [
    "X_actual = [x_test['weight']]"
   ]
  },
  {
   "cell_type": "code",
   "execution_count": 1023,
   "id": "87fc11b4",
   "metadata": {},
   "outputs": [],
   "source": [
    "#len(X_actual)"
   ]
  },
  {
   "cell_type": "code",
   "execution_count": 1024,
   "id": "77cfcd85",
   "metadata": {},
   "outputs": [
    {
     "data": {
      "text/plain": [
       "0.0"
      ]
     },
     "execution_count": 1024,
     "metadata": {},
     "output_type": "execute_result"
    }
   ],
   "source": [
    "MSE_weight = np.square(np.subtract(X,X_predicted)).mean() \n",
    "RMSE_weight = math.sqrt(MSE_weight)\n",
    "RMSE_weight"
   ]
  },
  {
   "cell_type": "code",
   "execution_count": 1025,
   "id": "7ca83285",
   "metadata": {},
   "outputs": [],
   "source": [
    "Y = [x_test['acceleration']]"
   ]
  },
  {
   "cell_type": "code",
   "execution_count": 1026,
   "id": "086298c2",
   "metadata": {},
   "outputs": [],
   "source": [
    "imputer = KNNImputer(n_neighbors=1)\n",
    "Y_predicted = imputer.fit_transform(Y)"
   ]
  },
  {
   "cell_type": "code",
   "execution_count": 1027,
   "id": "81b84c30",
   "metadata": {},
   "outputs": [],
   "source": [
    "imputer = KNNImputer(n_neighbors=3)\n",
    "Y_predicted = imputer.fit_transform(Y)"
   ]
  },
  {
   "cell_type": "code",
   "execution_count": 1028,
   "id": "31a48d4a",
   "metadata": {},
   "outputs": [],
   "source": [
    "imputer = KNNImputer(n_neighbors=5)\n",
    "Y_predicted = imputer.fit_transform(Y)"
   ]
  },
  {
   "cell_type": "code",
   "execution_count": 1029,
   "id": "7960c186",
   "metadata": {},
   "outputs": [
    {
     "data": {
      "text/plain": [
       "0.0"
      ]
     },
     "execution_count": 1029,
     "metadata": {},
     "output_type": "execute_result"
    }
   ],
   "source": [
    "MSE_acc = np.square(np.subtract(Y,Y_predicted)).mean() \n",
    "RMSE_acc = math.sqrt(MSE_acc)\n",
    "RMSE_acc"
   ]
  },
  {
   "cell_type": "code",
   "execution_count": 1030,
   "id": "4f4da879",
   "metadata": {},
   "outputs": [],
   "source": [
    "Z = [x_test['displacement']]"
   ]
  },
  {
   "cell_type": "code",
   "execution_count": 1031,
   "id": "522f67dc",
   "metadata": {},
   "outputs": [],
   "source": [
    "imputer = KNNImputer(n_neighbors=1)\n",
    "Z_predicted = imputer.fit_transform(Z)"
   ]
  },
  {
   "cell_type": "code",
   "execution_count": 1032,
   "id": "0cbcd836",
   "metadata": {},
   "outputs": [],
   "source": [
    "imputer = KNNImputer(n_neighbors=3)\n",
    "Z_predicted = imputer.fit_transform(Z)"
   ]
  },
  {
   "cell_type": "code",
   "execution_count": 1033,
   "id": "287a0328",
   "metadata": {},
   "outputs": [],
   "source": [
    "imputer = KNNImputer(n_neighbors=5)\n",
    "Z_predicted = imputer.fit_transform(Z)"
   ]
  },
  {
   "cell_type": "code",
   "execution_count": 1034,
   "id": "152e9f0c",
   "metadata": {},
   "outputs": [
    {
     "data": {
      "text/plain": [
       "0.0"
      ]
     },
     "execution_count": 1034,
     "metadata": {},
     "output_type": "execute_result"
    }
   ],
   "source": [
    "MSE_disp = np.square(np.subtract(Z,Z_predicted)).mean() \n",
    "RMSE_disp = math.sqrt(MSE_disp)\n",
    "RMSE_disp"
   ]
  },
  {
   "cell_type": "code",
   "execution_count": 1035,
   "id": "04477a67",
   "metadata": {},
   "outputs": [],
   "source": [
    "W = [x_test['mpg']]"
   ]
  },
  {
   "cell_type": "code",
   "execution_count": 1036,
   "id": "cdd4a1a9",
   "metadata": {},
   "outputs": [],
   "source": [
    "imputer = KNNImputer(n_neighbors=1)\n",
    "W_predicted = imputer.fit_transform(W)"
   ]
  },
  {
   "cell_type": "code",
   "execution_count": 1037,
   "id": "79f3d175",
   "metadata": {},
   "outputs": [],
   "source": [
    "imputer = KNNImputer(n_neighbors=3)\n",
    "W_predicted = imputer.fit_transform(W)"
   ]
  },
  {
   "cell_type": "code",
   "execution_count": 1038,
   "id": "62fa2e0a",
   "metadata": {},
   "outputs": [],
   "source": [
    "imputer = KNNImputer(n_neighbors=5)\n",
    "W_predicted = imputer.fit_transform(W)"
   ]
  },
  {
   "cell_type": "code",
   "execution_count": 1039,
   "id": "c2ba5d9a",
   "metadata": {},
   "outputs": [
    {
     "data": {
      "text/plain": [
       "0.0"
      ]
     },
     "execution_count": 1039,
     "metadata": {},
     "output_type": "execute_result"
    }
   ],
   "source": [
    "MSE_mpg = np.square(np.subtract(W,W_predicted)).mean() \n",
    "RMSE_mpg = math.sqrt(MSE_disp)\n",
    "RMSE_mpg"
   ]
  },
  {
   "cell_type": "markdown",
   "id": "47a74f76",
   "metadata": {},
   "source": [
    "# part 3 (a)"
   ]
  },
  {
   "cell_type": "code",
   "execution_count": 1048,
   "id": "e6c7b89e",
   "metadata": {},
   "outputs": [
    {
     "data": {
      "text/plain": [
       "0.4327155462555823"
      ]
     },
     "execution_count": 1048,
     "metadata": {},
     "output_type": "execute_result"
    }
   ],
   "source": [
    "#skewness\n",
    "from scipy.stats import skew \n",
    "skew(x_test['mpg'], axis=0, bias=True)   #the distribution is positively skewed"
   ]
  },
  {
   "cell_type": "code",
   "execution_count": 1049,
   "id": "14d14f7d",
   "metadata": {},
   "outputs": [
    {
     "data": {
      "text/plain": [
       "-0.27787721173866453"
      ]
     },
     "execution_count": 1049,
     "metadata": {},
     "output_type": "execute_result"
    }
   ],
   "source": [
    "#kurtosis\n",
    "from scipy.stats import kurtosis\n",
    "kurtosis(x_test['mpg'], axis=0, bias=True)     #the distribution has more values in the tails compared to a normal distribution."
   ]
  },
  {
   "cell_type": "code",
   "execution_count": 1051,
   "id": "3a57f27a",
   "metadata": {},
   "outputs": [
    {
     "data": {
      "image/png": "[encoded data removed]",
      "text/plain": [
       "<Figure size 360x360 with 1 Axes>"
      ]
     },
     "metadata": {
      "needs_background": "light"
     },
     "output_type": "display_data"
    }
   ],
   "source": [
    "# Draw the histogram using the seaborn distplot function\n",
    "import matplotlib.pyplot as plt\n",
    "import seaborn as sns\n",
    "\n",
    "sns.displot(x_test['mpg'],bins=30,kde=False)\n",
    "plt.show()"
   ]
  },
  {
   "cell_type": "code",
   "execution_count": null,
   "id": "fabf3ae1",
   "metadata": {},
   "outputs": [],
   "source": []
  }
 ],
 "metadata": {
  "kernelspec": {
   "display_name": "Python 3 (ipykernel)",
   "language": "python",
   "name": "python3"
  },
  "language_info": {
   "codemirror_mode": {
    "name": "ipython",
    "version": 3
   },
   "file_extension": ".py",
   "mimetype": "text/x-python",
   "name": "python",
   "nbconvert_exporter": "python",
   "pygments_lexer": "ipython3",
   "version": "3.9.12"
  }
 },
 "nbformat": 4,
 "nbformat_minor": 5
}
