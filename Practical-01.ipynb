{
 "cells": [
  {
   "cell_type": "code",
   "execution_count": 1555,
   "id": "ac2f5ef8",
   "metadata": {},
   "outputs": [],
   "source": [
    "import pandas as pd\n",
    "import numpy as np\n",
    "import math\n",
    "from sklearn.metrics import mean_squared_error\n",
    "from sklearn.impute import KNNImputer\n",
    "import scipy\n",
    "import matplotlib.pyplot as plt\n",
    "\n",
    "missing_values = ['?', 'NA', 'None', 'N/A']\n",
    "df = pd.read_csv(\"auto-mpg.data\", sep='\\s+', na_values = missing_values)"
   ]
  },
  {
   "cell_type": "code",
   "execution_count": 1556,
   "id": "a0cecd1d",
   "metadata": {},
   "outputs": [
    {
     "data": {
      "text/plain": [
       "0      False\n",
       "1      False\n",
       "2      False\n",
       "3      False\n",
       "4      False\n",
       "       ...  \n",
       "395    False\n",
       "396    False\n",
       "397    False\n",
       "398    False\n",
       "399    False\n",
       "Length: 400, dtype: bool"
      ]
     },
     "execution_count": 1556,
     "metadata": {},
     "output_type": "execute_result"
    }
   ],
   "source": [
    "df.duplicated()\n",
    "#df.mpg.duplicated()  #Duplicates in specific column\n",
    "#df.drop_duplicates(keep='last')"
   ]
  },
  {
   "cell_type": "code",
   "execution_count": 1557,
   "id": "fc9c11bb",
   "metadata": {},
   "outputs": [
    {
     "data": {
      "text/plain": [
       "271"
      ]
     },
     "execution_count": 1557,
     "metadata": {},
     "output_type": "execute_result"
    }
   ],
   "source": [
    "df.mpg.duplicated().sum()"
   ]
  },
  {
   "cell_type": "code",
   "execution_count": 1558,
   "id": "ec2e068d",
   "metadata": {},
   "outputs": [
    {
     "data": {
      "text/plain": [
       "2"
      ]
     },
     "execution_count": 1558,
     "metadata": {},
     "output_type": "execute_result"
    }
   ],
   "source": [
    "df.duplicated().sum()"
   ]
  },
  {
   "cell_type": "code",
   "execution_count": 1559,
   "id": "0c9e2cc1",
   "metadata": {},
   "outputs": [
    {
     "data": {
      "text/plain": [
       "398"
      ]
     },
     "execution_count": 1559,
     "metadata": {},
     "output_type": "execute_result"
    }
   ],
   "source": [
    "(~df.duplicated()).sum()"
   ]
  },
  {
   "cell_type": "code",
   "execution_count": 1560,
   "id": "ff0da007",
   "metadata": {},
   "outputs": [
    {
     "data": {
      "text/html": [
       "<div>\n",
       "<style scoped>\n",
       "    .dataframe tbody tr th:only-of-type {\n",
       "        vertical-align: middle;\n",
       "    }\n",
       "\n",
       "    .dataframe tbody tr th {\n",
       "        vertical-align: top;\n",
       "    }\n",
       "\n",
       "    .dataframe thead th {\n",
       "        text-align: right;\n",
       "    }\n",
       "</style>\n",
       "<table border=\"1\" class=\"dataframe\">\n",
       "  <thead>\n",
       "    <tr style=\"text-align: right;\">\n",
       "      <th></th>\n",
       "      <th>mpg</th>\n",
       "      <th>cylinders</th>\n",
       "      <th>displacement</th>\n",
       "      <th>horsepower</th>\n",
       "      <th>weight</th>\n",
       "      <th>acceleration</th>\n",
       "      <th>model_year</th>\n",
       "      <th>origin</th>\n",
       "      <th>car_name</th>\n",
       "    </tr>\n",
       "  </thead>\n",
       "  <tbody>\n",
       "    <tr>\n",
       "      <th>96</th>\n",
       "      <td>16.0</td>\n",
       "      <td>6</td>\n",
       "      <td>225.0</td>\n",
       "      <td>105.0</td>\n",
       "      <td>3439.0</td>\n",
       "      <td>15.5</td>\n",
       "      <td>71</td>\n",
       "      <td>1</td>\n",
       "      <td>plymouth satellite custom</td>\n",
       "    </tr>\n",
       "    <tr>\n",
       "      <th>158</th>\n",
       "      <td>13.0</td>\n",
       "      <td>8</td>\n",
       "      <td>351.0</td>\n",
       "      <td>158.0</td>\n",
       "      <td>4363.0</td>\n",
       "      <td>13.0</td>\n",
       "      <td>73</td>\n",
       "      <td>1</td>\n",
       "      <td>ford ltd</td>\n",
       "    </tr>\n",
       "  </tbody>\n",
       "</table>\n",
       "</div>"
      ],
      "text/plain": [
       "      mpg  cylinders  displacement  horsepower  weight  acceleration  \\\n",
       "96   16.0          6         225.0       105.0  3439.0          15.5   \n",
       "158  13.0          8         351.0       158.0  4363.0          13.0   \n",
       "\n",
       "     model_year  origin                   car_name  \n",
       "96           71       1  plymouth satellite custom  \n",
       "158          73       1                   ford ltd  "
      ]
     },
     "execution_count": 1560,
     "metadata": {},
     "output_type": "execute_result"
    }
   ],
   "source": [
    "df.loc[df.duplicated(), :]"
   ]
  },
  {
   "cell_type": "code",
   "execution_count": 1561,
   "id": "05dc97c4",
   "metadata": {},
   "outputs": [
    {
     "data": {
      "text/html": [
       "<div>\n",
       "<style scoped>\n",
       "    .dataframe tbody tr th:only-of-type {\n",
       "        vertical-align: middle;\n",
       "    }\n",
       "\n",
       "    .dataframe tbody tr th {\n",
       "        vertical-align: top;\n",
       "    }\n",
       "\n",
       "    .dataframe thead th {\n",
       "        text-align: right;\n",
       "    }\n",
       "</style>\n",
       "<table border=\"1\" class=\"dataframe\">\n",
       "  <thead>\n",
       "    <tr style=\"text-align: right;\">\n",
       "      <th></th>\n",
       "      <th>mpg</th>\n",
       "      <th>cylinders</th>\n",
       "      <th>displacement</th>\n",
       "      <th>horsepower</th>\n",
       "      <th>weight</th>\n",
       "      <th>acceleration</th>\n",
       "      <th>model_year</th>\n",
       "      <th>origin</th>\n",
       "      <th>car_name</th>\n",
       "    </tr>\n",
       "  </thead>\n",
       "  <tbody>\n",
       "    <tr>\n",
       "      <th>96</th>\n",
       "      <td>16.0</td>\n",
       "      <td>6</td>\n",
       "      <td>225.0</td>\n",
       "      <td>105.0</td>\n",
       "      <td>3439.0</td>\n",
       "      <td>15.5</td>\n",
       "      <td>71</td>\n",
       "      <td>1</td>\n",
       "      <td>plymouth satellite custom</td>\n",
       "    </tr>\n",
       "    <tr>\n",
       "      <th>158</th>\n",
       "      <td>13.0</td>\n",
       "      <td>8</td>\n",
       "      <td>351.0</td>\n",
       "      <td>158.0</td>\n",
       "      <td>4363.0</td>\n",
       "      <td>13.0</td>\n",
       "      <td>73</td>\n",
       "      <td>1</td>\n",
       "      <td>ford ltd</td>\n",
       "    </tr>\n",
       "  </tbody>\n",
       "</table>\n",
       "</div>"
      ],
      "text/plain": [
       "      mpg  cylinders  displacement  horsepower  weight  acceleration  \\\n",
       "96   16.0          6         225.0       105.0  3439.0          15.5   \n",
       "158  13.0          8         351.0       158.0  4363.0          13.0   \n",
       "\n",
       "     model_year  origin                   car_name  \n",
       "96           71       1  plymouth satellite custom  \n",
       "158          73       1                   ford ltd  "
      ]
     },
     "execution_count": 1561,
     "metadata": {},
     "output_type": "execute_result"
    }
   ],
   "source": [
    "df.loc[df.duplicated(keep='first'), :]  #keep one duplicated record and delete other record(s)"
   ]
  },
  {
   "cell_type": "code",
   "execution_count": 1562,
   "id": "165c2042",
   "metadata": {},
   "outputs": [],
   "source": [
    "x_df = df.drop_duplicates()"
   ]
  },
  {
   "cell_type": "code",
   "execution_count": 1563,
   "id": "631ea301",
   "metadata": {},
   "outputs": [],
   "source": [
    "# x_df -> dataset does not have duplicates"
   ]
  },
  {
   "cell_type": "code",
   "execution_count": 1564,
   "id": "0ad9da52",
   "metadata": {},
   "outputs": [
    {
     "data": {
      "text/plain": [
       "398"
      ]
     },
     "execution_count": 1564,
     "metadata": {},
     "output_type": "execute_result"
    }
   ],
   "source": [
    "len(x_df)"
   ]
  },
  {
   "cell_type": "code",
   "execution_count": 1565,
   "id": "cd718edf",
   "metadata": {},
   "outputs": [
    {
     "data": {
      "text/plain": [
       "3582"
      ]
     },
     "execution_count": 1565,
     "metadata": {},
     "output_type": "execute_result"
    }
   ],
   "source": [
    "x_df.size"
   ]
  },
  {
   "cell_type": "code",
   "execution_count": 1566,
   "id": "0a6bf1bc",
   "metadata": {},
   "outputs": [
    {
     "data": {
      "text/plain": [
       "(398, 9)"
      ]
     },
     "execution_count": 1566,
     "metadata": {},
     "output_type": "execute_result"
    }
   ],
   "source": [
    "x_df.shape   # dimension of data frame after removing duplicates"
   ]
  },
  {
   "cell_type": "code",
   "execution_count": 1567,
   "id": "6c4f7fe8",
   "metadata": {},
   "outputs": [
    {
     "data": {
      "text/plain": [
       "0      False\n",
       "1      False\n",
       "2      False\n",
       "3      False\n",
       "4      False\n",
       "       ...  \n",
       "395    False\n",
       "396    False\n",
       "397    False\n",
       "398    False\n",
       "399    False\n",
       "Name: horsepower, Length: 398, dtype: bool"
      ]
     },
     "execution_count": 1567,
     "metadata": {},
     "output_type": "execute_result"
    }
   ],
   "source": [
    "x_df['horsepower'].isna()"
   ]
  },
  {
   "cell_type": "code",
   "execution_count": 1568,
   "id": "2712929a",
   "metadata": {},
   "outputs": [
    {
     "data": {
      "text/plain": [
       "6"
      ]
     },
     "execution_count": 1568,
     "metadata": {},
     "output_type": "execute_result"
    }
   ],
   "source": [
    "x_df['horsepower'].isna().sum()"
   ]
  },
  {
   "cell_type": "code",
   "execution_count": 1569,
   "id": "58304655",
   "metadata": {},
   "outputs": [
    {
     "data": {
      "text/plain": [
       "6"
      ]
     },
     "execution_count": 1569,
     "metadata": {},
     "output_type": "execute_result"
    }
   ],
   "source": [
    "x_df['horsepower'].isnull().sum()"
   ]
  },
  {
   "cell_type": "code",
   "execution_count": 1570,
   "id": "dea80bfb",
   "metadata": {},
   "outputs": [
    {
     "data": {
      "text/plain": [
       "mpg             0\n",
       "cylinders       0\n",
       "displacement    0\n",
       "horsepower      6\n",
       "weight          0\n",
       "acceleration    0\n",
       "model_year      0\n",
       "origin          0\n",
       "car_name        0\n",
       "dtype: int64"
      ]
     },
     "execution_count": 1570,
     "metadata": {},
     "output_type": "execute_result"
    }
   ],
   "source": [
    "x_df.isnull().sum()"
   ]
  },
  {
   "cell_type": "code",
   "execution_count": 1571,
   "id": "5297f995",
   "metadata": {},
   "outputs": [
    {
     "data": {
      "text/plain": [
       "(398, 9)"
      ]
     },
     "execution_count": 1571,
     "metadata": {},
     "output_type": "execute_result"
    }
   ],
   "source": [
    "x_df.shape"
   ]
  },
  {
   "cell_type": "code",
   "execution_count": 1572,
   "id": "4d77b773",
   "metadata": {},
   "outputs": [],
   "source": [
    "x_df_d = x_df.dropna()"
   ]
  },
  {
   "cell_type": "code",
   "execution_count": 1573,
   "id": "e1f77e27",
   "metadata": {},
   "outputs": [
    {
     "data": {
      "text/plain": [
       "(392, 9)"
      ]
     },
     "execution_count": 1573,
     "metadata": {},
     "output_type": "execute_result"
    }
   ],
   "source": [
    "x_df_d.shape"
   ]
  },
  {
   "cell_type": "code",
   "execution_count": 1574,
   "id": "648bdd68",
   "metadata": {},
   "outputs": [
    {
     "data": {
      "text/html": [
       "<div>\n",
       "<style scoped>\n",
       "    .dataframe tbody tr th:only-of-type {\n",
       "        vertical-align: middle;\n",
       "    }\n",
       "\n",
       "    .dataframe tbody tr th {\n",
       "        vertical-align: top;\n",
       "    }\n",
       "\n",
       "    .dataframe thead th {\n",
       "        text-align: right;\n",
       "    }\n",
       "</style>\n",
       "<table border=\"1\" class=\"dataframe\">\n",
       "  <thead>\n",
       "    <tr style=\"text-align: right;\">\n",
       "      <th></th>\n",
       "      <th>mpg</th>\n",
       "      <th>cylinders</th>\n",
       "      <th>displacement</th>\n",
       "      <th>horsepower</th>\n",
       "      <th>weight</th>\n",
       "      <th>acceleration</th>\n",
       "      <th>model_year</th>\n",
       "      <th>origin</th>\n",
       "      <th>car_name</th>\n",
       "    </tr>\n",
       "  </thead>\n",
       "  <tbody>\n",
       "    <tr>\n",
       "      <th>73</th>\n",
       "      <td>13.0</td>\n",
       "      <td>8</td>\n",
       "      <td>307.0</td>\n",
       "      <td>130.0</td>\n",
       "      <td>4098.0</td>\n",
       "      <td>14.0</td>\n",
       "      <td>72</td>\n",
       "      <td>1</td>\n",
       "      <td>chevrolet chevelle concours (sw)</td>\n",
       "    </tr>\n",
       "    <tr>\n",
       "      <th>148</th>\n",
       "      <td>24.0</td>\n",
       "      <td>4</td>\n",
       "      <td>90.0</td>\n",
       "      <td>75.0</td>\n",
       "      <td>2108.0</td>\n",
       "      <td>15.5</td>\n",
       "      <td>74</td>\n",
       "      <td>2</td>\n",
       "      <td>fiat 128</td>\n",
       "    </tr>\n",
       "    <tr>\n",
       "      <th>377</th>\n",
       "      <td>36.0</td>\n",
       "      <td>4</td>\n",
       "      <td>105.0</td>\n",
       "      <td>74.0</td>\n",
       "      <td>1980.0</td>\n",
       "      <td>15.3</td>\n",
       "      <td>82</td>\n",
       "      <td>2</td>\n",
       "      <td>volkswagen rabbit l</td>\n",
       "    </tr>\n",
       "    <tr>\n",
       "      <th>144</th>\n",
       "      <td>26.0</td>\n",
       "      <td>4</td>\n",
       "      <td>97.0</td>\n",
       "      <td>78.0</td>\n",
       "      <td>2300.0</td>\n",
       "      <td>14.5</td>\n",
       "      <td>74</td>\n",
       "      <td>2</td>\n",
       "      <td>opel manta</td>\n",
       "    </tr>\n",
       "    <tr>\n",
       "      <th>161</th>\n",
       "      <td>14.0</td>\n",
       "      <td>8</td>\n",
       "      <td>351.0</td>\n",
       "      <td>148.0</td>\n",
       "      <td>4657.0</td>\n",
       "      <td>13.5</td>\n",
       "      <td>75</td>\n",
       "      <td>1</td>\n",
       "      <td>ford ltd</td>\n",
       "    </tr>\n",
       "  </tbody>\n",
       "</table>\n",
       "</div>"
      ],
      "text/plain": [
       "      mpg  cylinders  displacement  horsepower  weight  acceleration  \\\n",
       "73   13.0          8         307.0       130.0  4098.0          14.0   \n",
       "148  24.0          4          90.0        75.0  2108.0          15.5   \n",
       "377  36.0          4         105.0        74.0  1980.0          15.3   \n",
       "144  26.0          4          97.0        78.0  2300.0          14.5   \n",
       "161  14.0          8         351.0       148.0  4657.0          13.5   \n",
       "\n",
       "     model_year  origin                          car_name  \n",
       "73           72       1  chevrolet chevelle concours (sw)  \n",
       "148          74       2                          fiat 128  \n",
       "377          82       2               volkswagen rabbit l  \n",
       "144          74       2                        opel manta  \n",
       "161          75       1                          ford ltd  "
      ]
     },
     "execution_count": 1574,
     "metadata": {},
     "output_type": "execute_result"
    }
   ],
   "source": [
    "from sklearn.model_selection import train_test_split\n",
    "\n",
    "x = x_df_d.iloc[:, :]\n",
    "y = x_df_d.iloc[:, ]\n",
    "\n",
    "x_train,x_test,y_train,y_test=train_test_split(x,y,random_state=42,test_size=0.1)\n",
    "x_train.head()"
   ]
  },
  {
   "cell_type": "code",
   "execution_count": 1575,
   "id": "968f8889",
   "metadata": {},
   "outputs": [
    {
     "data": {
      "text/plain": [
       "(40, 9)"
      ]
     },
     "execution_count": 1575,
     "metadata": {},
     "output_type": "execute_result"
    }
   ],
   "source": [
    "x_test.shape"
   ]
  },
  {
   "cell_type": "code",
   "execution_count": 1576,
   "id": "e7a847d9",
   "metadata": {},
   "outputs": [
    {
     "data": {
      "text/html": [
       "<div>\n",
       "<style scoped>\n",
       "    .dataframe tbody tr th:only-of-type {\n",
       "        vertical-align: middle;\n",
       "    }\n",
       "\n",
       "    .dataframe tbody tr th {\n",
       "        vertical-align: top;\n",
       "    }\n",
       "\n",
       "    .dataframe thead th {\n",
       "        text-align: right;\n",
       "    }\n",
       "</style>\n",
       "<table border=\"1\" class=\"dataframe\">\n",
       "  <thead>\n",
       "    <tr style=\"text-align: right;\">\n",
       "      <th></th>\n",
       "      <th>mpg</th>\n",
       "      <th>cylinders</th>\n",
       "      <th>displacement</th>\n",
       "      <th>horsepower</th>\n",
       "      <th>weight</th>\n",
       "      <th>acceleration</th>\n",
       "      <th>model_year</th>\n",
       "      <th>origin</th>\n",
       "      <th>car_name</th>\n",
       "    </tr>\n",
       "  </thead>\n",
       "  <tbody>\n",
       "    <tr>\n",
       "      <th>79</th>\n",
       "      <td>26.0</td>\n",
       "      <td>4</td>\n",
       "      <td>96.0</td>\n",
       "      <td>69.0</td>\n",
       "      <td>2189.0</td>\n",
       "      <td>18.0</td>\n",
       "      <td>72</td>\n",
       "      <td>2</td>\n",
       "      <td>renault 12 (sw)</td>\n",
       "    </tr>\n",
       "    <tr>\n",
       "      <th>278</th>\n",
       "      <td>21.6</td>\n",
       "      <td>4</td>\n",
       "      <td>121.0</td>\n",
       "      <td>115.0</td>\n",
       "      <td>2795.0</td>\n",
       "      <td>15.7</td>\n",
       "      <td>78</td>\n",
       "      <td>2</td>\n",
       "      <td>saab 99gle</td>\n",
       "    </tr>\n",
       "    <tr>\n",
       "      <th>250</th>\n",
       "      <td>36.1</td>\n",
       "      <td>4</td>\n",
       "      <td>91.0</td>\n",
       "      <td>60.0</td>\n",
       "      <td>1800.0</td>\n",
       "      <td>16.4</td>\n",
       "      <td>78</td>\n",
       "      <td>3</td>\n",
       "      <td>honda civic cvcc</td>\n",
       "    </tr>\n",
       "    <tr>\n",
       "      <th>56</th>\n",
       "      <td>26.0</td>\n",
       "      <td>4</td>\n",
       "      <td>91.0</td>\n",
       "      <td>70.0</td>\n",
       "      <td>1955.0</td>\n",
       "      <td>20.5</td>\n",
       "      <td>71</td>\n",
       "      <td>1</td>\n",
       "      <td>plymouth cricket</td>\n",
       "    </tr>\n",
       "    <tr>\n",
       "      <th>395</th>\n",
       "      <td>27.0</td>\n",
       "      <td>4</td>\n",
       "      <td>140.0</td>\n",
       "      <td>86.0</td>\n",
       "      <td>2790.0</td>\n",
       "      <td>15.6</td>\n",
       "      <td>82</td>\n",
       "      <td>1</td>\n",
       "      <td>ford mustang gl</td>\n",
       "    </tr>\n",
       "  </tbody>\n",
       "</table>\n",
       "</div>"
      ],
      "text/plain": [
       "      mpg  cylinders  displacement  horsepower  weight  acceleration  \\\n",
       "79   26.0          4          96.0        69.0  2189.0          18.0   \n",
       "278  21.6          4         121.0       115.0  2795.0          15.7   \n",
       "250  36.1          4          91.0        60.0  1800.0          16.4   \n",
       "56   26.0          4          91.0        70.0  1955.0          20.5   \n",
       "395  27.0          4         140.0        86.0  2790.0          15.6   \n",
       "\n",
       "     model_year  origin          car_name  \n",
       "79           72       2   renault 12 (sw)  \n",
       "278          78       2        saab 99gle  \n",
       "250          78       3  honda civic cvcc  \n",
       "56           71       1  plymouth cricket  \n",
       "395          82       1   ford mustang gl  "
      ]
     },
     "execution_count": 1576,
     "metadata": {},
     "output_type": "execute_result"
    }
   ],
   "source": [
    "x_test.head()"
   ]
  },
  {
   "cell_type": "markdown",
   "id": "72b31b30",
   "metadata": {},
   "source": [
    "# part 2 (d)"
   ]
  },
  {
   "cell_type": "code",
   "execution_count": 1577,
   "id": "33e0cd40",
   "metadata": {},
   "outputs": [],
   "source": [
    "x_actaul = x_test['horsepower']"
   ]
  },
  {
   "cell_type": "code",
   "execution_count": 1578,
   "id": "9e73ad9d",
   "metadata": {},
   "outputs": [],
   "source": [
    "x_test['x_actual'] = x_actual"
   ]
  },
  {
   "cell_type": "code",
   "execution_count": 1579,
   "id": "613ce269",
   "metadata": {},
   "outputs": [],
   "source": [
    "x_test['horsepower'] = None"
   ]
  },
  {
   "cell_type": "code",
   "execution_count": 1580,
   "id": "40e6b870",
   "metadata": {},
   "outputs": [],
   "source": [
    "x_predicted = []"
   ]
  },
  {
   "cell_type": "code",
   "execution_count": 1581,
   "id": "4878ae58",
   "metadata": {},
   "outputs": [],
   "source": [
    "x_predicted = x_test['horsepower'].fillna(x_train['horsepower'].mean())"
   ]
  },
  {
   "cell_type": "code",
   "execution_count": 1582,
   "id": "9653e5e8",
   "metadata": {},
   "outputs": [],
   "source": [
    "x_test['x_predicted'] = x_predicted #imputed"
   ]
  },
  {
   "cell_type": "code",
   "execution_count": 1583,
   "id": "f078804d",
   "metadata": {},
   "outputs": [],
   "source": [
    "x_test['horsepower'] = x_test['horsepower'].fillna(x_train['horsepower'].mean())"
   ]
  },
  {
   "cell_type": "code",
   "execution_count": 1584,
   "id": "f0dea80d",
   "metadata": {},
   "outputs": [],
   "source": [
    "# err = x_test['x_predicted'] - x_test['x_actual']\n",
    "# x_test['err'] = err"
   ]
  },
  {
   "cell_type": "code",
   "execution_count": 1585,
   "id": "85178329",
   "metadata": {},
   "outputs": [],
   "source": [
    "# sq_err = x_test['err'] * x_test['err']\n",
    "# x_test['sq_err'] = sq_err"
   ]
  },
  {
   "cell_type": "code",
   "execution_count": 1586,
   "id": "95bc1c1b",
   "metadata": {},
   "outputs": [
    {
     "data": {
      "text/plain": [
       "39.0307007964458"
      ]
     },
     "execution_count": 1586,
     "metadata": {},
     "output_type": "execute_result"
    }
   ],
   "source": [
    "MSE = np.square(np.subtract(x_actual,x_predicted)).mean() \n",
    "RMSE = math.sqrt(MSE)\n",
    "RMSE"
   ]
  },
  {
   "cell_type": "markdown",
   "id": "cbffa789",
   "metadata": {},
   "source": [
    "# part 2 (e)"
   ]
  },
  {
   "cell_type": "code",
   "execution_count": 1587,
   "id": "49f5ffee",
   "metadata": {},
   "outputs": [
    {
     "data": {
      "text/html": [
       "<div>\n",
       "<style scoped>\n",
       "    .dataframe tbody tr th:only-of-type {\n",
       "        vertical-align: middle;\n",
       "    }\n",
       "\n",
       "    .dataframe tbody tr th {\n",
       "        vertical-align: top;\n",
       "    }\n",
       "\n",
       "    .dataframe thead th {\n",
       "        text-align: right;\n",
       "    }\n",
       "</style>\n",
       "<table border=\"1\" class=\"dataframe\">\n",
       "  <thead>\n",
       "    <tr style=\"text-align: right;\">\n",
       "      <th></th>\n",
       "      <th>mpg</th>\n",
       "      <th>cylinders</th>\n",
       "      <th>displacement</th>\n",
       "      <th>horsepower</th>\n",
       "      <th>weight</th>\n",
       "      <th>acceleration</th>\n",
       "      <th>model_year</th>\n",
       "      <th>origin</th>\n",
       "      <th>car_name</th>\n",
       "    </tr>\n",
       "  </thead>\n",
       "  <tbody>\n",
       "    <tr>\n",
       "      <th>0</th>\n",
       "      <td>18.0</td>\n",
       "      <td>8</td>\n",
       "      <td>307.0</td>\n",
       "      <td>130.0</td>\n",
       "      <td>3504.0</td>\n",
       "      <td>12.0</td>\n",
       "      <td>70</td>\n",
       "      <td>1</td>\n",
       "      <td>chevrolet chevelle malibu</td>\n",
       "    </tr>\n",
       "    <tr>\n",
       "      <th>1</th>\n",
       "      <td>15.0</td>\n",
       "      <td>8</td>\n",
       "      <td>350.0</td>\n",
       "      <td>165.0</td>\n",
       "      <td>3693.0</td>\n",
       "      <td>11.5</td>\n",
       "      <td>70</td>\n",
       "      <td>1</td>\n",
       "      <td>buick skylark 320</td>\n",
       "    </tr>\n",
       "    <tr>\n",
       "      <th>2</th>\n",
       "      <td>18.0</td>\n",
       "      <td>8</td>\n",
       "      <td>318.0</td>\n",
       "      <td>150.0</td>\n",
       "      <td>3436.0</td>\n",
       "      <td>11.0</td>\n",
       "      <td>70</td>\n",
       "      <td>1</td>\n",
       "      <td>plymouth satellite</td>\n",
       "    </tr>\n",
       "    <tr>\n",
       "      <th>3</th>\n",
       "      <td>16.0</td>\n",
       "      <td>8</td>\n",
       "      <td>304.0</td>\n",
       "      <td>150.0</td>\n",
       "      <td>3433.0</td>\n",
       "      <td>12.0</td>\n",
       "      <td>70</td>\n",
       "      <td>1</td>\n",
       "      <td>amc rebel sst</td>\n",
       "    </tr>\n",
       "    <tr>\n",
       "      <th>4</th>\n",
       "      <td>17.0</td>\n",
       "      <td>8</td>\n",
       "      <td>302.0</td>\n",
       "      <td>140.0</td>\n",
       "      <td>3449.0</td>\n",
       "      <td>10.5</td>\n",
       "      <td>70</td>\n",
       "      <td>1</td>\n",
       "      <td>ford torino</td>\n",
       "    </tr>\n",
       "  </tbody>\n",
       "</table>\n",
       "</div>"
      ],
      "text/plain": [
       "    mpg  cylinders  displacement  horsepower  weight  acceleration  \\\n",
       "0  18.0          8         307.0       130.0  3504.0          12.0   \n",
       "1  15.0          8         350.0       165.0  3693.0          11.5   \n",
       "2  18.0          8         318.0       150.0  3436.0          11.0   \n",
       "3  16.0          8         304.0       150.0  3433.0          12.0   \n",
       "4  17.0          8         302.0       140.0  3449.0          10.5   \n",
       "\n",
       "   model_year  origin                   car_name  \n",
       "0          70       1  chevrolet chevelle malibu  \n",
       "1          70       1          buick skylark 320  \n",
       "2          70       1         plymouth satellite  \n",
       "3          70       1              amc rebel sst  \n",
       "4          70       1                ford torino  "
      ]
     },
     "execution_count": 1587,
     "metadata": {},
     "output_type": "execute_result"
    }
   ],
   "source": [
    "x_df.head()"
   ]
  },
  {
   "cell_type": "code",
   "execution_count": 1588,
   "id": "e819b6aa",
   "metadata": {},
   "outputs": [
    {
     "data": {
      "text/html": [
       "<div>\n",
       "<style scoped>\n",
       "    .dataframe tbody tr th:only-of-type {\n",
       "        vertical-align: middle;\n",
       "    }\n",
       "\n",
       "    .dataframe tbody tr th {\n",
       "        vertical-align: top;\n",
       "    }\n",
       "\n",
       "    .dataframe thead th {\n",
       "        text-align: right;\n",
       "    }\n",
       "</style>\n",
       "<table border=\"1\" class=\"dataframe\">\n",
       "  <thead>\n",
       "    <tr style=\"text-align: right;\">\n",
       "      <th></th>\n",
       "      <th>mpg</th>\n",
       "      <th>cylinders</th>\n",
       "      <th>displacement</th>\n",
       "      <th>horsepower</th>\n",
       "      <th>weight</th>\n",
       "      <th>acceleration</th>\n",
       "      <th>model_year</th>\n",
       "      <th>origin</th>\n",
       "    </tr>\n",
       "  </thead>\n",
       "  <tbody>\n",
       "    <tr>\n",
       "      <th>0</th>\n",
       "      <td>18.0</td>\n",
       "      <td>8</td>\n",
       "      <td>307.0</td>\n",
       "      <td>130.0</td>\n",
       "      <td>3504.0</td>\n",
       "      <td>12.0</td>\n",
       "      <td>70</td>\n",
       "      <td>1</td>\n",
       "    </tr>\n",
       "    <tr>\n",
       "      <th>1</th>\n",
       "      <td>15.0</td>\n",
       "      <td>8</td>\n",
       "      <td>350.0</td>\n",
       "      <td>165.0</td>\n",
       "      <td>3693.0</td>\n",
       "      <td>11.5</td>\n",
       "      <td>70</td>\n",
       "      <td>1</td>\n",
       "    </tr>\n",
       "    <tr>\n",
       "      <th>2</th>\n",
       "      <td>18.0</td>\n",
       "      <td>8</td>\n",
       "      <td>318.0</td>\n",
       "      <td>150.0</td>\n",
       "      <td>3436.0</td>\n",
       "      <td>11.0</td>\n",
       "      <td>70</td>\n",
       "      <td>1</td>\n",
       "    </tr>\n",
       "    <tr>\n",
       "      <th>3</th>\n",
       "      <td>16.0</td>\n",
       "      <td>8</td>\n",
       "      <td>304.0</td>\n",
       "      <td>150.0</td>\n",
       "      <td>3433.0</td>\n",
       "      <td>12.0</td>\n",
       "      <td>70</td>\n",
       "      <td>1</td>\n",
       "    </tr>\n",
       "    <tr>\n",
       "      <th>4</th>\n",
       "      <td>17.0</td>\n",
       "      <td>8</td>\n",
       "      <td>302.0</td>\n",
       "      <td>140.0</td>\n",
       "      <td>3449.0</td>\n",
       "      <td>10.5</td>\n",
       "      <td>70</td>\n",
       "      <td>1</td>\n",
       "    </tr>\n",
       "    <tr>\n",
       "      <th>...</th>\n",
       "      <td>...</td>\n",
       "      <td>...</td>\n",
       "      <td>...</td>\n",
       "      <td>...</td>\n",
       "      <td>...</td>\n",
       "      <td>...</td>\n",
       "      <td>...</td>\n",
       "      <td>...</td>\n",
       "    </tr>\n",
       "    <tr>\n",
       "      <th>395</th>\n",
       "      <td>27.0</td>\n",
       "      <td>4</td>\n",
       "      <td>140.0</td>\n",
       "      <td>86.0</td>\n",
       "      <td>2790.0</td>\n",
       "      <td>15.6</td>\n",
       "      <td>82</td>\n",
       "      <td>1</td>\n",
       "    </tr>\n",
       "    <tr>\n",
       "      <th>396</th>\n",
       "      <td>44.0</td>\n",
       "      <td>4</td>\n",
       "      <td>97.0</td>\n",
       "      <td>52.0</td>\n",
       "      <td>2130.0</td>\n",
       "      <td>24.6</td>\n",
       "      <td>82</td>\n",
       "      <td>2</td>\n",
       "    </tr>\n",
       "    <tr>\n",
       "      <th>397</th>\n",
       "      <td>32.0</td>\n",
       "      <td>4</td>\n",
       "      <td>135.0</td>\n",
       "      <td>84.0</td>\n",
       "      <td>2295.0</td>\n",
       "      <td>11.6</td>\n",
       "      <td>82</td>\n",
       "      <td>1</td>\n",
       "    </tr>\n",
       "    <tr>\n",
       "      <th>398</th>\n",
       "      <td>28.0</td>\n",
       "      <td>4</td>\n",
       "      <td>120.0</td>\n",
       "      <td>79.0</td>\n",
       "      <td>2625.0</td>\n",
       "      <td>18.6</td>\n",
       "      <td>82</td>\n",
       "      <td>1</td>\n",
       "    </tr>\n",
       "    <tr>\n",
       "      <th>399</th>\n",
       "      <td>31.0</td>\n",
       "      <td>4</td>\n",
       "      <td>119.0</td>\n",
       "      <td>82.0</td>\n",
       "      <td>2720.0</td>\n",
       "      <td>19.4</td>\n",
       "      <td>82</td>\n",
       "      <td>1</td>\n",
       "    </tr>\n",
       "  </tbody>\n",
       "</table>\n",
       "<p>398 rows × 8 columns</p>\n",
       "</div>"
      ],
      "text/plain": [
       "      mpg  cylinders  displacement  horsepower  weight  acceleration  \\\n",
       "0    18.0          8         307.0       130.0  3504.0          12.0   \n",
       "1    15.0          8         350.0       165.0  3693.0          11.5   \n",
       "2    18.0          8         318.0       150.0  3436.0          11.0   \n",
       "3    16.0          8         304.0       150.0  3433.0          12.0   \n",
       "4    17.0          8         302.0       140.0  3449.0          10.5   \n",
       "..    ...        ...           ...         ...     ...           ...   \n",
       "395  27.0          4         140.0        86.0  2790.0          15.6   \n",
       "396  44.0          4          97.0        52.0  2130.0          24.6   \n",
       "397  32.0          4         135.0        84.0  2295.0          11.6   \n",
       "398  28.0          4         120.0        79.0  2625.0          18.6   \n",
       "399  31.0          4         119.0        82.0  2720.0          19.4   \n",
       "\n",
       "     model_year  origin  \n",
       "0            70       1  \n",
       "1            70       1  \n",
       "2            70       1  \n",
       "3            70       1  \n",
       "4            70       1  \n",
       "..          ...     ...  \n",
       "395          82       1  \n",
       "396          82       2  \n",
       "397          82       1  \n",
       "398          82       1  \n",
       "399          82       1  \n",
       "\n",
       "[398 rows x 8 columns]"
      ]
     },
     "execution_count": 1588,
     "metadata": {},
     "output_type": "execute_result"
    }
   ],
   "source": [
    "x_new = x_df.drop('car_name', axis = 1)\n",
    "x_new"
   ]
  },
  {
   "cell_type": "code",
   "execution_count": 1589,
   "id": "8d27ad93",
   "metadata": {},
   "outputs": [
    {
     "data": {
      "text/html": [
       "<div>\n",
       "<style scoped>\n",
       "    .dataframe tbody tr th:only-of-type {\n",
       "        vertical-align: middle;\n",
       "    }\n",
       "\n",
       "    .dataframe tbody tr th {\n",
       "        vertical-align: top;\n",
       "    }\n",
       "\n",
       "    .dataframe thead th {\n",
       "        text-align: right;\n",
       "    }\n",
       "</style>\n",
       "<table border=\"1\" class=\"dataframe\">\n",
       "  <thead>\n",
       "    <tr style=\"text-align: right;\">\n",
       "      <th></th>\n",
       "      <th>mpg</th>\n",
       "      <th>cylinders</th>\n",
       "      <th>displacement</th>\n",
       "      <th>horsepower</th>\n",
       "      <th>weight</th>\n",
       "      <th>acceleration</th>\n",
       "      <th>model_year</th>\n",
       "      <th>origin</th>\n",
       "    </tr>\n",
       "  </thead>\n",
       "  <tbody>\n",
       "    <tr>\n",
       "      <th>0</th>\n",
       "      <td>0.239362</td>\n",
       "      <td>1.0</td>\n",
       "      <td>0.617571</td>\n",
       "      <td>0.456522</td>\n",
       "      <td>0.536150</td>\n",
       "      <td>0.238095</td>\n",
       "      <td>0.0</td>\n",
       "      <td>0.0</td>\n",
       "    </tr>\n",
       "    <tr>\n",
       "      <th>1</th>\n",
       "      <td>0.159574</td>\n",
       "      <td>1.0</td>\n",
       "      <td>0.728682</td>\n",
       "      <td>0.646739</td>\n",
       "      <td>0.589736</td>\n",
       "      <td>0.208333</td>\n",
       "      <td>0.0</td>\n",
       "      <td>0.0</td>\n",
       "    </tr>\n",
       "    <tr>\n",
       "      <th>2</th>\n",
       "      <td>0.239362</td>\n",
       "      <td>1.0</td>\n",
       "      <td>0.645995</td>\n",
       "      <td>0.565217</td>\n",
       "      <td>0.516870</td>\n",
       "      <td>0.178571</td>\n",
       "      <td>0.0</td>\n",
       "      <td>0.0</td>\n",
       "    </tr>\n",
       "    <tr>\n",
       "      <th>3</th>\n",
       "      <td>0.186170</td>\n",
       "      <td>1.0</td>\n",
       "      <td>0.609819</td>\n",
       "      <td>0.565217</td>\n",
       "      <td>0.516019</td>\n",
       "      <td>0.238095</td>\n",
       "      <td>0.0</td>\n",
       "      <td>0.0</td>\n",
       "    </tr>\n",
       "    <tr>\n",
       "      <th>4</th>\n",
       "      <td>0.212766</td>\n",
       "      <td>1.0</td>\n",
       "      <td>0.604651</td>\n",
       "      <td>0.510870</td>\n",
       "      <td>0.520556</td>\n",
       "      <td>0.148810</td>\n",
       "      <td>0.0</td>\n",
       "      <td>0.0</td>\n",
       "    </tr>\n",
       "  </tbody>\n",
       "</table>\n",
       "</div>"
      ],
      "text/plain": [
       "        mpg  cylinders  displacement  horsepower    weight  acceleration  \\\n",
       "0  0.239362        1.0      0.617571    0.456522  0.536150      0.238095   \n",
       "1  0.159574        1.0      0.728682    0.646739  0.589736      0.208333   \n",
       "2  0.239362        1.0      0.645995    0.565217  0.516870      0.178571   \n",
       "3  0.186170        1.0      0.609819    0.565217  0.516019      0.238095   \n",
       "4  0.212766        1.0      0.604651    0.510870  0.520556      0.148810   \n",
       "\n",
       "   model_year  origin  \n",
       "0         0.0     0.0  \n",
       "1         0.0     0.0  \n",
       "2         0.0     0.0  \n",
       "3         0.0     0.0  \n",
       "4         0.0     0.0  "
      ]
     },
     "execution_count": 1589,
     "metadata": {},
     "output_type": "execute_result"
    }
   ],
   "source": [
    "from sklearn.preprocessing import MinMaxScaler\n",
    "scaler = MinMaxScaler()\n",
    "norm_df = pd.DataFrame(scaler.fit_transform(x_new), columns = x_new.columns)\n",
    "norm_df.head()"
   ]
  },
  {
   "cell_type": "code",
   "execution_count": 1590,
   "id": "159f2384",
   "metadata": {},
   "outputs": [],
   "source": [
    "from sklearn.impute import KNNImputer\n",
    "imputer = KNNImputer(n_neighbors=1)\n",
    "imputed_df = pd.DataFrame(imputer.fit_transform(norm_df),columns = norm_df.columns)\n",
    "#imputed_df.isna().any()"
   ]
  },
  {
   "cell_type": "code",
   "execution_count": 1591,
   "id": "633ea25b",
   "metadata": {},
   "outputs": [
    {
     "data": {
      "text/plain": [
       "mpg             False\n",
       "cylinders       False\n",
       "displacement    False\n",
       "horsepower      False\n",
       "weight          False\n",
       "acceleration    False\n",
       "model_year      False\n",
       "origin          False\n",
       "dtype: bool"
      ]
     },
     "execution_count": 1591,
     "metadata": {},
     "output_type": "execute_result"
    }
   ],
   "source": [
    "from sklearn.impute import KNNImputer\n",
    "imputer = KNNImputer(n_neighbors=3)\n",
    "imputed_df_3 = pd.DataFrame(imputer.fit_transform(norm_df),columns = norm_df.columns)\n",
    "imputed_df_3.isna().any()"
   ]
  },
  {
   "cell_type": "code",
   "execution_count": 1592,
   "id": "8f505524",
   "metadata": {},
   "outputs": [
    {
     "data": {
      "text/plain": [
       "mpg             False\n",
       "cylinders       False\n",
       "displacement    False\n",
       "horsepower      False\n",
       "weight          False\n",
       "acceleration    False\n",
       "model_year      False\n",
       "origin          False\n",
       "dtype: bool"
      ]
     },
     "execution_count": 1592,
     "metadata": {},
     "output_type": "execute_result"
    }
   ],
   "source": [
    "from sklearn.impute import KNNImputer\n",
    "imputer = KNNImputer(n_neighbors=5)\n",
    "imputed_df_5 = pd.DataFrame(imputer.fit_transform(norm_df),columns = norm_df.columns)\n",
    "imputed_df_5.isna().any()"
   ]
  },
  {
   "cell_type": "code",
   "execution_count": 1593,
   "id": "7860b7de",
   "metadata": {},
   "outputs": [],
   "source": [
    "# imputer = KNNImputer(n_neighbors=3)\n",
    "# X_predicted = imputer.fit_transform(X)"
   ]
  },
  {
   "cell_type": "code",
   "execution_count": 1594,
   "id": "5f502795",
   "metadata": {},
   "outputs": [],
   "source": [
    "# imputer = KNNImputer(n_neighbors=5)\n",
    "# X_predicted = imputer.fit_transform(X)"
   ]
  },
  {
   "cell_type": "code",
   "execution_count": 1595,
   "id": "bf752a5e",
   "metadata": {},
   "outputs": [],
   "source": [
    "# X_actual = [x_test['weight']]"
   ]
  },
  {
   "cell_type": "code",
   "execution_count": 1596,
   "id": "46bda257",
   "metadata": {},
   "outputs": [],
   "source": [
    "def rmse(predictions, targets):\n",
    "    return np.sqrt(((predictions - targets) ** 2).mean())"
   ]
  },
  {
   "cell_type": "code",
   "execution_count": 1597,
   "id": "806b0f83",
   "metadata": {},
   "outputs": [
    {
     "data": {
      "text/plain": [
       "mpg               24.336053\n",
       "cylinders          5.191407\n",
       "displacement     219.690595\n",
       "horsepower       111.104063\n",
       "weight          3090.029856\n",
       "acceleration      15.334418\n",
       "model_year        75.553303\n",
       "origin             1.482644\n",
       "dtype: float64"
      ]
     },
     "execution_count": 1597,
     "metadata": {},
     "output_type": "execute_result"
    }
   ],
   "source": [
    "rmse(x_new, imputed_df_5)"
   ]
  },
  {
   "cell_type": "code",
   "execution_count": 1599,
   "id": "02245e38",
   "metadata": {},
   "outputs": [
    {
     "data": {
      "text/plain": [
       "mpg               24.336053\n",
       "cylinders          5.191407\n",
       "displacement     219.690595\n",
       "horsepower       111.103990\n",
       "weight          3090.029856\n",
       "acceleration      15.334418\n",
       "model_year        75.553303\n",
       "origin             1.482644\n",
       "dtype: float64"
      ]
     },
     "execution_count": 1599,
     "metadata": {},
     "output_type": "execute_result"
    }
   ],
   "source": [
    "rmse(x_new, imputed_df_3)"
   ]
  },
  {
   "cell_type": "code",
   "execution_count": 1600,
   "id": "0ce714a8",
   "metadata": {},
   "outputs": [],
   "source": [
    "# Y = [x_test['acceleration']]"
   ]
  },
  {
   "cell_type": "code",
   "execution_count": 1601,
   "id": "8fdfad87",
   "metadata": {},
   "outputs": [],
   "source": [
    "# imputer = KNNImputer(n_neighbors=1)\n",
    "# Y_predicted = imputer.fit_transform(Y)"
   ]
  },
  {
   "cell_type": "code",
   "execution_count": 1602,
   "id": "874ef749",
   "metadata": {},
   "outputs": [],
   "source": [
    "# imputer = KNNImputer(n_neighbors=3)\n",
    "# Y_predicted = imputer.fit_transform(Y)"
   ]
  },
  {
   "cell_type": "code",
   "execution_count": 1603,
   "id": "44660b29",
   "metadata": {},
   "outputs": [],
   "source": [
    "# imputer = KNNImputer(n_neighbors=5)\n",
    "# Y_predicted = imputer.fit_transform(Y)"
   ]
  },
  {
   "cell_type": "code",
   "execution_count": 1604,
   "id": "03904956",
   "metadata": {},
   "outputs": [],
   "source": [
    "# MSE_acc = np.square(np.subtract(Y,Y_predicted)).mean() \n",
    "# RMSE_acc = math.sqrt(MSE_acc)\n",
    "# RMSE_acc"
   ]
  },
  {
   "cell_type": "code",
   "execution_count": 1605,
   "id": "ab5ed130",
   "metadata": {},
   "outputs": [],
   "source": [
    "# Z = [x_test['displacement']]"
   ]
  },
  {
   "cell_type": "code",
   "execution_count": 1606,
   "id": "e1794253",
   "metadata": {},
   "outputs": [],
   "source": [
    "# imputer = KNNImputer(n_neighbors=1)\n",
    "# Z_predicted = imputer.fit_transform(Z)"
   ]
  },
  {
   "cell_type": "code",
   "execution_count": 1607,
   "id": "370856d4",
   "metadata": {},
   "outputs": [],
   "source": [
    "# imputer = KNNImputer(n_neighbors=3)\n",
    "# Z_predicted = imputer.fit_transform(Z)"
   ]
  },
  {
   "cell_type": "code",
   "execution_count": 1608,
   "id": "e445eb49",
   "metadata": {},
   "outputs": [],
   "source": [
    "# imputer = KNNImputer(n_neighbors=5)\n",
    "# Z_predicted = imputer.fit_transform(Z)"
   ]
  },
  {
   "cell_type": "code",
   "execution_count": 1609,
   "id": "8fae153e",
   "metadata": {},
   "outputs": [],
   "source": [
    "# MSE_disp = np.square(np.subtract(Z,Z_predicted)).mean() \n",
    "# RMSE_disp = math.sqrt(MSE_disp)\n",
    "# RMSE_disp"
   ]
  },
  {
   "cell_type": "code",
   "execution_count": 1610,
   "id": "22128d31",
   "metadata": {},
   "outputs": [],
   "source": [
    "# W = [x_test['mpg']]"
   ]
  },
  {
   "cell_type": "code",
   "execution_count": 1611,
   "id": "9bb2d292",
   "metadata": {},
   "outputs": [],
   "source": [
    "# imputer = KNNImputer(n_neighbors=1)\n",
    "# W_predicted = imputer.fit_transform(W)"
   ]
  },
  {
   "cell_type": "code",
   "execution_count": 1612,
   "id": "459cb1dc",
   "metadata": {},
   "outputs": [],
   "source": [
    "# imputer = KNNImputer(n_neighbors=3)\n",
    "# W_predicted = imputer.fit_transform(W)"
   ]
  },
  {
   "cell_type": "code",
   "execution_count": 1613,
   "id": "c6ff4a5c",
   "metadata": {},
   "outputs": [],
   "source": [
    "# imputer = KNNImputer(n_neighbors=5)\n",
    "# W_predicted = imputer.fit_transform(W)"
   ]
  },
  {
   "cell_type": "code",
   "execution_count": 1614,
   "id": "68f9bf58",
   "metadata": {},
   "outputs": [],
   "source": [
    "# MSE_mpg = np.square(np.subtract(W,W_predicted)).mean() \n",
    "# RMSE_mpg = math.sqrt(MSE_disp)\n",
    "# RMSE_mpg"
   ]
  },
  {
   "cell_type": "markdown",
   "id": "ab4f5117",
   "metadata": {},
   "source": [
    "# part 2 (f)"
   ]
  },
  {
   "cell_type": "code",
   "execution_count": 1615,
   "id": "53961452",
   "metadata": {},
   "outputs": [
    {
     "data": {
      "text/plain": [
       "0      130.0\n",
       "1      165.0\n",
       "2      150.0\n",
       "3      150.0\n",
       "4      140.0\n",
       "       ...  \n",
       "395     86.0\n",
       "396     52.0\n",
       "397     84.0\n",
       "398     79.0\n",
       "399     82.0\n",
       "Name: horsepower, Length: 398, dtype: float64"
      ]
     },
     "execution_count": 1615,
     "metadata": {},
     "output_type": "execute_result"
    }
   ],
   "source": [
    "x_df['horsepower'].fillna(x_df['horsepower'].mean())\n",
    "#x_df"
   ]
  },
  {
   "cell_type": "markdown",
   "id": "ee3c6a4d",
   "metadata": {},
   "source": [
    "# part 3 (a)"
   ]
  },
  {
   "cell_type": "code",
   "execution_count": 1616,
   "id": "f1a9edf5",
   "metadata": {},
   "outputs": [
    {
     "data": {
      "text/plain": [
       "0.45534192556309266"
      ]
     },
     "execution_count": 1616,
     "metadata": {},
     "output_type": "execute_result"
    }
   ],
   "source": [
    "#skewness\n",
    "from scipy.stats import skew \n",
    "skew(x_df['mpg'], axis=0, bias=True)   #the distribution is positively skewed"
   ]
  },
  {
   "cell_type": "code",
   "execution_count": 1617,
   "id": "c77da7cf",
   "metadata": {},
   "outputs": [
    {
     "data": {
      "text/plain": [
       "-0.5194245405990445"
      ]
     },
     "execution_count": 1617,
     "metadata": {},
     "output_type": "execute_result"
    }
   ],
   "source": [
    "#kurtosis\n",
    "from scipy.stats import kurtosis\n",
    "kurtosis(x_df['mpg'], axis=0, bias=True)     #the distribution has more values in the tails compared to a normal distribution."
   ]
  },
  {
   "cell_type": "code",
   "execution_count": 1618,
   "id": "b0433bcc",
   "metadata": {},
   "outputs": [
    {
     "data": {
      "image/png": "[encoded data removed]",
      "text/plain": [
       "<Figure size 360x360 with 1 Axes>"
      ]
     },
     "metadata": {
      "needs_background": "light"
     },
     "output_type": "display_data"
    }
   ],
   "source": [
    "# Draw the histogram using the seaborn distplot function\n",
    "import matplotlib.pyplot as plt\n",
    "import seaborn as sns\n",
    "\n",
    "sns.displot(x_df['mpg'],bins=30,kde=False)\n",
    "plt.show()"
   ]
  },
  {
   "cell_type": "markdown",
   "id": "3f6ee5c6",
   "metadata": {},
   "source": [
    "# part 3 (b)"
   ]
  },
  {
   "cell_type": "code",
   "execution_count": 1619,
   "id": "47c9e106",
   "metadata": {},
   "outputs": [],
   "source": [
    "#Identify outliers of mpg using Inter Quartile Range (IQR) approach and impute them with min and max values appropriately. "
   ]
  },
  {
   "cell_type": "code",
   "execution_count": 1620,
   "id": "38a0ebdd",
   "metadata": {},
   "outputs": [
    {
     "data": {
      "text/html": [
       "<div>\n",
       "<style scoped>\n",
       "    .dataframe tbody tr th:only-of-type {\n",
       "        vertical-align: middle;\n",
       "    }\n",
       "\n",
       "    .dataframe tbody tr th {\n",
       "        vertical-align: top;\n",
       "    }\n",
       "\n",
       "    .dataframe thead th {\n",
       "        text-align: right;\n",
       "    }\n",
       "</style>\n",
       "<table border=\"1\" class=\"dataframe\">\n",
       "  <thead>\n",
       "    <tr style=\"text-align: right;\">\n",
       "      <th></th>\n",
       "      <th>mpg</th>\n",
       "      <th>cylinders</th>\n",
       "      <th>displacement</th>\n",
       "      <th>horsepower</th>\n",
       "      <th>weight</th>\n",
       "      <th>acceleration</th>\n",
       "      <th>model_year</th>\n",
       "      <th>origin</th>\n",
       "      <th>car_name</th>\n",
       "    </tr>\n",
       "  </thead>\n",
       "  <tbody>\n",
       "    <tr>\n",
       "      <th>0</th>\n",
       "      <td>18.0</td>\n",
       "      <td>8</td>\n",
       "      <td>307.0</td>\n",
       "      <td>130.0</td>\n",
       "      <td>3504.0</td>\n",
       "      <td>12.0</td>\n",
       "      <td>70</td>\n",
       "      <td>1</td>\n",
       "      <td>chevrolet chevelle malibu</td>\n",
       "    </tr>\n",
       "    <tr>\n",
       "      <th>1</th>\n",
       "      <td>15.0</td>\n",
       "      <td>8</td>\n",
       "      <td>350.0</td>\n",
       "      <td>165.0</td>\n",
       "      <td>3693.0</td>\n",
       "      <td>11.5</td>\n",
       "      <td>70</td>\n",
       "      <td>1</td>\n",
       "      <td>buick skylark 320</td>\n",
       "    </tr>\n",
       "    <tr>\n",
       "      <th>2</th>\n",
       "      <td>18.0</td>\n",
       "      <td>8</td>\n",
       "      <td>318.0</td>\n",
       "      <td>150.0</td>\n",
       "      <td>3436.0</td>\n",
       "      <td>11.0</td>\n",
       "      <td>70</td>\n",
       "      <td>1</td>\n",
       "      <td>plymouth satellite</td>\n",
       "    </tr>\n",
       "    <tr>\n",
       "      <th>3</th>\n",
       "      <td>16.0</td>\n",
       "      <td>8</td>\n",
       "      <td>304.0</td>\n",
       "      <td>150.0</td>\n",
       "      <td>3433.0</td>\n",
       "      <td>12.0</td>\n",
       "      <td>70</td>\n",
       "      <td>1</td>\n",
       "      <td>amc rebel sst</td>\n",
       "    </tr>\n",
       "    <tr>\n",
       "      <th>4</th>\n",
       "      <td>17.0</td>\n",
       "      <td>8</td>\n",
       "      <td>302.0</td>\n",
       "      <td>140.0</td>\n",
       "      <td>3449.0</td>\n",
       "      <td>10.5</td>\n",
       "      <td>70</td>\n",
       "      <td>1</td>\n",
       "      <td>ford torino</td>\n",
       "    </tr>\n",
       "    <tr>\n",
       "      <th>...</th>\n",
       "      <td>...</td>\n",
       "      <td>...</td>\n",
       "      <td>...</td>\n",
       "      <td>...</td>\n",
       "      <td>...</td>\n",
       "      <td>...</td>\n",
       "      <td>...</td>\n",
       "      <td>...</td>\n",
       "      <td>...</td>\n",
       "    </tr>\n",
       "    <tr>\n",
       "      <th>395</th>\n",
       "      <td>27.0</td>\n",
       "      <td>4</td>\n",
       "      <td>140.0</td>\n",
       "      <td>86.0</td>\n",
       "      <td>2790.0</td>\n",
       "      <td>15.6</td>\n",
       "      <td>82</td>\n",
       "      <td>1</td>\n",
       "      <td>ford mustang gl</td>\n",
       "    </tr>\n",
       "    <tr>\n",
       "      <th>396</th>\n",
       "      <td>44.0</td>\n",
       "      <td>4</td>\n",
       "      <td>97.0</td>\n",
       "      <td>52.0</td>\n",
       "      <td>2130.0</td>\n",
       "      <td>24.6</td>\n",
       "      <td>82</td>\n",
       "      <td>2</td>\n",
       "      <td>vw pickup</td>\n",
       "    </tr>\n",
       "    <tr>\n",
       "      <th>397</th>\n",
       "      <td>32.0</td>\n",
       "      <td>4</td>\n",
       "      <td>135.0</td>\n",
       "      <td>84.0</td>\n",
       "      <td>2295.0</td>\n",
       "      <td>11.6</td>\n",
       "      <td>82</td>\n",
       "      <td>1</td>\n",
       "      <td>dodge rampage</td>\n",
       "    </tr>\n",
       "    <tr>\n",
       "      <th>398</th>\n",
       "      <td>28.0</td>\n",
       "      <td>4</td>\n",
       "      <td>120.0</td>\n",
       "      <td>79.0</td>\n",
       "      <td>2625.0</td>\n",
       "      <td>18.6</td>\n",
       "      <td>82</td>\n",
       "      <td>1</td>\n",
       "      <td>ford ranger</td>\n",
       "    </tr>\n",
       "    <tr>\n",
       "      <th>399</th>\n",
       "      <td>31.0</td>\n",
       "      <td>4</td>\n",
       "      <td>119.0</td>\n",
       "      <td>82.0</td>\n",
       "      <td>2720.0</td>\n",
       "      <td>19.4</td>\n",
       "      <td>82</td>\n",
       "      <td>1</td>\n",
       "      <td>chevy s-10</td>\n",
       "    </tr>\n",
       "  </tbody>\n",
       "</table>\n",
       "<p>398 rows × 9 columns</p>\n",
       "</div>"
      ],
      "text/plain": [
       "      mpg  cylinders  displacement  horsepower  weight  acceleration  \\\n",
       "0    18.0          8         307.0       130.0  3504.0          12.0   \n",
       "1    15.0          8         350.0       165.0  3693.0          11.5   \n",
       "2    18.0          8         318.0       150.0  3436.0          11.0   \n",
       "3    16.0          8         304.0       150.0  3433.0          12.0   \n",
       "4    17.0          8         302.0       140.0  3449.0          10.5   \n",
       "..    ...        ...           ...         ...     ...           ...   \n",
       "395  27.0          4         140.0        86.0  2790.0          15.6   \n",
       "396  44.0          4          97.0        52.0  2130.0          24.6   \n",
       "397  32.0          4         135.0        84.0  2295.0          11.6   \n",
       "398  28.0          4         120.0        79.0  2625.0          18.6   \n",
       "399  31.0          4         119.0        82.0  2720.0          19.4   \n",
       "\n",
       "     model_year  origin                   car_name  \n",
       "0            70       1  chevrolet chevelle malibu  \n",
       "1            70       1          buick skylark 320  \n",
       "2            70       1         plymouth satellite  \n",
       "3            70       1              amc rebel sst  \n",
       "4            70       1                ford torino  \n",
       "..          ...     ...                        ...  \n",
       "395          82       1            ford mustang gl  \n",
       "396          82       2                  vw pickup  \n",
       "397          82       1              dodge rampage  \n",
       "398          82       1                ford ranger  \n",
       "399          82       1                 chevy s-10  \n",
       "\n",
       "[398 rows x 9 columns]"
      ]
     },
     "execution_count": 1620,
     "metadata": {},
     "output_type": "execute_result"
    }
   ],
   "source": [
    "x_df"
   ]
  },
  {
   "cell_type": "code",
   "execution_count": 1621,
   "id": "38bb5bb8",
   "metadata": {},
   "outputs": [],
   "source": [
    "#importing packages\n",
    "import matplotlib.pyplot as plt\n",
    "%matplotlib inline"
   ]
  },
  {
   "cell_type": "code",
   "execution_count": 1622,
   "id": "b3d534e5",
   "metadata": {},
   "outputs": [],
   "source": [
    "#lower and upperbound function\n",
    "def outlier_treatment(datacolumn):\n",
    "    sorted(datacolumn)\n",
    "    Q1,Q3 = np.percentile(datacolumn , [25,75])\n",
    "    IQR = Q3 - Q1\n",
    "    lower_range = Q1 - (1.5 * IQR)\n",
    "    upper_range = Q3 + (1.5 * IQR)\n",
    "    return lower_range,upper_range\n",
    "\n",
    "lowerbound,upperbound = outlier_treatment(x_df['mpg'])"
   ]
  },
  {
   "cell_type": "code",
   "execution_count": 1623,
   "id": "0df51d92",
   "metadata": {},
   "outputs": [
    {
     "data": {
      "text/plain": [
       "0.25"
      ]
     },
     "execution_count": 1623,
     "metadata": {},
     "output_type": "execute_result"
    }
   ],
   "source": [
    "lowerbound"
   ]
  },
  {
   "cell_type": "code",
   "execution_count": 1624,
   "id": "bb967ed9",
   "metadata": {},
   "outputs": [
    {
     "data": {
      "text/plain": [
       "46.25"
      ]
     },
     "execution_count": 1624,
     "metadata": {},
     "output_type": "execute_result"
    }
   ],
   "source": [
    "upperbound"
   ]
  },
  {
   "cell_type": "code",
   "execution_count": 1625,
   "id": "e376d70d",
   "metadata": {},
   "outputs": [
    {
     "data": {
      "text/html": [
       "<div>\n",
       "<style scoped>\n",
       "    .dataframe tbody tr th:only-of-type {\n",
       "        vertical-align: middle;\n",
       "    }\n",
       "\n",
       "    .dataframe tbody tr th {\n",
       "        vertical-align: top;\n",
       "    }\n",
       "\n",
       "    .dataframe thead th {\n",
       "        text-align: right;\n",
       "    }\n",
       "</style>\n",
       "<table border=\"1\" class=\"dataframe\">\n",
       "  <thead>\n",
       "    <tr style=\"text-align: right;\">\n",
       "      <th></th>\n",
       "      <th>mpg</th>\n",
       "      <th>cylinders</th>\n",
       "      <th>displacement</th>\n",
       "      <th>horsepower</th>\n",
       "      <th>weight</th>\n",
       "      <th>acceleration</th>\n",
       "      <th>model_year</th>\n",
       "      <th>origin</th>\n",
       "      <th>car_name</th>\n",
       "    </tr>\n",
       "  </thead>\n",
       "  <tbody>\n",
       "    <tr>\n",
       "      <th>324</th>\n",
       "      <td>46.6</td>\n",
       "      <td>4</td>\n",
       "      <td>86.0</td>\n",
       "      <td>65.0</td>\n",
       "      <td>2110.0</td>\n",
       "      <td>17.9</td>\n",
       "      <td>80</td>\n",
       "      <td>3</td>\n",
       "      <td>mazda glc</td>\n",
       "    </tr>\n",
       "  </tbody>\n",
       "</table>\n",
       "</div>"
      ],
      "text/plain": [
       "      mpg  cylinders  displacement  horsepower  weight  acceleration  \\\n",
       "324  46.6          4          86.0        65.0  2110.0          17.9   \n",
       "\n",
       "     model_year  origin   car_name  \n",
       "324          80       3  mazda glc  "
      ]
     },
     "execution_count": 1625,
     "metadata": {},
     "output_type": "execute_result"
    }
   ],
   "source": [
    "outliers = x_df[(x_df['mpg'] < lowerbound) | (x_df['mpg'] > upperbound)]\n",
    "outliers"
   ]
  },
  {
   "cell_type": "code",
   "execution_count": 1626,
   "id": "ef5833f0",
   "metadata": {},
   "outputs": [],
   "source": [
    "# boxplot\n",
    "# histogram\n",
    "# scattered plot"
   ]
  },
  {
   "cell_type": "code",
   "execution_count": 1627,
   "id": "fc63f51e",
   "metadata": {},
   "outputs": [],
   "source": [
    "# fig, ax = plt.subplots(figsize=(12,6))\n",
    "# ax.scatter(x_df['mpg'], x_df['acceleration'])\n",
    "# ax.set_xlabel('Income of applicants in USD')\n",
    "# ax.set_ylabel('Loan amount applied for in USD')\n",
    "# plt.show()"
   ]
  },
  {
   "cell_type": "code",
   "execution_count": 1628,
   "id": "9064e611",
   "metadata": {},
   "outputs": [
    {
     "name": "stderr",
     "output_type": "stream",
     "text": [
      "C:\\Users\\DELL\\anaconda3\\lib\\site-packages\\seaborn\\_decorators.py:36: FutureWarning: Pass the following variable as a keyword arg: x. From version 0.12, the only valid positional argument will be `data`, and passing other arguments without an explicit keyword will result in an error or misinterpretation.\n",
      "  warnings.warn(\n"
     ]
    },
    {
     "data": {
      "text/plain": [
       "<AxesSubplot:xlabel='mpg'>"
      ]
     },
     "execution_count": 1628,
     "metadata": {},
     "output_type": "execute_result"
    },
    {
     "data": {
      "image/png": "[encoded data removed]",
      "text/plain": [
       "<Figure size 432x288 with 1 Axes>"
      ]
     },
     "metadata": {
      "needs_background": "light"
     },
     "output_type": "display_data"
    }
   ],
   "source": [
    "sns.boxplot(x_df['mpg'])"
   ]
  },
  {
   "cell_type": "code",
   "execution_count": 1629,
   "id": "c79c29d3",
   "metadata": {},
   "outputs": [
    {
     "data": {
      "text/plain": [
       "<AxesSubplot:>"
      ]
     },
     "execution_count": 1629,
     "metadata": {},
     "output_type": "execute_result"
    },
    {
     "data": {
      "image/png": "[encoded data removed]",
      "text/plain": [
       "<Figure size 432x288 with 1 Axes>"
      ]
     },
     "metadata": {
      "needs_background": "light"
     },
     "output_type": "display_data"
    }
   ],
   "source": [
    "x_df['mpg'].hist()"
   ]
  },
  {
   "cell_type": "code",
   "execution_count": 1630,
   "id": "984ecb29",
   "metadata": {},
   "outputs": [],
   "source": [
    "#imputing with min max values\n",
    "# df.loc[x_df['mpg'] > outliers.loc['mpg']['upperbound'], x_df['mpg']] = outliers.loc['mpg']['upperbound']\n",
    "# df.loc[x_df['mpg'] < outliers.loc['mpg']['lowerbound'], x_df['mpg']] = outliers.loc['mpg']['lowerbound']"
   ]
  },
  {
   "cell_type": "code",
   "execution_count": 1631,
   "id": "13629b3b",
   "metadata": {},
   "outputs": [
    {
     "name": "stdout",
     "output_type": "stream",
     "text": [
      "12.0\n",
      "38.180999999999976\n"
     ]
    }
   ],
   "source": [
    "lower_limit = x_df['mpg'].quantile(0.03)  \n",
    "upper_limit = x_df['mpg'].quantile(0.97)\n",
    "\n",
    "print(lower_limit)\n",
    "print(upper_limit)"
   ]
  },
  {
   "cell_type": "code",
   "execution_count": 1632,
   "id": "a1767507",
   "metadata": {},
   "outputs": [],
   "source": [
    "# x_df['mpg_chapped'] = np.where(x_df['mpg']> upper_limit, upper_limit,\n",
    "#                         np.where(x_df['mpg']< lower_limit, lower_limit,\n",
    "#                         x_df['mpg']))"
   ]
  },
  {
   "cell_type": "code",
   "execution_count": 1633,
   "id": "39a1dcac",
   "metadata": {},
   "outputs": [],
   "source": [
    "# sns.boxplot( y=\"mpg_chapped\", data=x_df)"
   ]
  },
  {
   "cell_type": "markdown",
   "id": "a4eaa45b",
   "metadata": {},
   "source": [
    "# part 3 (c)"
   ]
  },
  {
   "cell_type": "code",
   "execution_count": 1634,
   "id": "15509725",
   "metadata": {},
   "outputs": [],
   "source": [
    "#Transform mpg column using loge (x+1) formula to make the mpg values follow the normal distribution. "
   ]
  },
  {
   "cell_type": "code",
   "execution_count": 1635,
   "id": "5ab7c450",
   "metadata": {},
   "outputs": [
    {
     "data": {
      "text/plain": [
       "320    29.8\n",
       "321    31.3\n",
       "322    37.0\n",
       "323    32.2\n",
       "324    46.6\n",
       "       ... \n",
       "395    27.0\n",
       "396    44.0\n",
       "397    32.0\n",
       "398    28.0\n",
       "399    31.0\n",
       "Name: mpg, Length: 80, dtype: float64"
      ]
     },
     "execution_count": 1635,
     "metadata": {},
     "output_type": "execute_result"
    }
   ],
   "source": [
    "x_df['mpg'].tail(80)"
   ]
  },
  {
   "cell_type": "code",
   "execution_count": 1636,
   "id": "8c1d4e76",
   "metadata": {},
   "outputs": [
    {
     "data": {
      "text/plain": [
       "Text(0.5, 1.0, 'Log-Transformed Data')"
      ]
     },
     "execution_count": 1636,
     "metadata": {},
     "output_type": "execute_result"
    },
    {
     "data": {
      "image/png": "[encoded data removed]",
      "text/plain": [
       "<Figure size 432x288 with 2 Axes>"
      ]
     },
     "metadata": {
      "needs_background": "light"
     },
     "output_type": "display_data"
    }
   ],
   "source": [
    "import numpy as np\n",
    "import matplotlib.pyplot as plt\n",
    "\n",
    "#make this example reproducible\n",
    "np.random.seed(0)\n",
    "\n",
    "#create beta distributed random variable with 200 values\n",
    "# data = np.random.beta(a=4, b=15, size=398)\n",
    "\n",
    "#create log-transformed data\n",
    "data_log = np.log(x_df['mpg'])\n",
    "\n",
    "#define grid of plots\n",
    "fig, axs = plt.subplots(nrows=1, ncols=2)\n",
    "\n",
    "#create histograms\n",
    "axs[0].hist(data, edgecolor='black')\n",
    "axs[1].hist(data_log, edgecolor='black')\n",
    "\n",
    "#add title to each histogram\n",
    "axs[0].set_title('Original Data')\n",
    "axs[1].set_title('Log-Transformed Data')"
   ]
  },
  {
   "cell_type": "markdown",
   "id": "08d23599",
   "metadata": {},
   "source": [
    "# part 3 (d)"
   ]
  },
  {
   "cell_type": "code",
   "execution_count": 1637,
   "id": "777202db",
   "metadata": {},
   "outputs": [],
   "source": [
    "# Use a QQ-plot to show that loge (x+1) is a better transformation for mpg. Find the kurtosis and skewness of mpg after the transformation. "
   ]
  },
  {
   "cell_type": "code",
   "execution_count": 1638,
   "id": "e46466b5",
   "metadata": {},
   "outputs": [
    {
     "data": {
      "image/png": "[encoded data removed]",
      "text/plain": [
       "<Figure size 432x288 with 1 Axes>"
      ]
     },
     "metadata": {
      "needs_background": "light"
     },
     "output_type": "display_data"
    }
   ],
   "source": [
    "import statsmodels.api as sm\n",
    "import matplotlib.pyplot as plt\n",
    "\n",
    "#create Q-Q plot with 45-degree line added to plot\n",
    "fig_qq = sm.qqplot(x_df['mpg'], line='45')\n",
    "plt.show()"
   ]
  },
  {
   "cell_type": "code",
   "execution_count": 1639,
   "id": "cc30b16b",
   "metadata": {},
   "outputs": [
    {
     "data": {
      "text/plain": [
       "-0.5194245405990445"
      ]
     },
     "execution_count": 1639,
     "metadata": {},
     "output_type": "execute_result"
    }
   ],
   "source": [
    "#kurtosis\n",
    "from scipy.stats import kurtosis\n",
    "kurtosis(x_df['mpg'], axis=0, bias=True)"
   ]
  },
  {
   "cell_type": "code",
   "execution_count": 1640,
   "id": "04f01ec4",
   "metadata": {},
   "outputs": [
    {
     "data": {
      "text/plain": [
       "0.45534192556309266"
      ]
     },
     "execution_count": 1640,
     "metadata": {},
     "output_type": "execute_result"
    }
   ],
   "source": [
    "#skewness\n",
    "from scipy.stats import skew \n",
    "skew(x_df['mpg'], axis=0, bias=True)"
   ]
  },
  {
   "cell_type": "markdown",
   "id": "af6afee4",
   "metadata": {},
   "source": [
    "# part 3 (e)"
   ]
  },
  {
   "cell_type": "code",
   "execution_count": 1641,
   "id": "ceca600a",
   "metadata": {},
   "outputs": [],
   "source": [
    "#Similarly detect and correct outliers in the weight, displacement, horsepower and acceleration columns "
   ]
  },
  {
   "cell_type": "code",
   "execution_count": 1642,
   "id": "ed593bd7",
   "metadata": {},
   "outputs": [
    {
     "name": "stdout",
     "output_type": "stream",
     "text": [
      "147.375\n",
      "5684.375\n"
     ]
    }
   ],
   "source": [
    "lowerbound_weight, upperbound_weight = outlier_treatment(x_df['weight'])\n",
    "print(lowerbound_weight)\n",
    "print(upperbound_weight)"
   ]
  },
  {
   "cell_type": "code",
   "execution_count": 1643,
   "id": "71e4efb8",
   "metadata": {},
   "outputs": [
    {
     "data": {
      "text/html": [
       "<div>\n",
       "<style scoped>\n",
       "    .dataframe tbody tr th:only-of-type {\n",
       "        vertical-align: middle;\n",
       "    }\n",
       "\n",
       "    .dataframe tbody tr th {\n",
       "        vertical-align: top;\n",
       "    }\n",
       "\n",
       "    .dataframe thead th {\n",
       "        text-align: right;\n",
       "    }\n",
       "</style>\n",
       "<table border=\"1\" class=\"dataframe\">\n",
       "  <thead>\n",
       "    <tr style=\"text-align: right;\">\n",
       "      <th></th>\n",
       "      <th>mpg</th>\n",
       "      <th>cylinders</th>\n",
       "      <th>displacement</th>\n",
       "      <th>horsepower</th>\n",
       "      <th>weight</th>\n",
       "      <th>acceleration</th>\n",
       "      <th>model_year</th>\n",
       "      <th>origin</th>\n",
       "      <th>car_name</th>\n",
       "    </tr>\n",
       "  </thead>\n",
       "  <tbody>\n",
       "  </tbody>\n",
       "</table>\n",
       "</div>"
      ],
      "text/plain": [
       "Empty DataFrame\n",
       "Columns: [mpg, cylinders, displacement, horsepower, weight, acceleration, model_year, origin, car_name]\n",
       "Index: []"
      ]
     },
     "execution_count": 1643,
     "metadata": {},
     "output_type": "execute_result"
    }
   ],
   "source": [
    "x_df[(x_df['weight'] < lowerbound_weight) | (x_df['weight'] > upperbound_weight)]"
   ]
  },
  {
   "cell_type": "code",
   "execution_count": 1644,
   "id": "c8175564",
   "metadata": {},
   "outputs": [
    {
     "name": "stdout",
     "output_type": "stream",
     "text": [
      "-132.375\n",
      "498.625\n"
     ]
    }
   ],
   "source": [
    "lowerbound_disp, upperbound_disp = outlier_treatment(x_df['displacement'])\n",
    "print(lowerbound_disp)\n",
    "print(upperbound_disp)"
   ]
  },
  {
   "cell_type": "code",
   "execution_count": 1645,
   "id": "83750684",
   "metadata": {},
   "outputs": [
    {
     "data": {
      "text/html": [
       "<div>\n",
       "<style scoped>\n",
       "    .dataframe tbody tr th:only-of-type {\n",
       "        vertical-align: middle;\n",
       "    }\n",
       "\n",
       "    .dataframe tbody tr th {\n",
       "        vertical-align: top;\n",
       "    }\n",
       "\n",
       "    .dataframe thead th {\n",
       "        text-align: right;\n",
       "    }\n",
       "</style>\n",
       "<table border=\"1\" class=\"dataframe\">\n",
       "  <thead>\n",
       "    <tr style=\"text-align: right;\">\n",
       "      <th></th>\n",
       "      <th>mpg</th>\n",
       "      <th>cylinders</th>\n",
       "      <th>displacement</th>\n",
       "      <th>horsepower</th>\n",
       "      <th>weight</th>\n",
       "      <th>acceleration</th>\n",
       "      <th>model_year</th>\n",
       "      <th>origin</th>\n",
       "      <th>car_name</th>\n",
       "    </tr>\n",
       "  </thead>\n",
       "  <tbody>\n",
       "  </tbody>\n",
       "</table>\n",
       "</div>"
      ],
      "text/plain": [
       "Empty DataFrame\n",
       "Columns: [mpg, cylinders, displacement, horsepower, weight, acceleration, model_year, origin, car_name]\n",
       "Index: []"
      ]
     },
     "execution_count": 1645,
     "metadata": {},
     "output_type": "execute_result"
    }
   ],
   "source": [
    "x_df[(x_df['displacement'] < lowerbound_disp) | (x_df['displacement'] > upperbound_disp)]"
   ]
  },
  {
   "cell_type": "code",
   "execution_count": 1646,
   "id": "a1a6ce9b",
   "metadata": {},
   "outputs": [
    {
     "name": "stdout",
     "output_type": "stream",
     "text": [
      "nan\n",
      "nan\n"
     ]
    }
   ],
   "source": [
    "lowerbound_hp, upperbound_hp = outlier_treatment(x_df['horsepower'])\n",
    "print(lowerbound_hp)\n",
    "print(upperbound_hp)"
   ]
  },
  {
   "cell_type": "code",
   "execution_count": 1647,
   "id": "c1141481",
   "metadata": {},
   "outputs": [
    {
     "data": {
      "text/html": [
       "<div>\n",
       "<style scoped>\n",
       "    .dataframe tbody tr th:only-of-type {\n",
       "        vertical-align: middle;\n",
       "    }\n",
       "\n",
       "    .dataframe tbody tr th {\n",
       "        vertical-align: top;\n",
       "    }\n",
       "\n",
       "    .dataframe thead th {\n",
       "        text-align: right;\n",
       "    }\n",
       "</style>\n",
       "<table border=\"1\" class=\"dataframe\">\n",
       "  <thead>\n",
       "    <tr style=\"text-align: right;\">\n",
       "      <th></th>\n",
       "      <th>mpg</th>\n",
       "      <th>cylinders</th>\n",
       "      <th>displacement</th>\n",
       "      <th>horsepower</th>\n",
       "      <th>weight</th>\n",
       "      <th>acceleration</th>\n",
       "      <th>model_year</th>\n",
       "      <th>origin</th>\n",
       "      <th>car_name</th>\n",
       "    </tr>\n",
       "  </thead>\n",
       "  <tbody>\n",
       "  </tbody>\n",
       "</table>\n",
       "</div>"
      ],
      "text/plain": [
       "Empty DataFrame\n",
       "Columns: [mpg, cylinders, displacement, horsepower, weight, acceleration, model_year, origin, car_name]\n",
       "Index: []"
      ]
     },
     "execution_count": 1647,
     "metadata": {},
     "output_type": "execute_result"
    }
   ],
   "source": [
    "x_df[(x_df['horsepower'] < lowerbound_hp) | (x_df['horsepower'] > upperbound_hp)]"
   ]
  },
  {
   "cell_type": "code",
   "execution_count": 1648,
   "id": "ea9703c4",
   "metadata": {},
   "outputs": [
    {
     "name": "stdout",
     "output_type": "stream",
     "text": [
      "8.8\n",
      "22.2\n"
     ]
    }
   ],
   "source": [
    "lowerbound_acc, upperbound_acc = outlier_treatment(x_df['acceleration'])\n",
    "print(lowerbound_acc)\n",
    "print(upperbound_acc)"
   ]
  },
  {
   "cell_type": "code",
   "execution_count": 1649,
   "id": "50be25e6",
   "metadata": {},
   "outputs": [
    {
     "data": {
      "text/html": [
       "<div>\n",
       "<style scoped>\n",
       "    .dataframe tbody tr th:only-of-type {\n",
       "        vertical-align: middle;\n",
       "    }\n",
       "\n",
       "    .dataframe tbody tr th {\n",
       "        vertical-align: top;\n",
       "    }\n",
       "\n",
       "    .dataframe thead th {\n",
       "        text-align: right;\n",
       "    }\n",
       "</style>\n",
       "<table border=\"1\" class=\"dataframe\">\n",
       "  <thead>\n",
       "    <tr style=\"text-align: right;\">\n",
       "      <th></th>\n",
       "      <th>mpg</th>\n",
       "      <th>cylinders</th>\n",
       "      <th>displacement</th>\n",
       "      <th>horsepower</th>\n",
       "      <th>weight</th>\n",
       "      <th>acceleration</th>\n",
       "      <th>model_year</th>\n",
       "      <th>origin</th>\n",
       "      <th>car_name</th>\n",
       "    </tr>\n",
       "  </thead>\n",
       "  <tbody>\n",
       "    <tr>\n",
       "      <th>7</th>\n",
       "      <td>14.0</td>\n",
       "      <td>8</td>\n",
       "      <td>440.0</td>\n",
       "      <td>215.0</td>\n",
       "      <td>4312.0</td>\n",
       "      <td>8.5</td>\n",
       "      <td>70</td>\n",
       "      <td>1</td>\n",
       "      <td>plymouth fury iii</td>\n",
       "    </tr>\n",
       "    <tr>\n",
       "      <th>9</th>\n",
       "      <td>15.0</td>\n",
       "      <td>8</td>\n",
       "      <td>390.0</td>\n",
       "      <td>190.0</td>\n",
       "      <td>3850.0</td>\n",
       "      <td>8.5</td>\n",
       "      <td>70</td>\n",
       "      <td>1</td>\n",
       "      <td>amc ambassador dpl</td>\n",
       "    </tr>\n",
       "    <tr>\n",
       "      <th>11</th>\n",
       "      <td>14.0</td>\n",
       "      <td>8</td>\n",
       "      <td>340.0</td>\n",
       "      <td>160.0</td>\n",
       "      <td>3609.0</td>\n",
       "      <td>8.0</td>\n",
       "      <td>70</td>\n",
       "      <td>1</td>\n",
       "      <td>plymouth 'cuda 340</td>\n",
       "    </tr>\n",
       "    <tr>\n",
       "      <th>59</th>\n",
       "      <td>23.0</td>\n",
       "      <td>4</td>\n",
       "      <td>97.0</td>\n",
       "      <td>54.0</td>\n",
       "      <td>2254.0</td>\n",
       "      <td>23.5</td>\n",
       "      <td>72</td>\n",
       "      <td>2</td>\n",
       "      <td>volkswagen type 3</td>\n",
       "    </tr>\n",
       "    <tr>\n",
       "      <th>301</th>\n",
       "      <td>27.2</td>\n",
       "      <td>4</td>\n",
       "      <td>141.0</td>\n",
       "      <td>71.0</td>\n",
       "      <td>3190.0</td>\n",
       "      <td>24.8</td>\n",
       "      <td>79</td>\n",
       "      <td>2</td>\n",
       "      <td>peugeot 504</td>\n",
       "    </tr>\n",
       "    <tr>\n",
       "      <th>328</th>\n",
       "      <td>43.4</td>\n",
       "      <td>4</td>\n",
       "      <td>90.0</td>\n",
       "      <td>48.0</td>\n",
       "      <td>2335.0</td>\n",
       "      <td>23.7</td>\n",
       "      <td>80</td>\n",
       "      <td>2</td>\n",
       "      <td>vw dasher (diesel)</td>\n",
       "    </tr>\n",
       "    <tr>\n",
       "      <th>396</th>\n",
       "      <td>44.0</td>\n",
       "      <td>4</td>\n",
       "      <td>97.0</td>\n",
       "      <td>52.0</td>\n",
       "      <td>2130.0</td>\n",
       "      <td>24.6</td>\n",
       "      <td>82</td>\n",
       "      <td>2</td>\n",
       "      <td>vw pickup</td>\n",
       "    </tr>\n",
       "  </tbody>\n",
       "</table>\n",
       "</div>"
      ],
      "text/plain": [
       "      mpg  cylinders  displacement  horsepower  weight  acceleration  \\\n",
       "7    14.0          8         440.0       215.0  4312.0           8.5   \n",
       "9    15.0          8         390.0       190.0  3850.0           8.5   \n",
       "11   14.0          8         340.0       160.0  3609.0           8.0   \n",
       "59   23.0          4          97.0        54.0  2254.0          23.5   \n",
       "301  27.2          4         141.0        71.0  3190.0          24.8   \n",
       "328  43.4          4          90.0        48.0  2335.0          23.7   \n",
       "396  44.0          4          97.0        52.0  2130.0          24.6   \n",
       "\n",
       "     model_year  origin            car_name  \n",
       "7            70       1   plymouth fury iii  \n",
       "9            70       1  amc ambassador dpl  \n",
       "11           70       1  plymouth 'cuda 340  \n",
       "59           72       2   volkswagen type 3  \n",
       "301          79       2         peugeot 504  \n",
       "328          80       2  vw dasher (diesel)  \n",
       "396          82       2           vw pickup  "
      ]
     },
     "execution_count": 1649,
     "metadata": {},
     "output_type": "execute_result"
    }
   ],
   "source": [
    "x_df[(x_df['acceleration'] < lowerbound_acc) | (x_df['acceleration'] > upperbound_acc)]"
   ]
  },
  {
   "cell_type": "code",
   "execution_count": 1650,
   "id": "d9c20378",
   "metadata": {},
   "outputs": [
    {
     "data": {
      "image/png": "[encoded data removed]",
      "text/plain": [
       "<Figure size 432x288 with 1 Axes>"
      ]
     },
     "metadata": {
      "needs_background": "light"
     },
     "output_type": "display_data"
    }
   ],
   "source": [
    "sns.boxplot(x = x_df['acceleration'])\n",
    "plt.show()"
   ]
  },
  {
   "cell_type": "code",
   "execution_count": 1651,
   "id": "38ba82ea",
   "metadata": {},
   "outputs": [],
   "source": [
    "#winsorise method\n",
    "from scipy.stats.mstats import winsorize"
   ]
  },
  {
   "cell_type": "code",
   "execution_count": 1652,
   "id": "f85a2700",
   "metadata": {},
   "outputs": [
    {
     "data": {
      "text/plain": [
       "8.8"
      ]
     },
     "execution_count": 1652,
     "metadata": {},
     "output_type": "execute_result"
    }
   ],
   "source": [
    "lowerbound_acc"
   ]
  },
  {
   "cell_type": "code",
   "execution_count": 1653,
   "id": "59ef800f",
   "metadata": {},
   "outputs": [
    {
     "data": {
      "text/plain": [
       "22.2"
      ]
     },
     "execution_count": 1653,
     "metadata": {},
     "output_type": "execute_result"
    }
   ],
   "source": [
    "upperbound_acc"
   ]
  },
  {
   "cell_type": "code",
   "execution_count": 1654,
   "id": "7735f0f7",
   "metadata": {},
   "outputs": [
    {
     "data": {
      "text/plain": [
       "9.485"
      ]
     },
     "execution_count": 1654,
     "metadata": {},
     "output_type": "execute_result"
    }
   ],
   "source": [
    "x_df['acceleration'].quantile(0.01)"
   ]
  },
  {
   "cell_type": "code",
   "execution_count": 1655,
   "id": "6dcbf8fd",
   "metadata": {},
   "outputs": [
    {
     "data": {
      "text/plain": [
       "21.806"
      ]
     },
     "execution_count": 1655,
     "metadata": {},
     "output_type": "execute_result"
    }
   ],
   "source": [
    "x_df['acceleration'].quantile(0.98)"
   ]
  },
  {
   "cell_type": "code",
   "execution_count": 1656,
   "id": "ff898934",
   "metadata": {},
   "outputs": [],
   "source": [
    "df_table_win = winsorize(x_df['acceleration'],(0.01,0.02))"
   ]
  },
  {
   "cell_type": "code",
   "execution_count": 1657,
   "id": "efaa06ee",
   "metadata": {},
   "outputs": [
    {
     "data": {
      "text/plain": [
       "<AxesSubplot:>"
      ]
     },
     "execution_count": 1657,
     "metadata": {},
     "output_type": "execute_result"
    },
    {
     "data": {
      "image/png": "[encoded data removed]",
      "text/plain": [
       "<Figure size 432x288 with 1 Axes>"
      ]
     },
     "metadata": {
      "needs_background": "light"
     },
     "output_type": "display_data"
    }
   ],
   "source": [
    "sns.boxplot(x = df_table_win)"
   ]
  },
  {
   "cell_type": "code",
   "execution_count": 1658,
   "id": "afd58ac8",
   "metadata": {},
   "outputs": [],
   "source": [
    "df_table_win = pd.DataFrame(df_table_win)"
   ]
  },
  {
   "cell_type": "code",
   "execution_count": 1659,
   "id": "ecf36bdf",
   "metadata": {},
   "outputs": [
    {
     "data": {
      "text/html": [
       "<div>\n",
       "<style scoped>\n",
       "    .dataframe tbody tr th:only-of-type {\n",
       "        vertical-align: middle;\n",
       "    }\n",
       "\n",
       "    .dataframe tbody tr th {\n",
       "        vertical-align: top;\n",
       "    }\n",
       "\n",
       "    .dataframe thead th {\n",
       "        text-align: right;\n",
       "    }\n",
       "</style>\n",
       "<table border=\"1\" class=\"dataframe\">\n",
       "  <thead>\n",
       "    <tr style=\"text-align: right;\">\n",
       "      <th></th>\n",
       "      <th>0</th>\n",
       "    </tr>\n",
       "  </thead>\n",
       "  <tbody>\n",
       "    <tr>\n",
       "      <th>count</th>\n",
       "      <td>398.000000</td>\n",
       "    </tr>\n",
       "    <tr>\n",
       "      <th>mean</th>\n",
       "      <td>15.548492</td>\n",
       "    </tr>\n",
       "    <tr>\n",
       "      <th>std</th>\n",
       "      <td>2.677161</td>\n",
       "    </tr>\n",
       "    <tr>\n",
       "      <th>min</th>\n",
       "      <td>9.000000</td>\n",
       "    </tr>\n",
       "    <tr>\n",
       "      <th>25%</th>\n",
       "      <td>13.825000</td>\n",
       "    </tr>\n",
       "    <tr>\n",
       "      <th>50%</th>\n",
       "      <td>15.500000</td>\n",
       "    </tr>\n",
       "    <tr>\n",
       "      <th>75%</th>\n",
       "      <td>17.175000</td>\n",
       "    </tr>\n",
       "    <tr>\n",
       "      <th>max</th>\n",
       "      <td>21.900000</td>\n",
       "    </tr>\n",
       "  </tbody>\n",
       "</table>\n",
       "</div>"
      ],
      "text/plain": [
       "                0\n",
       "count  398.000000\n",
       "mean    15.548492\n",
       "std      2.677161\n",
       "min      9.000000\n",
       "25%     13.825000\n",
       "50%     15.500000\n",
       "75%     17.175000\n",
       "max     21.900000"
      ]
     },
     "execution_count": 1659,
     "metadata": {},
     "output_type": "execute_result"
    }
   ],
   "source": [
    "df_table_win.describe()"
   ]
  },
  {
   "cell_type": "code",
   "execution_count": 1660,
   "id": "34b48915",
   "metadata": {},
   "outputs": [
    {
     "data": {
      "text/plain": [
       "0    12.0\n",
       "1    11.5\n",
       "2    11.0\n",
       "3    12.0\n",
       "4    10.5\n",
       "5    10.0\n",
       "6     9.0\n",
       "7     8.5\n",
       "8    10.0\n",
       "9     8.5\n",
       "Name: acceleration, dtype: float64"
      ]
     },
     "execution_count": 1660,
     "metadata": {},
     "output_type": "execute_result"
    }
   ],
   "source": [
    "x_df['acceleration'].head(10)"
   ]
  },
  {
   "cell_type": "markdown",
   "id": "2fe7427c",
   "metadata": {},
   "source": [
    "# part 3 (f)"
   ]
  },
  {
   "cell_type": "code",
   "execution_count": 1661,
   "id": "d68d48c9",
   "metadata": {},
   "outputs": [],
   "source": [
    "#Display the correlation matrix using the seaborn heatmap function between continuous \n",
    "#variables; mpg, horsepower, weight, displacement, and acceleration. "
   ]
  },
  {
   "cell_type": "code",
   "execution_count": 1662,
   "id": "0ba26771",
   "metadata": {},
   "outputs": [],
   "source": [
    "import seaborn as sns"
   ]
  },
  {
   "cell_type": "code",
   "execution_count": 1664,
   "id": "6c0a8f2f",
   "metadata": {},
   "outputs": [
    {
     "data": {
      "text/html": [
       "<div>\n",
       "<style scoped>\n",
       "    .dataframe tbody tr th:only-of-type {\n",
       "        vertical-align: middle;\n",
       "    }\n",
       "\n",
       "    .dataframe tbody tr th {\n",
       "        vertical-align: top;\n",
       "    }\n",
       "\n",
       "    .dataframe thead th {\n",
       "        text-align: right;\n",
       "    }\n",
       "</style>\n",
       "<table border=\"1\" class=\"dataframe\">\n",
       "  <thead>\n",
       "    <tr style=\"text-align: right;\">\n",
       "      <th></th>\n",
       "      <th>mpg</th>\n",
       "      <th>cylinders</th>\n",
       "      <th>displacement</th>\n",
       "      <th>horsepower</th>\n",
       "      <th>weight</th>\n",
       "      <th>acceleration</th>\n",
       "      <th>model_year</th>\n",
       "      <th>origin</th>\n",
       "    </tr>\n",
       "  </thead>\n",
       "  <tbody>\n",
       "    <tr>\n",
       "      <th>mpg</th>\n",
       "      <td>1.000000</td>\n",
       "      <td>-0.775396</td>\n",
       "      <td>-0.804203</td>\n",
       "      <td>-0.778427</td>\n",
       "      <td>-0.831741</td>\n",
       "      <td>0.420289</td>\n",
       "      <td>0.579267</td>\n",
       "      <td>0.563450</td>\n",
       "    </tr>\n",
       "    <tr>\n",
       "      <th>cylinders</th>\n",
       "      <td>-0.775396</td>\n",
       "      <td>1.000000</td>\n",
       "      <td>0.950721</td>\n",
       "      <td>0.842983</td>\n",
       "      <td>0.896017</td>\n",
       "      <td>-0.505419</td>\n",
       "      <td>-0.348746</td>\n",
       "      <td>-0.562543</td>\n",
       "    </tr>\n",
       "    <tr>\n",
       "      <th>displacement</th>\n",
       "      <td>-0.804203</td>\n",
       "      <td>0.950721</td>\n",
       "      <td>1.000000</td>\n",
       "      <td>0.897257</td>\n",
       "      <td>0.932824</td>\n",
       "      <td>-0.543684</td>\n",
       "      <td>-0.370164</td>\n",
       "      <td>-0.609409</td>\n",
       "    </tr>\n",
       "    <tr>\n",
       "      <th>horsepower</th>\n",
       "      <td>-0.778427</td>\n",
       "      <td>0.842983</td>\n",
       "      <td>0.897257</td>\n",
       "      <td>1.000000</td>\n",
       "      <td>0.864538</td>\n",
       "      <td>-0.689196</td>\n",
       "      <td>-0.416361</td>\n",
       "      <td>-0.455171</td>\n",
       "    </tr>\n",
       "    <tr>\n",
       "      <th>weight</th>\n",
       "      <td>-0.831741</td>\n",
       "      <td>0.896017</td>\n",
       "      <td>0.932824</td>\n",
       "      <td>0.864538</td>\n",
       "      <td>1.000000</td>\n",
       "      <td>-0.417457</td>\n",
       "      <td>-0.306564</td>\n",
       "      <td>-0.581024</td>\n",
       "    </tr>\n",
       "    <tr>\n",
       "      <th>acceleration</th>\n",
       "      <td>0.420289</td>\n",
       "      <td>-0.505419</td>\n",
       "      <td>-0.543684</td>\n",
       "      <td>-0.689196</td>\n",
       "      <td>-0.417457</td>\n",
       "      <td>1.000000</td>\n",
       "      <td>0.288137</td>\n",
       "      <td>0.205873</td>\n",
       "    </tr>\n",
       "    <tr>\n",
       "      <th>model_year</th>\n",
       "      <td>0.579267</td>\n",
       "      <td>-0.348746</td>\n",
       "      <td>-0.370164</td>\n",
       "      <td>-0.416361</td>\n",
       "      <td>-0.306564</td>\n",
       "      <td>0.288137</td>\n",
       "      <td>1.000000</td>\n",
       "      <td>0.180662</td>\n",
       "    </tr>\n",
       "    <tr>\n",
       "      <th>origin</th>\n",
       "      <td>0.563450</td>\n",
       "      <td>-0.562543</td>\n",
       "      <td>-0.609409</td>\n",
       "      <td>-0.455171</td>\n",
       "      <td>-0.581024</td>\n",
       "      <td>0.205873</td>\n",
       "      <td>0.180662</td>\n",
       "      <td>1.000000</td>\n",
       "    </tr>\n",
       "  </tbody>\n",
       "</table>\n",
       "</div>"
      ],
      "text/plain": [
       "                   mpg  cylinders  displacement  horsepower    weight  \\\n",
       "mpg           1.000000  -0.775396     -0.804203   -0.778427 -0.831741   \n",
       "cylinders    -0.775396   1.000000      0.950721    0.842983  0.896017   \n",
       "displacement -0.804203   0.950721      1.000000    0.897257  0.932824   \n",
       "horsepower   -0.778427   0.842983      0.897257    1.000000  0.864538   \n",
       "weight       -0.831741   0.896017      0.932824    0.864538  1.000000   \n",
       "acceleration  0.420289  -0.505419     -0.543684   -0.689196 -0.417457   \n",
       "model_year    0.579267  -0.348746     -0.370164   -0.416361 -0.306564   \n",
       "origin        0.563450  -0.562543     -0.609409   -0.455171 -0.581024   \n",
       "\n",
       "              acceleration  model_year    origin  \n",
       "mpg               0.420289    0.579267  0.563450  \n",
       "cylinders        -0.505419   -0.348746 -0.562543  \n",
       "displacement     -0.543684   -0.370164 -0.609409  \n",
       "horsepower       -0.689196   -0.416361 -0.455171  \n",
       "weight           -0.417457   -0.306564 -0.581024  \n",
       "acceleration      1.000000    0.288137  0.205873  \n",
       "model_year        0.288137    1.000000  0.180662  \n",
       "origin            0.205873    0.180662  1.000000  "
      ]
     },
     "execution_count": 1664,
     "metadata": {},
     "output_type": "execute_result"
    }
   ],
   "source": [
    "x_df.corr()"
   ]
  },
  {
   "cell_type": "code",
   "execution_count": 1665,
   "id": "cd1fc776",
   "metadata": {},
   "outputs": [
    {
     "data": {
      "text/plain": [
       "<AxesSubplot:>"
      ]
     },
     "execution_count": 1665,
     "metadata": {},
     "output_type": "execute_result"
    },
    {
     "data": {
      "image/png": "[encoded data removed]",
      "text/plain": [
       "<Figure size 432x288 with 2 Axes>"
      ]
     },
     "metadata": {
      "needs_background": "light"
     },
     "output_type": "display_data"
    }
   ],
   "source": [
    "sns.heatmap(x_df.corr())"
   ]
  },
  {
   "cell_type": "code",
   "execution_count": null,
   "id": "4d6025f9",
   "metadata": {},
   "outputs": [],
   "source": []
  }
 ],
 "metadata": {
  "kernelspec": {
   "display_name": "Python 3 (ipykernel)",
   "language": "python",
   "name": "python3"
  },
  "language_info": {
   "codemirror_mode": {
    "name": "ipython",
    "version": 3
   },
   "file_extension": ".py",
   "mimetype": "text/x-python",
   "name": "python",
   "nbconvert_exporter": "python",
   "pygments_lexer": "ipython3",
   "version": "3.9.12"
  }
 },
 "nbformat": 4,
 "nbformat_minor": 5
}
