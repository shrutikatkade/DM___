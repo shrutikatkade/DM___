{
 "cells": [
  {
   "cell_type": "code",
   "execution_count": 1248,
   "id": "ac2f5ef8",
   "metadata": {},
   "outputs": [],
   "source": [
    "import pandas as pd\n",
    "import numpy as np\n",
    "import math\n",
    "from sklearn.metrics import mean_squared_error\n",
    "from sklearn.impute import KNNImputer\n",
    "import scipy\n",
    "\n",
    "missing_values = ['?', 'NA', 'None', 'N/A']\n",
    "df = pd.read_csv(\"auto-mpg.data\", sep='\\s+', na_values = missing_values)"
   ]
  },
  {
   "cell_type": "code",
   "execution_count": 1249,
   "id": "a0cecd1d",
   "metadata": {},
   "outputs": [
    {
     "data": {
      "text/plain": [
       "0      False\n",
       "1      False\n",
       "2      False\n",
       "3      False\n",
       "4      False\n",
       "       ...  \n",
       "395    False\n",
       "396    False\n",
       "397    False\n",
       "398    False\n",
       "399    False\n",
       "Length: 400, dtype: bool"
      ]
     },
     "execution_count": 1249,
     "metadata": {},
     "output_type": "execute_result"
    }
   ],
   "source": [
    "df.duplicated()\n",
    "#df.mpg.duplicated()  #Duplicates in specific column\n",
    "#df.drop_duplicates(keep='last')"
   ]
  },
  {
   "cell_type": "code",
   "execution_count": 1250,
   "id": "fc9c11bb",
   "metadata": {},
   "outputs": [
    {
     "data": {
      "text/plain": [
       "271"
      ]
     },
     "execution_count": 1250,
     "metadata": {},
     "output_type": "execute_result"
    }
   ],
   "source": [
    "df.mpg.duplicated().sum()"
   ]
  },
  {
   "cell_type": "code",
   "execution_count": 1251,
   "id": "ec2e068d",
   "metadata": {},
   "outputs": [
    {
     "data": {
      "text/plain": [
       "2"
      ]
     },
     "execution_count": 1251,
     "metadata": {},
     "output_type": "execute_result"
    }
   ],
   "source": [
    "df.duplicated().sum()"
   ]
  },
  {
   "cell_type": "code",
   "execution_count": 1252,
   "id": "0c9e2cc1",
   "metadata": {},
   "outputs": [
    {
     "data": {
      "text/plain": [
       "398"
      ]
     },
     "execution_count": 1252,
     "metadata": {},
     "output_type": "execute_result"
    }
   ],
   "source": [
    "(~df.duplicated()).sum()"
   ]
  },
  {
   "cell_type": "code",
   "execution_count": 1253,
   "id": "ff0da007",
   "metadata": {},
   "outputs": [
    {
     "data": {
      "text/html": [
       "<div>\n",
       "<style scoped>\n",
       "    .dataframe tbody tr th:only-of-type {\n",
       "        vertical-align: middle;\n",
       "    }\n",
       "\n",
       "    .dataframe tbody tr th {\n",
       "        vertical-align: top;\n",
       "    }\n",
       "\n",
       "    .dataframe thead th {\n",
       "        text-align: right;\n",
       "    }\n",
       "</style>\n",
       "<table border=\"1\" class=\"dataframe\">\n",
       "  <thead>\n",
       "    <tr style=\"text-align: right;\">\n",
       "      <th></th>\n",
       "      <th>mpg</th>\n",
       "      <th>cylinders</th>\n",
       "      <th>displacement</th>\n",
       "      <th>horsepower</th>\n",
       "      <th>weight</th>\n",
       "      <th>acceleration</th>\n",
       "      <th>model_year</th>\n",
       "      <th>origin</th>\n",
       "      <th>car_name</th>\n",
       "    </tr>\n",
       "  </thead>\n",
       "  <tbody>\n",
       "    <tr>\n",
       "      <th>96</th>\n",
       "      <td>16.0</td>\n",
       "      <td>6</td>\n",
       "      <td>225.0</td>\n",
       "      <td>105.0</td>\n",
       "      <td>3439.0</td>\n",
       "      <td>15.5</td>\n",
       "      <td>71</td>\n",
       "      <td>1</td>\n",
       "      <td>plymouth satellite custom</td>\n",
       "    </tr>\n",
       "    <tr>\n",
       "      <th>158</th>\n",
       "      <td>13.0</td>\n",
       "      <td>8</td>\n",
       "      <td>351.0</td>\n",
       "      <td>158.0</td>\n",
       "      <td>4363.0</td>\n",
       "      <td>13.0</td>\n",
       "      <td>73</td>\n",
       "      <td>1</td>\n",
       "      <td>ford ltd</td>\n",
       "    </tr>\n",
       "  </tbody>\n",
       "</table>\n",
       "</div>"
      ],
      "text/plain": [
       "      mpg  cylinders  displacement  horsepower  weight  acceleration  \\\n",
       "96   16.0          6         225.0       105.0  3439.0          15.5   \n",
       "158  13.0          8         351.0       158.0  4363.0          13.0   \n",
       "\n",
       "     model_year  origin                   car_name  \n",
       "96           71       1  plymouth satellite custom  \n",
       "158          73       1                   ford ltd  "
      ]
     },
     "execution_count": 1253,
     "metadata": {},
     "output_type": "execute_result"
    }
   ],
   "source": [
    "df.loc[df.duplicated(), :]"
   ]
  },
  {
   "cell_type": "code",
   "execution_count": 1254,
   "id": "05dc97c4",
   "metadata": {},
   "outputs": [
    {
     "data": {
      "text/html": [
       "<div>\n",
       "<style scoped>\n",
       "    .dataframe tbody tr th:only-of-type {\n",
       "        vertical-align: middle;\n",
       "    }\n",
       "\n",
       "    .dataframe tbody tr th {\n",
       "        vertical-align: top;\n",
       "    }\n",
       "\n",
       "    .dataframe thead th {\n",
       "        text-align: right;\n",
       "    }\n",
       "</style>\n",
       "<table border=\"1\" class=\"dataframe\">\n",
       "  <thead>\n",
       "    <tr style=\"text-align: right;\">\n",
       "      <th></th>\n",
       "      <th>mpg</th>\n",
       "      <th>cylinders</th>\n",
       "      <th>displacement</th>\n",
       "      <th>horsepower</th>\n",
       "      <th>weight</th>\n",
       "      <th>acceleration</th>\n",
       "      <th>model_year</th>\n",
       "      <th>origin</th>\n",
       "      <th>car_name</th>\n",
       "    </tr>\n",
       "  </thead>\n",
       "  <tbody>\n",
       "    <tr>\n",
       "      <th>96</th>\n",
       "      <td>16.0</td>\n",
       "      <td>6</td>\n",
       "      <td>225.0</td>\n",
       "      <td>105.0</td>\n",
       "      <td>3439.0</td>\n",
       "      <td>15.5</td>\n",
       "      <td>71</td>\n",
       "      <td>1</td>\n",
       "      <td>plymouth satellite custom</td>\n",
       "    </tr>\n",
       "    <tr>\n",
       "      <th>158</th>\n",
       "      <td>13.0</td>\n",
       "      <td>8</td>\n",
       "      <td>351.0</td>\n",
       "      <td>158.0</td>\n",
       "      <td>4363.0</td>\n",
       "      <td>13.0</td>\n",
       "      <td>73</td>\n",
       "      <td>1</td>\n",
       "      <td>ford ltd</td>\n",
       "    </tr>\n",
       "  </tbody>\n",
       "</table>\n",
       "</div>"
      ],
      "text/plain": [
       "      mpg  cylinders  displacement  horsepower  weight  acceleration  \\\n",
       "96   16.0          6         225.0       105.0  3439.0          15.5   \n",
       "158  13.0          8         351.0       158.0  4363.0          13.0   \n",
       "\n",
       "     model_year  origin                   car_name  \n",
       "96           71       1  plymouth satellite custom  \n",
       "158          73       1                   ford ltd  "
      ]
     },
     "execution_count": 1254,
     "metadata": {},
     "output_type": "execute_result"
    }
   ],
   "source": [
    "df.loc[df.duplicated(keep='first'), :]  #keep one duplicated record and delete other record(s)"
   ]
  },
  {
   "cell_type": "code",
   "execution_count": 1255,
   "id": "165c2042",
   "metadata": {},
   "outputs": [],
   "source": [
    "x_df = df.drop_duplicates()"
   ]
  },
  {
   "cell_type": "code",
   "execution_count": 1256,
   "id": "631ea301",
   "metadata": {},
   "outputs": [],
   "source": [
    "# x_df -> dataset does not have duplicates"
   ]
  },
  {
   "cell_type": "code",
   "execution_count": 1257,
   "id": "0ad9da52",
   "metadata": {},
   "outputs": [
    {
     "data": {
      "text/plain": [
       "398"
      ]
     },
     "execution_count": 1257,
     "metadata": {},
     "output_type": "execute_result"
    }
   ],
   "source": [
    "len(x_df)"
   ]
  },
  {
   "cell_type": "code",
   "execution_count": 1258,
   "id": "cd718edf",
   "metadata": {},
   "outputs": [
    {
     "data": {
      "text/plain": [
       "3582"
      ]
     },
     "execution_count": 1258,
     "metadata": {},
     "output_type": "execute_result"
    }
   ],
   "source": [
    "x_df.size"
   ]
  },
  {
   "cell_type": "code",
   "execution_count": 1259,
   "id": "0a6bf1bc",
   "metadata": {},
   "outputs": [
    {
     "data": {
      "text/plain": [
       "(398, 9)"
      ]
     },
     "execution_count": 1259,
     "metadata": {},
     "output_type": "execute_result"
    }
   ],
   "source": [
    "x_df.shape   # dimension of data frame after removing duplicates"
   ]
  },
  {
   "cell_type": "code",
   "execution_count": 1260,
   "id": "6c4f7fe8",
   "metadata": {},
   "outputs": [
    {
     "data": {
      "text/plain": [
       "0      False\n",
       "1      False\n",
       "2      False\n",
       "3      False\n",
       "4      False\n",
       "       ...  \n",
       "395    False\n",
       "396    False\n",
       "397    False\n",
       "398    False\n",
       "399    False\n",
       "Name: horsepower, Length: 398, dtype: bool"
      ]
     },
     "execution_count": 1260,
     "metadata": {},
     "output_type": "execute_result"
    }
   ],
   "source": [
    "x_df['horsepower'].isna()"
   ]
  },
  {
   "cell_type": "code",
   "execution_count": 1261,
   "id": "2712929a",
   "metadata": {},
   "outputs": [
    {
     "data": {
      "text/plain": [
       "6"
      ]
     },
     "execution_count": 1261,
     "metadata": {},
     "output_type": "execute_result"
    }
   ],
   "source": [
    "x_df['horsepower'].isna().sum()"
   ]
  },
  {
   "cell_type": "code",
   "execution_count": 1262,
   "id": "58304655",
   "metadata": {},
   "outputs": [
    {
     "data": {
      "text/plain": [
       "6"
      ]
     },
     "execution_count": 1262,
     "metadata": {},
     "output_type": "execute_result"
    }
   ],
   "source": [
    "x_df['horsepower'].isnull().sum()"
   ]
  },
  {
   "cell_type": "code",
   "execution_count": 1263,
   "id": "dea80bfb",
   "metadata": {},
   "outputs": [
    {
     "data": {
      "text/plain": [
       "mpg             0\n",
       "cylinders       0\n",
       "displacement    0\n",
       "horsepower      6\n",
       "weight          0\n",
       "acceleration    0\n",
       "model_year      0\n",
       "origin          0\n",
       "car_name        0\n",
       "dtype: int64"
      ]
     },
     "execution_count": 1263,
     "metadata": {},
     "output_type": "execute_result"
    }
   ],
   "source": [
    "x_df.isnull().sum()"
   ]
  },
  {
   "cell_type": "code",
   "execution_count": 1264,
   "id": "5297f995",
   "metadata": {},
   "outputs": [
    {
     "data": {
      "text/plain": [
       "(398, 9)"
      ]
     },
     "execution_count": 1264,
     "metadata": {},
     "output_type": "execute_result"
    }
   ],
   "source": [
    "x_df.shape"
   ]
  },
  {
   "cell_type": "code",
   "execution_count": 1265,
   "id": "4d77b773",
   "metadata": {},
   "outputs": [],
   "source": [
    "x_df_d = x_df.dropna()"
   ]
  },
  {
   "cell_type": "code",
   "execution_count": 1266,
   "id": "e1f77e27",
   "metadata": {},
   "outputs": [
    {
     "data": {
      "text/plain": [
       "(392, 9)"
      ]
     },
     "execution_count": 1266,
     "metadata": {},
     "output_type": "execute_result"
    }
   ],
   "source": [
    "x_df_d.shape"
   ]
  },
  {
   "cell_type": "code",
   "execution_count": 1267,
   "id": "648bdd68",
   "metadata": {},
   "outputs": [
    {
     "data": {
      "text/html": [
       "<div>\n",
       "<style scoped>\n",
       "    .dataframe tbody tr th:only-of-type {\n",
       "        vertical-align: middle;\n",
       "    }\n",
       "\n",
       "    .dataframe tbody tr th {\n",
       "        vertical-align: top;\n",
       "    }\n",
       "\n",
       "    .dataframe thead th {\n",
       "        text-align: right;\n",
       "    }\n",
       "</style>\n",
       "<table border=\"1\" class=\"dataframe\">\n",
       "  <thead>\n",
       "    <tr style=\"text-align: right;\">\n",
       "      <th></th>\n",
       "      <th>mpg</th>\n",
       "      <th>cylinders</th>\n",
       "      <th>displacement</th>\n",
       "      <th>horsepower</th>\n",
       "      <th>weight</th>\n",
       "      <th>acceleration</th>\n",
       "      <th>model_year</th>\n",
       "      <th>origin</th>\n",
       "      <th>car_name</th>\n",
       "    </tr>\n",
       "  </thead>\n",
       "  <tbody>\n",
       "    <tr>\n",
       "      <th>73</th>\n",
       "      <td>13.0</td>\n",
       "      <td>8</td>\n",
       "      <td>307.0</td>\n",
       "      <td>130.0</td>\n",
       "      <td>4098.0</td>\n",
       "      <td>14.0</td>\n",
       "      <td>72</td>\n",
       "      <td>1</td>\n",
       "      <td>chevrolet chevelle concours (sw)</td>\n",
       "    </tr>\n",
       "    <tr>\n",
       "      <th>148</th>\n",
       "      <td>24.0</td>\n",
       "      <td>4</td>\n",
       "      <td>90.0</td>\n",
       "      <td>75.0</td>\n",
       "      <td>2108.0</td>\n",
       "      <td>15.5</td>\n",
       "      <td>74</td>\n",
       "      <td>2</td>\n",
       "      <td>fiat 128</td>\n",
       "    </tr>\n",
       "    <tr>\n",
       "      <th>377</th>\n",
       "      <td>36.0</td>\n",
       "      <td>4</td>\n",
       "      <td>105.0</td>\n",
       "      <td>74.0</td>\n",
       "      <td>1980.0</td>\n",
       "      <td>15.3</td>\n",
       "      <td>82</td>\n",
       "      <td>2</td>\n",
       "      <td>volkswagen rabbit l</td>\n",
       "    </tr>\n",
       "    <tr>\n",
       "      <th>144</th>\n",
       "      <td>26.0</td>\n",
       "      <td>4</td>\n",
       "      <td>97.0</td>\n",
       "      <td>78.0</td>\n",
       "      <td>2300.0</td>\n",
       "      <td>14.5</td>\n",
       "      <td>74</td>\n",
       "      <td>2</td>\n",
       "      <td>opel manta</td>\n",
       "    </tr>\n",
       "    <tr>\n",
       "      <th>161</th>\n",
       "      <td>14.0</td>\n",
       "      <td>8</td>\n",
       "      <td>351.0</td>\n",
       "      <td>148.0</td>\n",
       "      <td>4657.0</td>\n",
       "      <td>13.5</td>\n",
       "      <td>75</td>\n",
       "      <td>1</td>\n",
       "      <td>ford ltd</td>\n",
       "    </tr>\n",
       "  </tbody>\n",
       "</table>\n",
       "</div>"
      ],
      "text/plain": [
       "      mpg  cylinders  displacement  horsepower  weight  acceleration  \\\n",
       "73   13.0          8         307.0       130.0  4098.0          14.0   \n",
       "148  24.0          4          90.0        75.0  2108.0          15.5   \n",
       "377  36.0          4         105.0        74.0  1980.0          15.3   \n",
       "144  26.0          4          97.0        78.0  2300.0          14.5   \n",
       "161  14.0          8         351.0       148.0  4657.0          13.5   \n",
       "\n",
       "     model_year  origin                          car_name  \n",
       "73           72       1  chevrolet chevelle concours (sw)  \n",
       "148          74       2                          fiat 128  \n",
       "377          82       2               volkswagen rabbit l  \n",
       "144          74       2                        opel manta  \n",
       "161          75       1                          ford ltd  "
      ]
     },
     "execution_count": 1267,
     "metadata": {},
     "output_type": "execute_result"
    }
   ],
   "source": [
    "from sklearn.model_selection import train_test_split\n",
    "\n",
    "x = x_df_d.iloc[:, :]\n",
    "y = x_df_d.iloc[:, ]\n",
    "\n",
    "x_train,x_test,y_train,y_test=train_test_split(x,y,random_state=42,test_size=0.1)\n",
    "x_train.head()"
   ]
  },
  {
   "cell_type": "code",
   "execution_count": 1268,
   "id": "b8a1166c",
   "metadata": {},
   "outputs": [
    {
     "data": {
      "text/plain": [
       "(40, 9)"
      ]
     },
     "execution_count": 1268,
     "metadata": {},
     "output_type": "execute_result"
    }
   ],
   "source": [
    "x_test.shape"
   ]
  },
  {
   "cell_type": "code",
   "execution_count": 1269,
   "id": "a8f085ca",
   "metadata": {},
   "outputs": [
    {
     "data": {
      "text/html": [
       "<div>\n",
       "<style scoped>\n",
       "    .dataframe tbody tr th:only-of-type {\n",
       "        vertical-align: middle;\n",
       "    }\n",
       "\n",
       "    .dataframe tbody tr th {\n",
       "        vertical-align: top;\n",
       "    }\n",
       "\n",
       "    .dataframe thead th {\n",
       "        text-align: right;\n",
       "    }\n",
       "</style>\n",
       "<table border=\"1\" class=\"dataframe\">\n",
       "  <thead>\n",
       "    <tr style=\"text-align: right;\">\n",
       "      <th></th>\n",
       "      <th>mpg</th>\n",
       "      <th>cylinders</th>\n",
       "      <th>displacement</th>\n",
       "      <th>horsepower</th>\n",
       "      <th>weight</th>\n",
       "      <th>acceleration</th>\n",
       "      <th>model_year</th>\n",
       "      <th>origin</th>\n",
       "      <th>car_name</th>\n",
       "    </tr>\n",
       "  </thead>\n",
       "  <tbody>\n",
       "    <tr>\n",
       "      <th>79</th>\n",
       "      <td>26.0</td>\n",
       "      <td>4</td>\n",
       "      <td>96.0</td>\n",
       "      <td>69.0</td>\n",
       "      <td>2189.0</td>\n",
       "      <td>18.0</td>\n",
       "      <td>72</td>\n",
       "      <td>2</td>\n",
       "      <td>renault 12 (sw)</td>\n",
       "    </tr>\n",
       "    <tr>\n",
       "      <th>278</th>\n",
       "      <td>21.6</td>\n",
       "      <td>4</td>\n",
       "      <td>121.0</td>\n",
       "      <td>115.0</td>\n",
       "      <td>2795.0</td>\n",
       "      <td>15.7</td>\n",
       "      <td>78</td>\n",
       "      <td>2</td>\n",
       "      <td>saab 99gle</td>\n",
       "    </tr>\n",
       "    <tr>\n",
       "      <th>250</th>\n",
       "      <td>36.1</td>\n",
       "      <td>4</td>\n",
       "      <td>91.0</td>\n",
       "      <td>60.0</td>\n",
       "      <td>1800.0</td>\n",
       "      <td>16.4</td>\n",
       "      <td>78</td>\n",
       "      <td>3</td>\n",
       "      <td>honda civic cvcc</td>\n",
       "    </tr>\n",
       "    <tr>\n",
       "      <th>56</th>\n",
       "      <td>26.0</td>\n",
       "      <td>4</td>\n",
       "      <td>91.0</td>\n",
       "      <td>70.0</td>\n",
       "      <td>1955.0</td>\n",
       "      <td>20.5</td>\n",
       "      <td>71</td>\n",
       "      <td>1</td>\n",
       "      <td>plymouth cricket</td>\n",
       "    </tr>\n",
       "    <tr>\n",
       "      <th>395</th>\n",
       "      <td>27.0</td>\n",
       "      <td>4</td>\n",
       "      <td>140.0</td>\n",
       "      <td>86.0</td>\n",
       "      <td>2790.0</td>\n",
       "      <td>15.6</td>\n",
       "      <td>82</td>\n",
       "      <td>1</td>\n",
       "      <td>ford mustang gl</td>\n",
       "    </tr>\n",
       "  </tbody>\n",
       "</table>\n",
       "</div>"
      ],
      "text/plain": [
       "      mpg  cylinders  displacement  horsepower  weight  acceleration  \\\n",
       "79   26.0          4          96.0        69.0  2189.0          18.0   \n",
       "278  21.6          4         121.0       115.0  2795.0          15.7   \n",
       "250  36.1          4          91.0        60.0  1800.0          16.4   \n",
       "56   26.0          4          91.0        70.0  1955.0          20.5   \n",
       "395  27.0          4         140.0        86.0  2790.0          15.6   \n",
       "\n",
       "     model_year  origin          car_name  \n",
       "79           72       2   renault 12 (sw)  \n",
       "278          78       2        saab 99gle  \n",
       "250          78       3  honda civic cvcc  \n",
       "56           71       1  plymouth cricket  \n",
       "395          82       1   ford mustang gl  "
      ]
     },
     "execution_count": 1269,
     "metadata": {},
     "output_type": "execute_result"
    }
   ],
   "source": [
    "x_test.head()"
   ]
  },
  {
   "cell_type": "markdown",
   "id": "c0fd0b23",
   "metadata": {},
   "source": [
    "# part 2 (d)"
   ]
  },
  {
   "cell_type": "code",
   "execution_count": 1270,
   "id": "ff410f5a",
   "metadata": {},
   "outputs": [],
   "source": [
    "x_actaul = x_test['horsepower']"
   ]
  },
  {
   "cell_type": "code",
   "execution_count": 1271,
   "id": "ed9bd8cc",
   "metadata": {},
   "outputs": [],
   "source": [
    "x_test['x_actual'] = x_actual"
   ]
  },
  {
   "cell_type": "code",
   "execution_count": 1272,
   "id": "2065b7e7",
   "metadata": {},
   "outputs": [],
   "source": [
    "x_test['horsepower'] = None"
   ]
  },
  {
   "cell_type": "code",
   "execution_count": 1273,
   "id": "a7f7a7c4",
   "metadata": {},
   "outputs": [],
   "source": [
    "x_predicted = []"
   ]
  },
  {
   "cell_type": "code",
   "execution_count": 1274,
   "id": "9a4a2ce5",
   "metadata": {},
   "outputs": [],
   "source": [
    "x_predicted = x_test['horsepower'].fillna(x_train['horsepower'].mean())"
   ]
  },
  {
   "cell_type": "code",
   "execution_count": 1275,
   "id": "14d224ff",
   "metadata": {},
   "outputs": [],
   "source": [
    "x_test['x_predicted'] = x_predicted #imputed"
   ]
  },
  {
   "cell_type": "code",
   "execution_count": 1276,
   "id": "a86b12b1",
   "metadata": {},
   "outputs": [],
   "source": [
    "x_test['horsepower'] = x_test['horsepower'].fillna(x_train['horsepower'].mean())"
   ]
  },
  {
   "cell_type": "code",
   "execution_count": 1277,
   "id": "9a032e6d",
   "metadata": {},
   "outputs": [],
   "source": [
    "# err = x_test['x_predicted'] - x_test['x_actual']\n",
    "# x_test['err'] = err"
   ]
  },
  {
   "cell_type": "code",
   "execution_count": 1278,
   "id": "0f6e7ccb",
   "metadata": {},
   "outputs": [],
   "source": [
    "# sq_err = x_test['err'] * x_test['err']\n",
    "# x_test['sq_err'] = sq_err"
   ]
  },
  {
   "cell_type": "code",
   "execution_count": 1279,
   "id": "30685099",
   "metadata": {},
   "outputs": [
    {
     "data": {
      "text/plain": [
       "39.0307007964458"
      ]
     },
     "execution_count": 1279,
     "metadata": {},
     "output_type": "execute_result"
    }
   ],
   "source": [
    "MSE = np.square(np.subtract(x_actual,x_predicted)).mean() \n",
    "RMSE = math.sqrt(MSE)\n",
    "RMSE"
   ]
  },
  {
   "cell_type": "markdown",
   "id": "77147104",
   "metadata": {},
   "source": [
    "# part 2 (e)"
   ]
  },
  {
   "cell_type": "code",
   "execution_count": 1280,
   "id": "f228c8ff",
   "metadata": {},
   "outputs": [
    {
     "data": {
      "text/html": [
       "<div>\n",
       "<style scoped>\n",
       "    .dataframe tbody tr th:only-of-type {\n",
       "        vertical-align: middle;\n",
       "    }\n",
       "\n",
       "    .dataframe tbody tr th {\n",
       "        vertical-align: top;\n",
       "    }\n",
       "\n",
       "    .dataframe thead th {\n",
       "        text-align: right;\n",
       "    }\n",
       "</style>\n",
       "<table border=\"1\" class=\"dataframe\">\n",
       "  <thead>\n",
       "    <tr style=\"text-align: right;\">\n",
       "      <th></th>\n",
       "      <th>mpg</th>\n",
       "      <th>cylinders</th>\n",
       "      <th>displacement</th>\n",
       "      <th>horsepower</th>\n",
       "      <th>weight</th>\n",
       "      <th>acceleration</th>\n",
       "      <th>model_year</th>\n",
       "      <th>origin</th>\n",
       "      <th>car_name</th>\n",
       "    </tr>\n",
       "  </thead>\n",
       "  <tbody>\n",
       "    <tr>\n",
       "      <th>0</th>\n",
       "      <td>18.0</td>\n",
       "      <td>8</td>\n",
       "      <td>307.0</td>\n",
       "      <td>130.0</td>\n",
       "      <td>3504.0</td>\n",
       "      <td>12.0</td>\n",
       "      <td>70</td>\n",
       "      <td>1</td>\n",
       "      <td>chevrolet chevelle malibu</td>\n",
       "    </tr>\n",
       "    <tr>\n",
       "      <th>1</th>\n",
       "      <td>15.0</td>\n",
       "      <td>8</td>\n",
       "      <td>350.0</td>\n",
       "      <td>165.0</td>\n",
       "      <td>3693.0</td>\n",
       "      <td>11.5</td>\n",
       "      <td>70</td>\n",
       "      <td>1</td>\n",
       "      <td>buick skylark 320</td>\n",
       "    </tr>\n",
       "    <tr>\n",
       "      <th>2</th>\n",
       "      <td>18.0</td>\n",
       "      <td>8</td>\n",
       "      <td>318.0</td>\n",
       "      <td>150.0</td>\n",
       "      <td>3436.0</td>\n",
       "      <td>11.0</td>\n",
       "      <td>70</td>\n",
       "      <td>1</td>\n",
       "      <td>plymouth satellite</td>\n",
       "    </tr>\n",
       "    <tr>\n",
       "      <th>3</th>\n",
       "      <td>16.0</td>\n",
       "      <td>8</td>\n",
       "      <td>304.0</td>\n",
       "      <td>150.0</td>\n",
       "      <td>3433.0</td>\n",
       "      <td>12.0</td>\n",
       "      <td>70</td>\n",
       "      <td>1</td>\n",
       "      <td>amc rebel sst</td>\n",
       "    </tr>\n",
       "    <tr>\n",
       "      <th>4</th>\n",
       "      <td>17.0</td>\n",
       "      <td>8</td>\n",
       "      <td>302.0</td>\n",
       "      <td>140.0</td>\n",
       "      <td>3449.0</td>\n",
       "      <td>10.5</td>\n",
       "      <td>70</td>\n",
       "      <td>1</td>\n",
       "      <td>ford torino</td>\n",
       "    </tr>\n",
       "  </tbody>\n",
       "</table>\n",
       "</div>"
      ],
      "text/plain": [
       "    mpg  cylinders  displacement  horsepower  weight  acceleration  \\\n",
       "0  18.0          8         307.0       130.0  3504.0          12.0   \n",
       "1  15.0          8         350.0       165.0  3693.0          11.5   \n",
       "2  18.0          8         318.0       150.0  3436.0          11.0   \n",
       "3  16.0          8         304.0       150.0  3433.0          12.0   \n",
       "4  17.0          8         302.0       140.0  3449.0          10.5   \n",
       "\n",
       "   model_year  origin                   car_name  \n",
       "0          70       1  chevrolet chevelle malibu  \n",
       "1          70       1          buick skylark 320  \n",
       "2          70       1         plymouth satellite  \n",
       "3          70       1              amc rebel sst  \n",
       "4          70       1                ford torino  "
      ]
     },
     "execution_count": 1280,
     "metadata": {},
     "output_type": "execute_result"
    }
   ],
   "source": [
    "x_df.head()"
   ]
  },
  {
   "cell_type": "code",
   "execution_count": 1282,
   "id": "802fc55b",
   "metadata": {},
   "outputs": [
    {
     "data": {
      "text/html": [
       "<div>\n",
       "<style scoped>\n",
       "    .dataframe tbody tr th:only-of-type {\n",
       "        vertical-align: middle;\n",
       "    }\n",
       "\n",
       "    .dataframe tbody tr th {\n",
       "        vertical-align: top;\n",
       "    }\n",
       "\n",
       "    .dataframe thead th {\n",
       "        text-align: right;\n",
       "    }\n",
       "</style>\n",
       "<table border=\"1\" class=\"dataframe\">\n",
       "  <thead>\n",
       "    <tr style=\"text-align: right;\">\n",
       "      <th></th>\n",
       "      <th>mpg</th>\n",
       "      <th>cylinders</th>\n",
       "      <th>displacement</th>\n",
       "      <th>horsepower</th>\n",
       "      <th>weight</th>\n",
       "      <th>acceleration</th>\n",
       "      <th>model_year</th>\n",
       "      <th>origin</th>\n",
       "    </tr>\n",
       "  </thead>\n",
       "  <tbody>\n",
       "    <tr>\n",
       "      <th>0</th>\n",
       "      <td>18.0</td>\n",
       "      <td>8</td>\n",
       "      <td>307.0</td>\n",
       "      <td>130.0</td>\n",
       "      <td>3504.0</td>\n",
       "      <td>12.0</td>\n",
       "      <td>70</td>\n",
       "      <td>1</td>\n",
       "    </tr>\n",
       "    <tr>\n",
       "      <th>1</th>\n",
       "      <td>15.0</td>\n",
       "      <td>8</td>\n",
       "      <td>350.0</td>\n",
       "      <td>165.0</td>\n",
       "      <td>3693.0</td>\n",
       "      <td>11.5</td>\n",
       "      <td>70</td>\n",
       "      <td>1</td>\n",
       "    </tr>\n",
       "    <tr>\n",
       "      <th>2</th>\n",
       "      <td>18.0</td>\n",
       "      <td>8</td>\n",
       "      <td>318.0</td>\n",
       "      <td>150.0</td>\n",
       "      <td>3436.0</td>\n",
       "      <td>11.0</td>\n",
       "      <td>70</td>\n",
       "      <td>1</td>\n",
       "    </tr>\n",
       "    <tr>\n",
       "      <th>3</th>\n",
       "      <td>16.0</td>\n",
       "      <td>8</td>\n",
       "      <td>304.0</td>\n",
       "      <td>150.0</td>\n",
       "      <td>3433.0</td>\n",
       "      <td>12.0</td>\n",
       "      <td>70</td>\n",
       "      <td>1</td>\n",
       "    </tr>\n",
       "    <tr>\n",
       "      <th>4</th>\n",
       "      <td>17.0</td>\n",
       "      <td>8</td>\n",
       "      <td>302.0</td>\n",
       "      <td>140.0</td>\n",
       "      <td>3449.0</td>\n",
       "      <td>10.5</td>\n",
       "      <td>70</td>\n",
       "      <td>1</td>\n",
       "    </tr>\n",
       "    <tr>\n",
       "      <th>...</th>\n",
       "      <td>...</td>\n",
       "      <td>...</td>\n",
       "      <td>...</td>\n",
       "      <td>...</td>\n",
       "      <td>...</td>\n",
       "      <td>...</td>\n",
       "      <td>...</td>\n",
       "      <td>...</td>\n",
       "    </tr>\n",
       "    <tr>\n",
       "      <th>395</th>\n",
       "      <td>27.0</td>\n",
       "      <td>4</td>\n",
       "      <td>140.0</td>\n",
       "      <td>86.0</td>\n",
       "      <td>2790.0</td>\n",
       "      <td>15.6</td>\n",
       "      <td>82</td>\n",
       "      <td>1</td>\n",
       "    </tr>\n",
       "    <tr>\n",
       "      <th>396</th>\n",
       "      <td>44.0</td>\n",
       "      <td>4</td>\n",
       "      <td>97.0</td>\n",
       "      <td>52.0</td>\n",
       "      <td>2130.0</td>\n",
       "      <td>24.6</td>\n",
       "      <td>82</td>\n",
       "      <td>2</td>\n",
       "    </tr>\n",
       "    <tr>\n",
       "      <th>397</th>\n",
       "      <td>32.0</td>\n",
       "      <td>4</td>\n",
       "      <td>135.0</td>\n",
       "      <td>84.0</td>\n",
       "      <td>2295.0</td>\n",
       "      <td>11.6</td>\n",
       "      <td>82</td>\n",
       "      <td>1</td>\n",
       "    </tr>\n",
       "    <tr>\n",
       "      <th>398</th>\n",
       "      <td>28.0</td>\n",
       "      <td>4</td>\n",
       "      <td>120.0</td>\n",
       "      <td>79.0</td>\n",
       "      <td>2625.0</td>\n",
       "      <td>18.6</td>\n",
       "      <td>82</td>\n",
       "      <td>1</td>\n",
       "    </tr>\n",
       "    <tr>\n",
       "      <th>399</th>\n",
       "      <td>31.0</td>\n",
       "      <td>4</td>\n",
       "      <td>119.0</td>\n",
       "      <td>82.0</td>\n",
       "      <td>2720.0</td>\n",
       "      <td>19.4</td>\n",
       "      <td>82</td>\n",
       "      <td>1</td>\n",
       "    </tr>\n",
       "  </tbody>\n",
       "</table>\n",
       "<p>398 rows × 8 columns</p>\n",
       "</div>"
      ],
      "text/plain": [
       "      mpg  cylinders  displacement  horsepower  weight  acceleration  \\\n",
       "0    18.0          8         307.0       130.0  3504.0          12.0   \n",
       "1    15.0          8         350.0       165.0  3693.0          11.5   \n",
       "2    18.0          8         318.0       150.0  3436.0          11.0   \n",
       "3    16.0          8         304.0       150.0  3433.0          12.0   \n",
       "4    17.0          8         302.0       140.0  3449.0          10.5   \n",
       "..    ...        ...           ...         ...     ...           ...   \n",
       "395  27.0          4         140.0        86.0  2790.0          15.6   \n",
       "396  44.0          4          97.0        52.0  2130.0          24.6   \n",
       "397  32.0          4         135.0        84.0  2295.0          11.6   \n",
       "398  28.0          4         120.0        79.0  2625.0          18.6   \n",
       "399  31.0          4         119.0        82.0  2720.0          19.4   \n",
       "\n",
       "     model_year  origin  \n",
       "0            70       1  \n",
       "1            70       1  \n",
       "2            70       1  \n",
       "3            70       1  \n",
       "4            70       1  \n",
       "..          ...     ...  \n",
       "395          82       1  \n",
       "396          82       2  \n",
       "397          82       1  \n",
       "398          82       1  \n",
       "399          82       1  \n",
       "\n",
       "[398 rows x 8 columns]"
      ]
     },
     "execution_count": 1282,
     "metadata": {},
     "output_type": "execute_result"
    }
   ],
   "source": [
    "x_new = x_df.drop('car_name', axis = 1)\n",
    "x_new"
   ]
  },
  {
   "cell_type": "code",
   "execution_count": 1283,
   "id": "95d968d1",
   "metadata": {},
   "outputs": [
    {
     "data": {
      "text/html": [
       "<div>\n",
       "<style scoped>\n",
       "    .dataframe tbody tr th:only-of-type {\n",
       "        vertical-align: middle;\n",
       "    }\n",
       "\n",
       "    .dataframe tbody tr th {\n",
       "        vertical-align: top;\n",
       "    }\n",
       "\n",
       "    .dataframe thead th {\n",
       "        text-align: right;\n",
       "    }\n",
       "</style>\n",
       "<table border=\"1\" class=\"dataframe\">\n",
       "  <thead>\n",
       "    <tr style=\"text-align: right;\">\n",
       "      <th></th>\n",
       "      <th>mpg</th>\n",
       "      <th>cylinders</th>\n",
       "      <th>displacement</th>\n",
       "      <th>horsepower</th>\n",
       "      <th>weight</th>\n",
       "      <th>acceleration</th>\n",
       "      <th>model_year</th>\n",
       "      <th>origin</th>\n",
       "    </tr>\n",
       "  </thead>\n",
       "  <tbody>\n",
       "    <tr>\n",
       "      <th>0</th>\n",
       "      <td>0.239362</td>\n",
       "      <td>1.0</td>\n",
       "      <td>0.617571</td>\n",
       "      <td>0.456522</td>\n",
       "      <td>0.536150</td>\n",
       "      <td>0.238095</td>\n",
       "      <td>0.0</td>\n",
       "      <td>0.0</td>\n",
       "    </tr>\n",
       "    <tr>\n",
       "      <th>1</th>\n",
       "      <td>0.159574</td>\n",
       "      <td>1.0</td>\n",
       "      <td>0.728682</td>\n",
       "      <td>0.646739</td>\n",
       "      <td>0.589736</td>\n",
       "      <td>0.208333</td>\n",
       "      <td>0.0</td>\n",
       "      <td>0.0</td>\n",
       "    </tr>\n",
       "    <tr>\n",
       "      <th>2</th>\n",
       "      <td>0.239362</td>\n",
       "      <td>1.0</td>\n",
       "      <td>0.645995</td>\n",
       "      <td>0.565217</td>\n",
       "      <td>0.516870</td>\n",
       "      <td>0.178571</td>\n",
       "      <td>0.0</td>\n",
       "      <td>0.0</td>\n",
       "    </tr>\n",
       "    <tr>\n",
       "      <th>3</th>\n",
       "      <td>0.186170</td>\n",
       "      <td>1.0</td>\n",
       "      <td>0.609819</td>\n",
       "      <td>0.565217</td>\n",
       "      <td>0.516019</td>\n",
       "      <td>0.238095</td>\n",
       "      <td>0.0</td>\n",
       "      <td>0.0</td>\n",
       "    </tr>\n",
       "    <tr>\n",
       "      <th>4</th>\n",
       "      <td>0.212766</td>\n",
       "      <td>1.0</td>\n",
       "      <td>0.604651</td>\n",
       "      <td>0.510870</td>\n",
       "      <td>0.520556</td>\n",
       "      <td>0.148810</td>\n",
       "      <td>0.0</td>\n",
       "      <td>0.0</td>\n",
       "    </tr>\n",
       "  </tbody>\n",
       "</table>\n",
       "</div>"
      ],
      "text/plain": [
       "        mpg  cylinders  displacement  horsepower    weight  acceleration  \\\n",
       "0  0.239362        1.0      0.617571    0.456522  0.536150      0.238095   \n",
       "1  0.159574        1.0      0.728682    0.646739  0.589736      0.208333   \n",
       "2  0.239362        1.0      0.645995    0.565217  0.516870      0.178571   \n",
       "3  0.186170        1.0      0.609819    0.565217  0.516019      0.238095   \n",
       "4  0.212766        1.0      0.604651    0.510870  0.520556      0.148810   \n",
       "\n",
       "   model_year  origin  \n",
       "0         0.0     0.0  \n",
       "1         0.0     0.0  \n",
       "2         0.0     0.0  \n",
       "3         0.0     0.0  \n",
       "4         0.0     0.0  "
      ]
     },
     "execution_count": 1283,
     "metadata": {},
     "output_type": "execute_result"
    }
   ],
   "source": [
    "from sklearn.preprocessing import MinMaxScaler\n",
    "scaler = MinMaxScaler()\n",
    "norm_df = pd.DataFrame(scaler.fit_transform(x_new), columns = x_new.columns)\n",
    "norm_df.head()"
   ]
  },
  {
   "cell_type": "code",
   "execution_count": 1197,
   "id": "b62b3bea",
   "metadata": {},
   "outputs": [],
   "source": [
    "from sklearn.impute import KNNImputer\n",
    "imputer = KNNImputer(n_neighbors=1)\n",
    "imputed_df = pd.DataFrame(imputer.fit_transform(norm_df),columns = norm_df.columns)\n",
    "#imputed_df.isna().any()"
   ]
  },
  {
   "cell_type": "code",
   "execution_count": 1390,
   "id": "bd04ac17",
   "metadata": {},
   "outputs": [
    {
     "data": {
      "text/plain": [
       "mpg             False\n",
       "cylinders       False\n",
       "displacement    False\n",
       "horsepower      False\n",
       "weight          False\n",
       "acceleration    False\n",
       "model_year      False\n",
       "origin          False\n",
       "dtype: bool"
      ]
     },
     "execution_count": 1390,
     "metadata": {},
     "output_type": "execute_result"
    }
   ],
   "source": [
    "from sklearn.impute import KNNImputer\n",
    "imputer = KNNImputer(n_neighbors=3)\n",
    "imputed_df_3 = pd.DataFrame(imputer.fit_transform(norm_df),columns = norm_df.columns)\n",
    "imputed_df_3.isna().any()"
   ]
  },
  {
   "cell_type": "code",
   "execution_count": 1387,
   "id": "4253df6a",
   "metadata": {},
   "outputs": [
    {
     "data": {
      "text/plain": [
       "mpg             False\n",
       "cylinders       False\n",
       "displacement    False\n",
       "horsepower      False\n",
       "weight          False\n",
       "acceleration    False\n",
       "model_year      False\n",
       "origin          False\n",
       "dtype: bool"
      ]
     },
     "execution_count": 1387,
     "metadata": {},
     "output_type": "execute_result"
    }
   ],
   "source": [
    "from sklearn.impute import KNNImputer\n",
    "imputer = KNNImputer(n_neighbors=5)\n",
    "imputed_df_5 = pd.DataFrame(imputer.fit_transform(norm_df),columns = norm_df.columns)\n",
    "imputed_df_5.isna().any()"
   ]
  },
  {
   "cell_type": "code",
   "execution_count": 1176,
   "id": "fb4eee76",
   "metadata": {},
   "outputs": [],
   "source": [
    "# imputer = KNNImputer(n_neighbors=3)\n",
    "# X_predicted = imputer.fit_transform(X)"
   ]
  },
  {
   "cell_type": "code",
   "execution_count": 1177,
   "id": "acd2db2a",
   "metadata": {},
   "outputs": [],
   "source": [
    "# imputer = KNNImputer(n_neighbors=5)\n",
    "# X_predicted = imputer.fit_transform(X)"
   ]
  },
  {
   "cell_type": "code",
   "execution_count": 1178,
   "id": "d8edc6d1",
   "metadata": {},
   "outputs": [],
   "source": [
    "# X_actual = [x_test['weight']]"
   ]
  },
  {
   "cell_type": "code",
   "execution_count": 1388,
   "id": "afc84e78",
   "metadata": {},
   "outputs": [],
   "source": [
    "def rmse(predictions, targets):\n",
    "    return np.sqrt(((predictions - targets) ** 2).mean())"
   ]
  },
  {
   "cell_type": "code",
   "execution_count": 1389,
   "id": "8dd605ec",
   "metadata": {},
   "outputs": [
    {
     "data": {
      "text/plain": [
       "mpg               24.336053\n",
       "cylinders          5.191407\n",
       "displacement     219.690595\n",
       "horsepower       111.104063\n",
       "weight          3090.029856\n",
       "acceleration      15.334418\n",
       "model_year        75.553303\n",
       "origin             1.482644\n",
       "dtype: float64"
      ]
     },
     "execution_count": 1389,
     "metadata": {},
     "output_type": "execute_result"
    }
   ],
   "source": [
    "rmse(x_new, imputed_df_5)"
   ]
  },
  {
   "cell_type": "code",
   "execution_count": 1391,
   "id": "c8565843",
   "metadata": {},
   "outputs": [
    {
     "data": {
      "text/plain": [
       "mpg               24.336053\n",
       "cylinders          5.191407\n",
       "displacement     219.690595\n",
       "horsepower       111.103990\n",
       "weight          3090.029856\n",
       "acceleration      15.334418\n",
       "model_year        75.553303\n",
       "origin             1.482644\n",
       "dtype: float64"
      ]
     },
     "execution_count": 1391,
     "metadata": {},
     "output_type": "execute_result"
    }
   ],
   "source": [
    "rmse(x_new, imputed_df_3)"
   ]
  },
  {
   "cell_type": "code",
   "execution_count": 1025,
   "id": "b82fdda6",
   "metadata": {},
   "outputs": [],
   "source": [
    "# Y = [x_test['acceleration']]"
   ]
  },
  {
   "cell_type": "code",
   "execution_count": 1026,
   "id": "8b0a8d50",
   "metadata": {},
   "outputs": [],
   "source": [
    "# imputer = KNNImputer(n_neighbors=1)\n",
    "# Y_predicted = imputer.fit_transform(Y)"
   ]
  },
  {
   "cell_type": "code",
   "execution_count": 1027,
   "id": "0ab48d56",
   "metadata": {},
   "outputs": [],
   "source": [
    "# imputer = KNNImputer(n_neighbors=3)\n",
    "# Y_predicted = imputer.fit_transform(Y)"
   ]
  },
  {
   "cell_type": "code",
   "execution_count": 1028,
   "id": "bf97dd54",
   "metadata": {},
   "outputs": [],
   "source": [
    "# imputer = KNNImputer(n_neighbors=5)\n",
    "# Y_predicted = imputer.fit_transform(Y)"
   ]
  },
  {
   "cell_type": "code",
   "execution_count": 1029,
   "id": "704f632e",
   "metadata": {},
   "outputs": [
    {
     "data": {
      "text/plain": [
       "0.0"
      ]
     },
     "execution_count": 1029,
     "metadata": {},
     "output_type": "execute_result"
    }
   ],
   "source": [
    "# MSE_acc = np.square(np.subtract(Y,Y_predicted)).mean() \n",
    "# RMSE_acc = math.sqrt(MSE_acc)\n",
    "# RMSE_acc"
   ]
  },
  {
   "cell_type": "code",
   "execution_count": 1030,
   "id": "4e10c846",
   "metadata": {},
   "outputs": [],
   "source": [
    "# Z = [x_test['displacement']]"
   ]
  },
  {
   "cell_type": "code",
   "execution_count": 1031,
   "id": "5a1733df",
   "metadata": {},
   "outputs": [],
   "source": [
    "# imputer = KNNImputer(n_neighbors=1)\n",
    "# Z_predicted = imputer.fit_transform(Z)"
   ]
  },
  {
   "cell_type": "code",
   "execution_count": 1032,
   "id": "449a739f",
   "metadata": {},
   "outputs": [],
   "source": [
    "# imputer = KNNImputer(n_neighbors=3)\n",
    "# Z_predicted = imputer.fit_transform(Z)"
   ]
  },
  {
   "cell_type": "code",
   "execution_count": 1033,
   "id": "7314625d",
   "metadata": {},
   "outputs": [],
   "source": [
    "# imputer = KNNImputer(n_neighbors=5)\n",
    "# Z_predicted = imputer.fit_transform(Z)"
   ]
  },
  {
   "cell_type": "code",
   "execution_count": 1209,
   "id": "b36aa2ad",
   "metadata": {},
   "outputs": [],
   "source": [
    "# MSE_disp = np.square(np.subtract(Z,Z_predicted)).mean() \n",
    "# RMSE_disp = math.sqrt(MSE_disp)\n",
    "# RMSE_disp"
   ]
  },
  {
   "cell_type": "code",
   "execution_count": 1035,
   "id": "70615f03",
   "metadata": {},
   "outputs": [],
   "source": [
    "# W = [x_test['mpg']]"
   ]
  },
  {
   "cell_type": "code",
   "execution_count": 1036,
   "id": "d4f550b2",
   "metadata": {},
   "outputs": [],
   "source": [
    "# imputer = KNNImputer(n_neighbors=1)\n",
    "# W_predicted = imputer.fit_transform(W)"
   ]
  },
  {
   "cell_type": "code",
   "execution_count": 1037,
   "id": "94e1ffdb",
   "metadata": {},
   "outputs": [],
   "source": [
    "# imputer = KNNImputer(n_neighbors=3)\n",
    "# W_predicted = imputer.fit_transform(W)"
   ]
  },
  {
   "cell_type": "code",
   "execution_count": 1038,
   "id": "ebd574e2",
   "metadata": {},
   "outputs": [],
   "source": [
    "# imputer = KNNImputer(n_neighbors=5)\n",
    "# W_predicted = imputer.fit_transform(W)"
   ]
  },
  {
   "cell_type": "code",
   "execution_count": 1208,
   "id": "bdc260ab",
   "metadata": {},
   "outputs": [],
   "source": [
    "# MSE_mpg = np.square(np.subtract(W,W_predicted)).mean() \n",
    "# RMSE_mpg = math.sqrt(MSE_disp)\n",
    "# RMSE_mpg"
   ]
  },
  {
   "cell_type": "markdown",
   "id": "ba96ba45",
   "metadata": {},
   "source": [
    "# part 2 (f)"
   ]
  },
  {
   "cell_type": "code",
   "execution_count": 1284,
   "id": "1292692f",
   "metadata": {},
   "outputs": [
    {
     "data": {
      "text/plain": [
       "0      130.0\n",
       "1      165.0\n",
       "2      150.0\n",
       "3      150.0\n",
       "4      140.0\n",
       "       ...  \n",
       "395     86.0\n",
       "396     52.0\n",
       "397     84.0\n",
       "398     79.0\n",
       "399     82.0\n",
       "Name: horsepower, Length: 398, dtype: float64"
      ]
     },
     "execution_count": 1284,
     "metadata": {},
     "output_type": "execute_result"
    }
   ],
   "source": [
    "x_df['horsepower'].fillna(x_df['horsepower'].mean())\n",
    "#x_df"
   ]
  },
  {
   "cell_type": "markdown",
   "id": "16542402",
   "metadata": {},
   "source": [
    "# part 3 (a)"
   ]
  },
  {
   "cell_type": "code",
   "execution_count": 1285,
   "id": "edfa4aa0",
   "metadata": {},
   "outputs": [
    {
     "data": {
      "text/plain": [
       "0.45534192556309266"
      ]
     },
     "execution_count": 1285,
     "metadata": {},
     "output_type": "execute_result"
    }
   ],
   "source": [
    "#skewness\n",
    "from scipy.stats import skew \n",
    "skew(x_df['mpg'], axis=0, bias=True)   #the distribution is positively skewed"
   ]
  },
  {
   "cell_type": "code",
   "execution_count": 1286,
   "id": "bb6e06ca",
   "metadata": {},
   "outputs": [
    {
     "data": {
      "text/plain": [
       "-0.5194245405990445"
      ]
     },
     "execution_count": 1286,
     "metadata": {},
     "output_type": "execute_result"
    }
   ],
   "source": [
    "#kurtosis\n",
    "from scipy.stats import kurtosis\n",
    "kurtosis(x_df['mpg'], axis=0, bias=True)     #the distribution has more values in the tails compared to a normal distribution."
   ]
  },
  {
   "cell_type": "code",
   "execution_count": 1287,
   "id": "63a64713",
   "metadata": {},
   "outputs": [
    {
     "data": {
      "image/png": "[encoded data removed]",
      "text/plain": [
       "<Figure size 360x360 with 1 Axes>"
      ]
     },
     "metadata": {
      "needs_background": "light"
     },
     "output_type": "display_data"
    }
   ],
   "source": [
    "# Draw the histogram using the seaborn distplot function\n",
    "import matplotlib.pyplot as plt\n",
    "import seaborn as sns\n",
    "\n",
    "sns.displot(x_df['mpg'],bins=30,kde=False)\n",
    "plt.show()"
   ]
  },
  {
   "cell_type": "markdown",
   "id": "8af8312f",
   "metadata": {},
   "source": [
    "# part 3 (b)"
   ]
  },
  {
   "cell_type": "code",
   "execution_count": 1288,
   "id": "9fe930e0",
   "metadata": {},
   "outputs": [],
   "source": [
    "#Identify outliers of mpg using Inter Quartile Range (IQR) approach and impute them with min and max values appropriately. "
   ]
  },
  {
   "cell_type": "code",
   "execution_count": 1289,
   "id": "9765a0ff",
   "metadata": {},
   "outputs": [
    {
     "data": {
      "text/html": [
       "<div>\n",
       "<style scoped>\n",
       "    .dataframe tbody tr th:only-of-type {\n",
       "        vertical-align: middle;\n",
       "    }\n",
       "\n",
       "    .dataframe tbody tr th {\n",
       "        vertical-align: top;\n",
       "    }\n",
       "\n",
       "    .dataframe thead th {\n",
       "        text-align: right;\n",
       "    }\n",
       "</style>\n",
       "<table border=\"1\" class=\"dataframe\">\n",
       "  <thead>\n",
       "    <tr style=\"text-align: right;\">\n",
       "      <th></th>\n",
       "      <th>mpg</th>\n",
       "      <th>cylinders</th>\n",
       "      <th>displacement</th>\n",
       "      <th>horsepower</th>\n",
       "      <th>weight</th>\n",
       "      <th>acceleration</th>\n",
       "      <th>model_year</th>\n",
       "      <th>origin</th>\n",
       "      <th>car_name</th>\n",
       "    </tr>\n",
       "  </thead>\n",
       "  <tbody>\n",
       "    <tr>\n",
       "      <th>0</th>\n",
       "      <td>18.0</td>\n",
       "      <td>8</td>\n",
       "      <td>307.0</td>\n",
       "      <td>130.0</td>\n",
       "      <td>3504.0</td>\n",
       "      <td>12.0</td>\n",
       "      <td>70</td>\n",
       "      <td>1</td>\n",
       "      <td>chevrolet chevelle malibu</td>\n",
       "    </tr>\n",
       "    <tr>\n",
       "      <th>1</th>\n",
       "      <td>15.0</td>\n",
       "      <td>8</td>\n",
       "      <td>350.0</td>\n",
       "      <td>165.0</td>\n",
       "      <td>3693.0</td>\n",
       "      <td>11.5</td>\n",
       "      <td>70</td>\n",
       "      <td>1</td>\n",
       "      <td>buick skylark 320</td>\n",
       "    </tr>\n",
       "    <tr>\n",
       "      <th>2</th>\n",
       "      <td>18.0</td>\n",
       "      <td>8</td>\n",
       "      <td>318.0</td>\n",
       "      <td>150.0</td>\n",
       "      <td>3436.0</td>\n",
       "      <td>11.0</td>\n",
       "      <td>70</td>\n",
       "      <td>1</td>\n",
       "      <td>plymouth satellite</td>\n",
       "    </tr>\n",
       "    <tr>\n",
       "      <th>3</th>\n",
       "      <td>16.0</td>\n",
       "      <td>8</td>\n",
       "      <td>304.0</td>\n",
       "      <td>150.0</td>\n",
       "      <td>3433.0</td>\n",
       "      <td>12.0</td>\n",
       "      <td>70</td>\n",
       "      <td>1</td>\n",
       "      <td>amc rebel sst</td>\n",
       "    </tr>\n",
       "    <tr>\n",
       "      <th>4</th>\n",
       "      <td>17.0</td>\n",
       "      <td>8</td>\n",
       "      <td>302.0</td>\n",
       "      <td>140.0</td>\n",
       "      <td>3449.0</td>\n",
       "      <td>10.5</td>\n",
       "      <td>70</td>\n",
       "      <td>1</td>\n",
       "      <td>ford torino</td>\n",
       "    </tr>\n",
       "    <tr>\n",
       "      <th>...</th>\n",
       "      <td>...</td>\n",
       "      <td>...</td>\n",
       "      <td>...</td>\n",
       "      <td>...</td>\n",
       "      <td>...</td>\n",
       "      <td>...</td>\n",
       "      <td>...</td>\n",
       "      <td>...</td>\n",
       "      <td>...</td>\n",
       "    </tr>\n",
       "    <tr>\n",
       "      <th>395</th>\n",
       "      <td>27.0</td>\n",
       "      <td>4</td>\n",
       "      <td>140.0</td>\n",
       "      <td>86.0</td>\n",
       "      <td>2790.0</td>\n",
       "      <td>15.6</td>\n",
       "      <td>82</td>\n",
       "      <td>1</td>\n",
       "      <td>ford mustang gl</td>\n",
       "    </tr>\n",
       "    <tr>\n",
       "      <th>396</th>\n",
       "      <td>44.0</td>\n",
       "      <td>4</td>\n",
       "      <td>97.0</td>\n",
       "      <td>52.0</td>\n",
       "      <td>2130.0</td>\n",
       "      <td>24.6</td>\n",
       "      <td>82</td>\n",
       "      <td>2</td>\n",
       "      <td>vw pickup</td>\n",
       "    </tr>\n",
       "    <tr>\n",
       "      <th>397</th>\n",
       "      <td>32.0</td>\n",
       "      <td>4</td>\n",
       "      <td>135.0</td>\n",
       "      <td>84.0</td>\n",
       "      <td>2295.0</td>\n",
       "      <td>11.6</td>\n",
       "      <td>82</td>\n",
       "      <td>1</td>\n",
       "      <td>dodge rampage</td>\n",
       "    </tr>\n",
       "    <tr>\n",
       "      <th>398</th>\n",
       "      <td>28.0</td>\n",
       "      <td>4</td>\n",
       "      <td>120.0</td>\n",
       "      <td>79.0</td>\n",
       "      <td>2625.0</td>\n",
       "      <td>18.6</td>\n",
       "      <td>82</td>\n",
       "      <td>1</td>\n",
       "      <td>ford ranger</td>\n",
       "    </tr>\n",
       "    <tr>\n",
       "      <th>399</th>\n",
       "      <td>31.0</td>\n",
       "      <td>4</td>\n",
       "      <td>119.0</td>\n",
       "      <td>82.0</td>\n",
       "      <td>2720.0</td>\n",
       "      <td>19.4</td>\n",
       "      <td>82</td>\n",
       "      <td>1</td>\n",
       "      <td>chevy s-10</td>\n",
       "    </tr>\n",
       "  </tbody>\n",
       "</table>\n",
       "<p>398 rows × 9 columns</p>\n",
       "</div>"
      ],
      "text/plain": [
       "      mpg  cylinders  displacement  horsepower  weight  acceleration  \\\n",
       "0    18.0          8         307.0       130.0  3504.0          12.0   \n",
       "1    15.0          8         350.0       165.0  3693.0          11.5   \n",
       "2    18.0          8         318.0       150.0  3436.0          11.0   \n",
       "3    16.0          8         304.0       150.0  3433.0          12.0   \n",
       "4    17.0          8         302.0       140.0  3449.0          10.5   \n",
       "..    ...        ...           ...         ...     ...           ...   \n",
       "395  27.0          4         140.0        86.0  2790.0          15.6   \n",
       "396  44.0          4          97.0        52.0  2130.0          24.6   \n",
       "397  32.0          4         135.0        84.0  2295.0          11.6   \n",
       "398  28.0          4         120.0        79.0  2625.0          18.6   \n",
       "399  31.0          4         119.0        82.0  2720.0          19.4   \n",
       "\n",
       "     model_year  origin                   car_name  \n",
       "0            70       1  chevrolet chevelle malibu  \n",
       "1            70       1          buick skylark 320  \n",
       "2            70       1         plymouth satellite  \n",
       "3            70       1              amc rebel sst  \n",
       "4            70       1                ford torino  \n",
       "..          ...     ...                        ...  \n",
       "395          82       1            ford mustang gl  \n",
       "396          82       2                  vw pickup  \n",
       "397          82       1              dodge rampage  \n",
       "398          82       1                ford ranger  \n",
       "399          82       1                 chevy s-10  \n",
       "\n",
       "[398 rows x 9 columns]"
      ]
     },
     "execution_count": 1289,
     "metadata": {},
     "output_type": "execute_result"
    }
   ],
   "source": [
    "x_df"
   ]
  },
  {
   "cell_type": "code",
   "execution_count": 1290,
   "id": "922a440a",
   "metadata": {},
   "outputs": [],
   "source": [
    "#importing packages\n",
    "import matplotlib.pyplot as plt\n",
    "%matplotlib inline"
   ]
  },
  {
   "cell_type": "code",
   "execution_count": 1333,
   "id": "33ed4fc3",
   "metadata": {},
   "outputs": [],
   "source": [
    "#lower and upperbound function\n",
    "def outlier_treatment(datacolumn):\n",
    "    sorted(datacolumn)\n",
    "    Q1,Q3 = np.percentile(datacolumn , [25,75])\n",
    "    IQR = Q3 - Q1\n",
    "    lower_range = Q1 - (1.5 * IQR)\n",
    "    upper_range = Q3 + (1.5 * IQR)\n",
    "    return lower_range,upper_range\n",
    "\n",
    "lowerbound,upperbound = outlier_treatment(x_df['mpg'])"
   ]
  },
  {
   "cell_type": "code",
   "execution_count": 1292,
   "id": "65eff4c7",
   "metadata": {},
   "outputs": [
    {
     "data": {
      "text/plain": [
       "0.25"
      ]
     },
     "execution_count": 1292,
     "metadata": {},
     "output_type": "execute_result"
    }
   ],
   "source": [
    "lowerbound"
   ]
  },
  {
   "cell_type": "code",
   "execution_count": 1293,
   "id": "ad83fb16",
   "metadata": {},
   "outputs": [
    {
     "data": {
      "text/plain": [
       "46.25"
      ]
     },
     "execution_count": 1293,
     "metadata": {},
     "output_type": "execute_result"
    }
   ],
   "source": [
    "upperbound"
   ]
  },
  {
   "cell_type": "code",
   "execution_count": 1294,
   "id": "2c83c2bd",
   "metadata": {},
   "outputs": [
    {
     "data": {
      "text/html": [
       "<div>\n",
       "<style scoped>\n",
       "    .dataframe tbody tr th:only-of-type {\n",
       "        vertical-align: middle;\n",
       "    }\n",
       "\n",
       "    .dataframe tbody tr th {\n",
       "        vertical-align: top;\n",
       "    }\n",
       "\n",
       "    .dataframe thead th {\n",
       "        text-align: right;\n",
       "    }\n",
       "</style>\n",
       "<table border=\"1\" class=\"dataframe\">\n",
       "  <thead>\n",
       "    <tr style=\"text-align: right;\">\n",
       "      <th></th>\n",
       "      <th>mpg</th>\n",
       "      <th>cylinders</th>\n",
       "      <th>displacement</th>\n",
       "      <th>horsepower</th>\n",
       "      <th>weight</th>\n",
       "      <th>acceleration</th>\n",
       "      <th>model_year</th>\n",
       "      <th>origin</th>\n",
       "      <th>car_name</th>\n",
       "    </tr>\n",
       "  </thead>\n",
       "  <tbody>\n",
       "    <tr>\n",
       "      <th>324</th>\n",
       "      <td>46.6</td>\n",
       "      <td>4</td>\n",
       "      <td>86.0</td>\n",
       "      <td>65.0</td>\n",
       "      <td>2110.0</td>\n",
       "      <td>17.9</td>\n",
       "      <td>80</td>\n",
       "      <td>3</td>\n",
       "      <td>mazda glc</td>\n",
       "    </tr>\n",
       "  </tbody>\n",
       "</table>\n",
       "</div>"
      ],
      "text/plain": [
       "      mpg  cylinders  displacement  horsepower  weight  acceleration  \\\n",
       "324  46.6          4          86.0        65.0  2110.0          17.9   \n",
       "\n",
       "     model_year  origin   car_name  \n",
       "324          80       3  mazda glc  "
      ]
     },
     "execution_count": 1294,
     "metadata": {},
     "output_type": "execute_result"
    }
   ],
   "source": [
    "outliers = x_df[(x_df['mpg'] < lowerbound) | (x_df['mpg'] > upperbound)]\n",
    "outliers"
   ]
  },
  {
   "cell_type": "code",
   "execution_count": 1295,
   "id": "9a8b5233",
   "metadata": {},
   "outputs": [],
   "source": [
    "# boxplot\n",
    "# histogram\n",
    "# scattered plot"
   ]
  },
  {
   "cell_type": "code",
   "execution_count": 1296,
   "id": "6d0eac61",
   "metadata": {},
   "outputs": [],
   "source": [
    "# fig, ax = plt.subplots(figsize=(12,6))\n",
    "# ax.scatter(x_df['mpg'], x_df['acceleration'])\n",
    "# ax.set_xlabel('Income of applicants in USD')\n",
    "# ax.set_ylabel('Loan amount applied for in USD')\n",
    "# plt.show()"
   ]
  },
  {
   "cell_type": "code",
   "execution_count": 1297,
   "id": "5a1d07c6",
   "metadata": {},
   "outputs": [
    {
     "name": "stderr",
     "output_type": "stream",
     "text": [
      "C:\\Users\\DELL\\anaconda3\\lib\\site-packages\\seaborn\\_decorators.py:36: FutureWarning: Pass the following variable as a keyword arg: x. From version 0.12, the only valid positional argument will be `data`, and passing other arguments without an explicit keyword will result in an error or misinterpretation.\n",
      "  warnings.warn(\n"
     ]
    },
    {
     "data": {
      "text/plain": [
       "<AxesSubplot:xlabel='mpg'>"
      ]
     },
     "execution_count": 1297,
     "metadata": {},
     "output_type": "execute_result"
    },
    {
     "data": {
      "image/png": "[encoded data removed]",
      "text/plain": [
       "<Figure size 432x288 with 1 Axes>"
      ]
     },
     "metadata": {
      "needs_background": "light"
     },
     "output_type": "display_data"
    }
   ],
   "source": [
    "sns.boxplot(x_df['mpg'])"
   ]
  },
  {
   "cell_type": "code",
   "execution_count": 1298,
   "id": "4b4a3a47",
   "metadata": {},
   "outputs": [
    {
     "data": {
      "text/plain": [
       "<AxesSubplot:>"
      ]
     },
     "execution_count": 1298,
     "metadata": {},
     "output_type": "execute_result"
    },
    {
     "data": {
      "image/png": "[encoded data removed]",
      "text/plain": [
       "<Figure size 432x288 with 1 Axes>"
      ]
     },
     "metadata": {
      "needs_background": "light"
     },
     "output_type": "display_data"
    }
   ],
   "source": [
    "x_df['mpg'].hist()"
   ]
  },
  {
   "cell_type": "code",
   "execution_count": 1299,
   "id": "ce0e2625",
   "metadata": {},
   "outputs": [],
   "source": [
    "#imputing with min max values\n",
    "# df.loc[x_df['mpg'] > outliers.loc['mpg']['upperbound'], x_df['mpg']] = outliers.loc['mpg']['upperbound']\n",
    "# df.loc[x_df['mpg'] < outliers.loc['mpg']['lowerbound'], x_df['mpg']] = outliers.loc['mpg']['lowerbound']"
   ]
  },
  {
   "cell_type": "code",
   "execution_count": 1310,
   "id": "d695aaff",
   "metadata": {},
   "outputs": [
    {
     "name": "stdout",
     "output_type": "stream",
     "text": [
      "12.0\n",
      "38.180999999999976\n"
     ]
    }
   ],
   "source": [
    "lower_limit = x_df['mpg'].quantile(0.03)  \n",
    "upper_limit = x_df['mpg'].quantile(0.97)\n",
    "\n",
    "print(lower_limit)\n",
    "print(upper_limit)"
   ]
  },
  {
   "cell_type": "code",
   "execution_count": 1312,
   "id": "a160adfb",
   "metadata": {},
   "outputs": [
    {
     "name": "stderr",
     "output_type": "stream",
     "text": [
      "C:\\Users\\DELL\\AppData\\Local\\Temp\\ipykernel_11648\\2530298745.py:1: SettingWithCopyWarning: \n",
      "A value is trying to be set on a copy of a slice from a DataFrame.\n",
      "Try using .loc[row_indexer,col_indexer] = value instead\n",
      "\n",
      "See the caveats in the documentation: https://pandas.pydata.org/pandas-docs/stable/user_guide/indexing.html#returning-a-view-versus-a-copy\n",
      "  x_df['mpg_chapped'] = np.where(x_df['mpg']> upper_limit, upper_limit,\n"
     ]
    }
   ],
   "source": [
    "x_df['mpg_chapped'] = np.where(x_df['mpg']> upper_limit, upper_limit,\n",
    "                        np.where(x_df['mpg']< lower_limit, lower_limit,\n",
    "                        x_df['mpg']))"
   ]
  },
  {
   "cell_type": "code",
   "execution_count": 1314,
   "id": "400e7821",
   "metadata": {},
   "outputs": [
    {
     "data": {
      "text/plain": [
       "<AxesSubplot:ylabel='mpg_chapped'>"
      ]
     },
     "execution_count": 1314,
     "metadata": {},
     "output_type": "execute_result"
    },
    {
     "data": {
      "image/png": "[encoded data removed]",
      "text/plain": [
       "<Figure size 432x288 with 1 Axes>"
      ]
     },
     "metadata": {
      "needs_background": "light"
     },
     "output_type": "display_data"
    }
   ],
   "source": [
    "sns.boxplot( y=\"mpg_chapped\", data=x_df)"
   ]
  },
  {
   "cell_type": "markdown",
   "id": "4a519f2e",
   "metadata": {},
   "source": [
    "# part 3 (c)"
   ]
  },
  {
   "cell_type": "code",
   "execution_count": 1315,
   "id": "c81fb152",
   "metadata": {},
   "outputs": [],
   "source": [
    "#Transform mpg column using loge (x+1) formula to make the mpg values follow the normal distribution. "
   ]
  },
  {
   "cell_type": "code",
   "execution_count": 1319,
   "id": "049a988f",
   "metadata": {},
   "outputs": [
    {
     "data": {
      "text/plain": [
       "0      18.000\n",
       "1      15.000\n",
       "2      18.000\n",
       "3      16.000\n",
       "4      17.000\n",
       "        ...  \n",
       "395    27.000\n",
       "396    38.181\n",
       "397    32.000\n",
       "398    28.000\n",
       "399    31.000\n",
       "Name: mpg, Length: 398, dtype: float64"
      ]
     },
     "execution_count": 1319,
     "metadata": {},
     "output_type": "execute_result"
    }
   ],
   "source": [
    "x_df['mpg']"
   ]
  },
  {
   "cell_type": "code",
   "execution_count": 1323,
   "id": "f0a08774",
   "metadata": {},
   "outputs": [
    {
     "data": {
      "text/plain": [
       "Text(0.5, 1.0, 'Log-Transformed Data')"
      ]
     },
     "execution_count": 1323,
     "metadata": {},
     "output_type": "execute_result"
    },
    {
     "data": {
      "image/png": "[encoded data removed]",
      "text/plain": [
       "<Figure size 432x288 with 2 Axes>"
      ]
     },
     "metadata": {
      "needs_background": "light"
     },
     "output_type": "display_data"
    }
   ],
   "source": [
    "import numpy as np\n",
    "import matplotlib.pyplot as plt\n",
    "\n",
    "#make this example reproducible\n",
    "np.random.seed(0)\n",
    "\n",
    "#create beta distributed random variable with 200 values\n",
    "# data = np.random.beta(a=4, b=15, size=398)\n",
    "\n",
    "#create log-transformed data\n",
    "data_log = np.log(x_df['mpg'])\n",
    "\n",
    "#define grid of plots\n",
    "fig, axs = plt.subplots(nrows=1, ncols=2)\n",
    "\n",
    "#create histograms\n",
    "axs[0].hist(data, edgecolor='black')\n",
    "axs[1].hist(data_log, edgecolor='black')\n",
    "\n",
    "#add title to each histogram\n",
    "axs[0].set_title('Original Data')\n",
    "axs[1].set_title('Log-Transformed Data')"
   ]
  },
  {
   "cell_type": "markdown",
   "id": "375b8e40",
   "metadata": {},
   "source": [
    "# part 3 (d)"
   ]
  },
  {
   "cell_type": "code",
   "execution_count": 1324,
   "id": "69474ade",
   "metadata": {},
   "outputs": [],
   "source": [
    "# Use a QQ-plot to show that loge (x+1) is a better transformation for mpg. Find the kurtosis and skewness of mpg after the transformation. "
   ]
  },
  {
   "cell_type": "code",
   "execution_count": 1327,
   "id": "eb67767f",
   "metadata": {},
   "outputs": [
    {
     "data": {
      "image/png": "[encoded data removed]",
      "text/plain": [
       "<Figure size 432x288 with 1 Axes>"
      ]
     },
     "metadata": {
      "needs_background": "light"
     },
     "output_type": "display_data"
    }
   ],
   "source": [
    "import statsmodels.api as sm\n",
    "import matplotlib.pyplot as plt\n",
    "\n",
    "#create Q-Q plot with 45-degree line added to plot\n",
    "fig_qq = sm.qqplot(x_df['mpg'], line='45')\n",
    "plt.show()"
   ]
  },
  {
   "cell_type": "code",
   "execution_count": 1330,
   "id": "e9d3748e",
   "metadata": {},
   "outputs": [
    {
     "data": {
      "text/plain": [
       "-0.9646115337094394"
      ]
     },
     "execution_count": 1330,
     "metadata": {},
     "output_type": "execute_result"
    }
   ],
   "source": [
    "#kurtosis\n",
    "from scipy.stats import kurtosis\n",
    "kurtosis(x_df['mpg'], axis=0, bias=True)"
   ]
  },
  {
   "cell_type": "code",
   "execution_count": 1331,
   "id": "84d5db0b",
   "metadata": {},
   "outputs": [
    {
     "data": {
      "text/plain": [
       "0.3186051267410165"
      ]
     },
     "execution_count": 1331,
     "metadata": {},
     "output_type": "execute_result"
    }
   ],
   "source": [
    "#skewness\n",
    "from scipy.stats import skew \n",
    "skew(x_df['mpg'], axis=0, bias=True)"
   ]
  },
  {
   "cell_type": "markdown",
   "id": "b5333b99",
   "metadata": {},
   "source": [
    "# part 3 (e)"
   ]
  },
  {
   "cell_type": "code",
   "execution_count": 1332,
   "id": "5d47bbfc",
   "metadata": {},
   "outputs": [],
   "source": [
    "#Similarly detect and correct outliers in the weight, displacement, horsepower and acceleration columns "
   ]
  },
  {
   "cell_type": "code",
   "execution_count": 1361,
   "id": "5c36c803",
   "metadata": {},
   "outputs": [
    {
     "name": "stdout",
     "output_type": "stream",
     "text": [
      "147.375\n",
      "5684.375\n"
     ]
    }
   ],
   "source": [
    "lowerbound_weight, upperbound_weight = outlier_treatment(x_df['weight'])\n",
    "print(lowerbound_weight)\n",
    "print(upperbound_weight)"
   ]
  },
  {
   "cell_type": "code",
   "execution_count": 1362,
   "id": "67fb4e93",
   "metadata": {},
   "outputs": [
    {
     "data": {
      "text/html": [
       "<div>\n",
       "<style scoped>\n",
       "    .dataframe tbody tr th:only-of-type {\n",
       "        vertical-align: middle;\n",
       "    }\n",
       "\n",
       "    .dataframe tbody tr th {\n",
       "        vertical-align: top;\n",
       "    }\n",
       "\n",
       "    .dataframe thead th {\n",
       "        text-align: right;\n",
       "    }\n",
       "</style>\n",
       "<table border=\"1\" class=\"dataframe\">\n",
       "  <thead>\n",
       "    <tr style=\"text-align: right;\">\n",
       "      <th></th>\n",
       "      <th>mpg</th>\n",
       "      <th>cylinders</th>\n",
       "      <th>displacement</th>\n",
       "      <th>horsepower</th>\n",
       "      <th>weight</th>\n",
       "      <th>acceleration</th>\n",
       "      <th>model_year</th>\n",
       "      <th>origin</th>\n",
       "      <th>car_name</th>\n",
       "      <th></th>\n",
       "      <th>capped</th>\n",
       "      <th>mpg_chapped</th>\n",
       "    </tr>\n",
       "  </thead>\n",
       "  <tbody>\n",
       "  </tbody>\n",
       "</table>\n",
       "</div>"
      ],
      "text/plain": [
       "Empty DataFrame\n",
       "Columns: [mpg, cylinders, displacement, horsepower, weight, acceleration, model_year, origin, car_name, , capped, mpg_chapped]\n",
       "Index: []"
      ]
     },
     "execution_count": 1362,
     "metadata": {},
     "output_type": "execute_result"
    }
   ],
   "source": [
    "x_df[(x_df['weight'] < lowerbound_weight) | (x_df['weight'] > upperbound_weight)]"
   ]
  },
  {
   "cell_type": "code",
   "execution_count": 1364,
   "id": "972610c9",
   "metadata": {},
   "outputs": [
    {
     "name": "stdout",
     "output_type": "stream",
     "text": [
      "-132.375\n",
      "498.625\n"
     ]
    }
   ],
   "source": [
    "lowerbound_disp, upperbound_disp = outlier_treatment(x_df['displacement'])\n",
    "print(lowerbound_disp)\n",
    "print(upperbound_disp)"
   ]
  },
  {
   "cell_type": "code",
   "execution_count": 1366,
   "id": "ace3ee77",
   "metadata": {},
   "outputs": [
    {
     "data": {
      "text/html": [
       "<div>\n",
       "<style scoped>\n",
       "    .dataframe tbody tr th:only-of-type {\n",
       "        vertical-align: middle;\n",
       "    }\n",
       "\n",
       "    .dataframe tbody tr th {\n",
       "        vertical-align: top;\n",
       "    }\n",
       "\n",
       "    .dataframe thead th {\n",
       "        text-align: right;\n",
       "    }\n",
       "</style>\n",
       "<table border=\"1\" class=\"dataframe\">\n",
       "  <thead>\n",
       "    <tr style=\"text-align: right;\">\n",
       "      <th></th>\n",
       "      <th>mpg</th>\n",
       "      <th>cylinders</th>\n",
       "      <th>displacement</th>\n",
       "      <th>horsepower</th>\n",
       "      <th>weight</th>\n",
       "      <th>acceleration</th>\n",
       "      <th>model_year</th>\n",
       "      <th>origin</th>\n",
       "      <th>car_name</th>\n",
       "      <th></th>\n",
       "      <th>capped</th>\n",
       "      <th>mpg_chapped</th>\n",
       "    </tr>\n",
       "  </thead>\n",
       "  <tbody>\n",
       "  </tbody>\n",
       "</table>\n",
       "</div>"
      ],
      "text/plain": [
       "Empty DataFrame\n",
       "Columns: [mpg, cylinders, displacement, horsepower, weight, acceleration, model_year, origin, car_name, , capped, mpg_chapped]\n",
       "Index: []"
      ]
     },
     "execution_count": 1366,
     "metadata": {},
     "output_type": "execute_result"
    }
   ],
   "source": [
    "x_df[(x_df['displacement'] < lowerbound_disp) | (x_df['displacement'] > upperbound_disp)]"
   ]
  },
  {
   "cell_type": "code",
   "execution_count": 1365,
   "id": "80affd63",
   "metadata": {},
   "outputs": [
    {
     "name": "stdout",
     "output_type": "stream",
     "text": [
      "nan\n",
      "nan\n"
     ]
    }
   ],
   "source": [
    "lowerbound_hp, upperbound_hp = outlier_treatment(x_df['horsepower'])\n",
    "print(lowerbound_hp)\n",
    "print(upperbound_hp)"
   ]
  },
  {
   "cell_type": "code",
   "execution_count": 1367,
   "id": "6d8e0113",
   "metadata": {},
   "outputs": [
    {
     "data": {
      "text/html": [
       "<div>\n",
       "<style scoped>\n",
       "    .dataframe tbody tr th:only-of-type {\n",
       "        vertical-align: middle;\n",
       "    }\n",
       "\n",
       "    .dataframe tbody tr th {\n",
       "        vertical-align: top;\n",
       "    }\n",
       "\n",
       "    .dataframe thead th {\n",
       "        text-align: right;\n",
       "    }\n",
       "</style>\n",
       "<table border=\"1\" class=\"dataframe\">\n",
       "  <thead>\n",
       "    <tr style=\"text-align: right;\">\n",
       "      <th></th>\n",
       "      <th>mpg</th>\n",
       "      <th>cylinders</th>\n",
       "      <th>displacement</th>\n",
       "      <th>horsepower</th>\n",
       "      <th>weight</th>\n",
       "      <th>acceleration</th>\n",
       "      <th>model_year</th>\n",
       "      <th>origin</th>\n",
       "      <th>car_name</th>\n",
       "      <th></th>\n",
       "      <th>capped</th>\n",
       "      <th>mpg_chapped</th>\n",
       "    </tr>\n",
       "  </thead>\n",
       "  <tbody>\n",
       "  </tbody>\n",
       "</table>\n",
       "</div>"
      ],
      "text/plain": [
       "Empty DataFrame\n",
       "Columns: [mpg, cylinders, displacement, horsepower, weight, acceleration, model_year, origin, car_name, , capped, mpg_chapped]\n",
       "Index: []"
      ]
     },
     "execution_count": 1367,
     "metadata": {},
     "output_type": "execute_result"
    }
   ],
   "source": [
    "x_df[(x_df['horsepower'] < lowerbound_hp) | (x_df['horsepower'] > upperbound_hp)]"
   ]
  },
  {
   "cell_type": "code",
   "execution_count": 1368,
   "id": "f4c1fb80",
   "metadata": {},
   "outputs": [
    {
     "name": "stdout",
     "output_type": "stream",
     "text": [
      "8.8\n",
      "22.2\n"
     ]
    }
   ],
   "source": [
    "lowerbound_acc, upperbound_acc = outlier_treatment(x_df['acceleration'])\n",
    "print(lowerbound_acc)\n",
    "print(upperbound_acc)"
   ]
  },
  {
   "cell_type": "code",
   "execution_count": 1360,
   "id": "eeaecbcd",
   "metadata": {},
   "outputs": [
    {
     "data": {
      "text/html": [
       "<div>\n",
       "<style scoped>\n",
       "    .dataframe tbody tr th:only-of-type {\n",
       "        vertical-align: middle;\n",
       "    }\n",
       "\n",
       "    .dataframe tbody tr th {\n",
       "        vertical-align: top;\n",
       "    }\n",
       "\n",
       "    .dataframe thead th {\n",
       "        text-align: right;\n",
       "    }\n",
       "</style>\n",
       "<table border=\"1\" class=\"dataframe\">\n",
       "  <thead>\n",
       "    <tr style=\"text-align: right;\">\n",
       "      <th></th>\n",
       "      <th>mpg</th>\n",
       "      <th>cylinders</th>\n",
       "      <th>displacement</th>\n",
       "      <th>horsepower</th>\n",
       "      <th>weight</th>\n",
       "      <th>acceleration</th>\n",
       "      <th>model_year</th>\n",
       "      <th>origin</th>\n",
       "      <th>car_name</th>\n",
       "      <th></th>\n",
       "      <th>capped</th>\n",
       "      <th>mpg_chapped</th>\n",
       "    </tr>\n",
       "  </thead>\n",
       "  <tbody>\n",
       "    <tr>\n",
       "      <th>7</th>\n",
       "      <td>14.000</td>\n",
       "      <td>8</td>\n",
       "      <td>440.0</td>\n",
       "      <td>215.0</td>\n",
       "      <td>4312.0</td>\n",
       "      <td>8.5</td>\n",
       "      <td>70</td>\n",
       "      <td>1</td>\n",
       "      <td>plymouth fury iii</td>\n",
       "      <td>14.0</td>\n",
       "      <td>14.0</td>\n",
       "      <td>14.000</td>\n",
       "    </tr>\n",
       "    <tr>\n",
       "      <th>9</th>\n",
       "      <td>15.000</td>\n",
       "      <td>8</td>\n",
       "      <td>390.0</td>\n",
       "      <td>190.0</td>\n",
       "      <td>3850.0</td>\n",
       "      <td>8.5</td>\n",
       "      <td>70</td>\n",
       "      <td>1</td>\n",
       "      <td>amc ambassador dpl</td>\n",
       "      <td>15.0</td>\n",
       "      <td>15.0</td>\n",
       "      <td>15.000</td>\n",
       "    </tr>\n",
       "    <tr>\n",
       "      <th>11</th>\n",
       "      <td>14.000</td>\n",
       "      <td>8</td>\n",
       "      <td>340.0</td>\n",
       "      <td>160.0</td>\n",
       "      <td>3609.0</td>\n",
       "      <td>8.0</td>\n",
       "      <td>70</td>\n",
       "      <td>1</td>\n",
       "      <td>plymouth 'cuda 340</td>\n",
       "      <td>14.0</td>\n",
       "      <td>14.0</td>\n",
       "      <td>14.000</td>\n",
       "    </tr>\n",
       "    <tr>\n",
       "      <th>59</th>\n",
       "      <td>23.000</td>\n",
       "      <td>4</td>\n",
       "      <td>97.0</td>\n",
       "      <td>54.0</td>\n",
       "      <td>2254.0</td>\n",
       "      <td>23.5</td>\n",
       "      <td>72</td>\n",
       "      <td>2</td>\n",
       "      <td>volkswagen type 3</td>\n",
       "      <td>23.0</td>\n",
       "      <td>23.0</td>\n",
       "      <td>23.000</td>\n",
       "    </tr>\n",
       "    <tr>\n",
       "      <th>301</th>\n",
       "      <td>27.200</td>\n",
       "      <td>4</td>\n",
       "      <td>141.0</td>\n",
       "      <td>71.0</td>\n",
       "      <td>3190.0</td>\n",
       "      <td>24.8</td>\n",
       "      <td>79</td>\n",
       "      <td>2</td>\n",
       "      <td>peugeot 504</td>\n",
       "      <td>27.2</td>\n",
       "      <td>27.2</td>\n",
       "      <td>27.200</td>\n",
       "    </tr>\n",
       "    <tr>\n",
       "      <th>328</th>\n",
       "      <td>38.181</td>\n",
       "      <td>4</td>\n",
       "      <td>90.0</td>\n",
       "      <td>48.0</td>\n",
       "      <td>2335.0</td>\n",
       "      <td>23.7</td>\n",
       "      <td>80</td>\n",
       "      <td>2</td>\n",
       "      <td>vw dasher (diesel)</td>\n",
       "      <td>43.4</td>\n",
       "      <td>43.4</td>\n",
       "      <td>38.181</td>\n",
       "    </tr>\n",
       "    <tr>\n",
       "      <th>396</th>\n",
       "      <td>38.181</td>\n",
       "      <td>4</td>\n",
       "      <td>97.0</td>\n",
       "      <td>52.0</td>\n",
       "      <td>2130.0</td>\n",
       "      <td>24.6</td>\n",
       "      <td>82</td>\n",
       "      <td>2</td>\n",
       "      <td>vw pickup</td>\n",
       "      <td>44.0</td>\n",
       "      <td>44.0</td>\n",
       "      <td>38.181</td>\n",
       "    </tr>\n",
       "  </tbody>\n",
       "</table>\n",
       "</div>"
      ],
      "text/plain": [
       "        mpg  cylinders  displacement  horsepower  weight  acceleration  \\\n",
       "7    14.000          8         440.0       215.0  4312.0           8.5   \n",
       "9    15.000          8         390.0       190.0  3850.0           8.5   \n",
       "11   14.000          8         340.0       160.0  3609.0           8.0   \n",
       "59   23.000          4          97.0        54.0  2254.0          23.5   \n",
       "301  27.200          4         141.0        71.0  3190.0          24.8   \n",
       "328  38.181          4          90.0        48.0  2335.0          23.7   \n",
       "396  38.181          4          97.0        52.0  2130.0          24.6   \n",
       "\n",
       "     model_year  origin            car_name        capped  mpg_chapped  \n",
       "7            70       1   plymouth fury iii  14.0    14.0       14.000  \n",
       "9            70       1  amc ambassador dpl  15.0    15.0       15.000  \n",
       "11           70       1  plymouth 'cuda 340  14.0    14.0       14.000  \n",
       "59           72       2   volkswagen type 3  23.0    23.0       23.000  \n",
       "301          79       2         peugeot 504  27.2    27.2       27.200  \n",
       "328          80       2  vw dasher (diesel)  43.4    43.4       38.181  \n",
       "396          82       2           vw pickup  44.0    44.0       38.181  "
      ]
     },
     "execution_count": 1360,
     "metadata": {},
     "output_type": "execute_result"
    }
   ],
   "source": [
    "x_df[(x_df['acceleration'] < lowerbound_acc) | (x_df['acceleration'] > upperbound_acc)]"
   ]
  },
  {
   "cell_type": "code",
   "execution_count": 1371,
   "id": "6a744080",
   "metadata": {},
   "outputs": [
    {
     "data": {
      "image/png": "[encoded data removed]",
      "text/plain": [
       "<Figure size 432x288 with 1 Axes>"
      ]
     },
     "metadata": {
      "needs_background": "light"
     },
     "output_type": "display_data"
    }
   ],
   "source": [
    "sns.boxplot(x = x_df['acceleration'])\n",
    "plt.show()"
   ]
  },
  {
   "cell_type": "code",
   "execution_count": 1373,
   "id": "e8b55f38",
   "metadata": {},
   "outputs": [],
   "source": [
    "#winsorise method\n",
    "from scipy.stats.mstats import winsorize"
   ]
  },
  {
   "cell_type": "code",
   "execution_count": 1374,
   "id": "e61eee09",
   "metadata": {},
   "outputs": [
    {
     "data": {
      "text/plain": [
       "8.8"
      ]
     },
     "execution_count": 1374,
     "metadata": {},
     "output_type": "execute_result"
    }
   ],
   "source": [
    "lowerbound_acc"
   ]
  },
  {
   "cell_type": "code",
   "execution_count": 1375,
   "id": "2c8654a2",
   "metadata": {},
   "outputs": [
    {
     "data": {
      "text/plain": [
       "22.2"
      ]
     },
     "execution_count": 1375,
     "metadata": {},
     "output_type": "execute_result"
    }
   ],
   "source": [
    "upperbound_acc"
   ]
  },
  {
   "cell_type": "code",
   "execution_count": 1376,
   "id": "ba79927d",
   "metadata": {},
   "outputs": [
    {
     "data": {
      "text/plain": [
       "9.485"
      ]
     },
     "execution_count": 1376,
     "metadata": {},
     "output_type": "execute_result"
    }
   ],
   "source": [
    "x_df['acceleration'].quantile(0.01)"
   ]
  },
  {
   "cell_type": "code",
   "execution_count": 1377,
   "id": "e30319b7",
   "metadata": {},
   "outputs": [
    {
     "data": {
      "text/plain": [
       "21.806"
      ]
     },
     "execution_count": 1377,
     "metadata": {},
     "output_type": "execute_result"
    }
   ],
   "source": [
    "x_df['acceleration'].quantile(0.98)"
   ]
  },
  {
   "cell_type": "code",
   "execution_count": 1378,
   "id": "3e6b16b2",
   "metadata": {},
   "outputs": [],
   "source": [
    "df_table_win = winsorize(x_df['acceleration'],(0.01,0.02))"
   ]
  },
  {
   "cell_type": "code",
   "execution_count": 1380,
   "id": "a596adbd",
   "metadata": {},
   "outputs": [
    {
     "data": {
      "text/plain": [
       "<AxesSubplot:>"
      ]
     },
     "execution_count": 1380,
     "metadata": {},
     "output_type": "execute_result"
    },
    {
     "data": {
      "image/png": "[encoded data removed]",
      "text/plain": [
       "<Figure size 432x288 with 1 Axes>"
      ]
     },
     "metadata": {
      "needs_background": "light"
     },
     "output_type": "display_data"
    }
   ],
   "source": [
    "sns.boxplot(x = df_table_win)"
   ]
  },
  {
   "cell_type": "code",
   "execution_count": 1382,
   "id": "7c13ff79",
   "metadata": {},
   "outputs": [],
   "source": [
    "df_table_win = pd.DataFrame(df_table_win)"
   ]
  },
  {
   "cell_type": "code",
   "execution_count": 1383,
   "id": "1ee0ef45",
   "metadata": {},
   "outputs": [
    {
     "data": {
      "text/html": [
       "<div>\n",
       "<style scoped>\n",
       "    .dataframe tbody tr th:only-of-type {\n",
       "        vertical-align: middle;\n",
       "    }\n",
       "\n",
       "    .dataframe tbody tr th {\n",
       "        vertical-align: top;\n",
       "    }\n",
       "\n",
       "    .dataframe thead th {\n",
       "        text-align: right;\n",
       "    }\n",
       "</style>\n",
       "<table border=\"1\" class=\"dataframe\">\n",
       "  <thead>\n",
       "    <tr style=\"text-align: right;\">\n",
       "      <th></th>\n",
       "      <th>0</th>\n",
       "    </tr>\n",
       "  </thead>\n",
       "  <tbody>\n",
       "    <tr>\n",
       "      <th>count</th>\n",
       "      <td>398.000000</td>\n",
       "    </tr>\n",
       "    <tr>\n",
       "      <th>mean</th>\n",
       "      <td>15.548492</td>\n",
       "    </tr>\n",
       "    <tr>\n",
       "      <th>std</th>\n",
       "      <td>2.677161</td>\n",
       "    </tr>\n",
       "    <tr>\n",
       "      <th>min</th>\n",
       "      <td>9.000000</td>\n",
       "    </tr>\n",
       "    <tr>\n",
       "      <th>25%</th>\n",
       "      <td>13.825000</td>\n",
       "    </tr>\n",
       "    <tr>\n",
       "      <th>50%</th>\n",
       "      <td>15.500000</td>\n",
       "    </tr>\n",
       "    <tr>\n",
       "      <th>75%</th>\n",
       "      <td>17.175000</td>\n",
       "    </tr>\n",
       "    <tr>\n",
       "      <th>max</th>\n",
       "      <td>21.900000</td>\n",
       "    </tr>\n",
       "  </tbody>\n",
       "</table>\n",
       "</div>"
      ],
      "text/plain": [
       "                0\n",
       "count  398.000000\n",
       "mean    15.548492\n",
       "std      2.677161\n",
       "min      9.000000\n",
       "25%     13.825000\n",
       "50%     15.500000\n",
       "75%     17.175000\n",
       "max     21.900000"
      ]
     },
     "execution_count": 1383,
     "metadata": {},
     "output_type": "execute_result"
    }
   ],
   "source": [
    "df_table_win.describe()"
   ]
  },
  {
   "cell_type": "markdown",
   "id": "9a4fcfe9",
   "metadata": {},
   "source": [
    "# part 3 (f)"
   ]
  },
  {
   "cell_type": "code",
   "execution_count": 1384,
   "id": "f719f865",
   "metadata": {},
   "outputs": [],
   "source": [
    "#Display the correlation matrix using the seaborn heatmap function between continuous \n",
    "#variables; mpg, horsepower, weight, displacement, and acceleration. "
   ]
  },
  {
   "cell_type": "code",
   "execution_count": null,
   "id": "2ef7d6c6",
   "metadata": {},
   "outputs": [],
   "source": []
  }
 ],
 "metadata": {
  "kernelspec": {
   "display_name": "Python 3 (ipykernel)",
   "language": "python",
   "name": "python3"
  },
  "language_info": {
   "codemirror_mode": {
    "name": "ipython",
    "version": 3
   },
   "file_extension": ".py",
   "mimetype": "text/x-python",
   "name": "python",
   "nbconvert_exporter": "python",
   "pygments_lexer": "ipython3",
   "version": "3.9.12"
  }
 },
 "nbformat": 4,
 "nbformat_minor": 5
}
